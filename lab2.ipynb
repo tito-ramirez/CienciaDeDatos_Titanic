{
  "cells": [
    {
      "cell_type": "markdown",
      "id": "ca820fb5-d2b1-4329-a084-961942163786",
      "metadata": {
        "id": "ca820fb5-d2b1-4329-a084-961942163786"
      },
      "source": [
        "# **Laboratorio 2, A Titanic Probability.**\n",
        "#### El 15 de abril de 1912 el transatlántico de pasajeros más grande jamas construido \"Titanic\" chocó con un iceberg durante su viaje inagural. En su hundimiento murieron 1502 pasajeros de los 2224 que iban a bordo incluyendo a su tripulación."
      ]
    },
    {
      "cell_type": "markdown",
      "id": "a90c050a-ae32-44e2-bf1c-08c56b7b52c8",
      "metadata": {
        "id": "a90c050a-ae32-44e2-bf1c-08c56b7b52c8"
      },
      "source": [
        "#### El conjunto de datos \"titanic.csv\" contiene datos de 887 pasajeros reales del Titanic. Cada fila representa a una persona. \n",
        "\n",
        "#### Las columnas describen diferentes atributos sobre la persona: \n",
        "\n",
        "\n",
        "- sobrevivió (Survived)\n",
        "- clase de pasajero (Pclass)  \n",
        "- nombre (Name)\n",
        "- sexo (Sex)\n",
        "- edad (Age)\n",
        "- hermanos/conyugues abordo (Siblings/Spouses aboard) \n",
        "- padres/niños abordo (Parents/Children Aboard)  \n",
        "- tarifa que pagó en £s (Fare)."
      ]
    },
    {
      "cell_type": "markdown",
      "source": [
        "Primero que todo, se indica que se van a utilizar datos extraidos de google drive"
      ],
      "metadata": {
        "id": "yHvT6ZcDYzkK"
      },
      "id": "yHvT6ZcDYzkK"
    },
    {
      "cell_type": "markdown",
      "source": [
        "Se indica la ruta para acceder al archivo con el dataset"
      ],
      "metadata": {
        "id": "g2eeIcMqY9wK"
      },
      "id": "g2eeIcMqY9wK"
    },
    {
      "cell_type": "code",
      "source": [
        "from google.colab import drive\n",
        "drive.mount('/content/drive')"
      ],
      "metadata": {
        "colab": {
          "base_uri": "https://localhost:8080/"
        },
        "id": "8P7qEKmOBmkv",
        "outputId": "1bfff30c-2870-4543-d44b-148127028802"
      },
      "id": "8P7qEKmOBmkv",
      "execution_count": null,
      "outputs": [
        {
          "output_type": "stream",
          "name": "stdout",
          "text": [
            "Drive already mounted at /content/drive; to attempt to forcibly remount, call drive.mount(\"/content/drive\", force_remount=True).\n"
          ]
        }
      ]
    },
    {
      "cell_type": "code",
      "source": [
        "cd /content/drive/MyDrive/TIC\n"
      ],
      "metadata": {
        "id": "dbJJZvn5tJtL",
        "colab": {
          "base_uri": "https://localhost:8080/"
        },
        "outputId": "11a59d0e-576f-4562-8b81-6fed9f790fbb"
      },
      "execution_count": null,
      "outputs": [
        {
          "output_type": "stream",
          "name": "stdout",
          "text": [
            "/content/drive/MyDrive/TIC\n"
          ]
        }
      ],
      "id": "dbJJZvn5tJtL"
    },
    {
      "cell_type": "markdown",
      "id": "06c200d6-8bdd-4297-be34-d0542605c319",
      "metadata": {
        "id": "06c200d6-8bdd-4297-be34-d0542605c319"
      },
      "source": [
        "## **Cargando bibliotecas de python**"
      ]
    },
    {
      "cell_type": "code",
      "execution_count": null,
      "id": "1d40921c-352b-496a-bae8-b2c363c64ea6",
      "metadata": {
        "id": "1d40921c-352b-496a-bae8-b2c363c64ea6",
        "colab": {
          "base_uri": "https://localhost:8080/"
        },
        "outputId": "09e0279c-17c1-4f44-d65b-d5f5acca6a1e"
      },
      "outputs": [
        {
          "output_type": "stream",
          "name": "stdout",
          "text": [
            "Looking in indexes: https://pypi.org/simple, https://us-python.pkg.dev/colab-wheels/public/simple/\n",
            "Requirement already satisfied: scikit_posthocs in /usr/local/lib/python3.7/dist-packages (0.7.0)\n",
            "Requirement already satisfied: numpy in /usr/local/lib/python3.7/dist-packages (from scikit_posthocs) (1.21.6)\n",
            "Requirement already satisfied: scipy in /usr/local/lib/python3.7/dist-packages (from scikit_posthocs) (1.5.4)\n",
            "Requirement already satisfied: pandas>=0.20.0 in /usr/local/lib/python3.7/dist-packages (from scikit_posthocs) (1.3.5)\n",
            "Requirement already satisfied: matplotlib in /usr/local/lib/python3.7/dist-packages (from scikit_posthocs) (3.2.2)\n",
            "Requirement already satisfied: seaborn in /usr/local/lib/python3.7/dist-packages (from scikit_posthocs) (0.11.2)\n",
            "Requirement already satisfied: statsmodels in /usr/local/lib/python3.7/dist-packages (from scikit_posthocs) (0.10.2)\n",
            "Requirement already satisfied: pytz>=2017.3 in /usr/local/lib/python3.7/dist-packages (from pandas>=0.20.0->scikit_posthocs) (2022.1)\n",
            "Requirement already satisfied: python-dateutil>=2.7.3 in /usr/local/lib/python3.7/dist-packages (from pandas>=0.20.0->scikit_posthocs) (2.8.2)\n",
            "Requirement already satisfied: six>=1.5 in /usr/local/lib/python3.7/dist-packages (from python-dateutil>=2.7.3->pandas>=0.20.0->scikit_posthocs) (1.15.0)\n",
            "Requirement already satisfied: kiwisolver>=1.0.1 in /usr/local/lib/python3.7/dist-packages (from matplotlib->scikit_posthocs) (1.4.3)\n",
            "Requirement already satisfied: pyparsing!=2.0.4,!=2.1.2,!=2.1.6,>=2.0.1 in /usr/local/lib/python3.7/dist-packages (from matplotlib->scikit_posthocs) (3.0.9)\n",
            "Requirement already satisfied: cycler>=0.10 in /usr/local/lib/python3.7/dist-packages (from matplotlib->scikit_posthocs) (0.11.0)\n",
            "Requirement already satisfied: typing-extensions in /usr/local/lib/python3.7/dist-packages (from kiwisolver>=1.0.1->matplotlib->scikit_posthocs) (4.1.1)\n",
            "Requirement already satisfied: patsy>=0.4.0 in /usr/local/lib/python3.7/dist-packages (from statsmodels->scikit_posthocs) (0.5.2)\n"
          ]
        },
        {
          "output_type": "stream",
          "name": "stderr",
          "text": [
            "/usr/local/lib/python3.7/dist-packages/statsmodels/tools/_testing.py:19: FutureWarning: pandas.util.testing is deprecated. Use the functions in the public API at pandas.testing instead.\n",
            "  import pandas.util.testing as tm\n"
          ]
        }
      ],
      "source": [
        "!pip install scikit_posthocs\n",
        "import pandas as pd #se importan el modulo panda para el trabajo con el DataSet\n",
        "import matplotlib.pyplot as plt #para plotear graficas\n",
        "import seaborn as sns #para graficar\n",
        "import numpy as np\n",
        "from scipy import stats\n",
        "import scikit_posthocs as sp"
      ]
    },
    {
      "cell_type": "markdown",
      "id": "2a1b95a3-a8b8-46c7-954e-b152c3154d33",
      "metadata": {
        "id": "2a1b95a3-a8b8-46c7-954e-b152c3154d33"
      },
      "source": [
        "## **Cargando Datos**"
      ]
    },
    {
      "cell_type": "code",
      "execution_count": null,
      "id": "6c450c08-542b-4659-b8d5-4b9a6be9cc81",
      "metadata": {
        "id": "6c450c08-542b-4659-b8d5-4b9a6be9cc81",
        "colab": {
          "base_uri": "https://localhost:8080/",
          "height": 206
        },
        "outputId": "e6ed9e13-6c8b-4be1-85a8-2885d754b466"
      },
      "outputs": [
        {
          "output_type": "execute_result",
          "data": {
            "text/plain": [
              "   Survived  Pclass                                               Name  \\\n",
              "0         0       3                             Mr. Owen Harris Braund   \n",
              "1         1       1  Mrs. John Bradley (Florence Briggs Thayer) Cum...   \n",
              "2         1       3                              Miss. Laina Heikkinen   \n",
              "3         1       1        Mrs. Jacques Heath (Lily May Peel) Futrelle   \n",
              "4         0       3                            Mr. William Henry Allen   \n",
              "\n",
              "      Sex   Age  Siblings/Spouses Aboard  Parents/Children Aboard     Fare  \n",
              "0    male  22.0                        1                        0   7.2500  \n",
              "1  female  38.0                        1                        0  71.2833  \n",
              "2  female  26.0                        0                        0   7.9250  \n",
              "3  female  35.0                        1                        0  53.1000  \n",
              "4    male  35.0                        0                        0   8.0500  "
            ],
            "text/html": [
              "\n",
              "  <div id=\"df-b012f5a3-697b-4b9e-a604-f1686fb79ec9\">\n",
              "    <div class=\"colab-df-container\">\n",
              "      <div>\n",
              "<style scoped>\n",
              "    .dataframe tbody tr th:only-of-type {\n",
              "        vertical-align: middle;\n",
              "    }\n",
              "\n",
              "    .dataframe tbody tr th {\n",
              "        vertical-align: top;\n",
              "    }\n",
              "\n",
              "    .dataframe thead th {\n",
              "        text-align: right;\n",
              "    }\n",
              "</style>\n",
              "<table border=\"1\" class=\"dataframe\">\n",
              "  <thead>\n",
              "    <tr style=\"text-align: right;\">\n",
              "      <th></th>\n",
              "      <th>Survived</th>\n",
              "      <th>Pclass</th>\n",
              "      <th>Name</th>\n",
              "      <th>Sex</th>\n",
              "      <th>Age</th>\n",
              "      <th>Siblings/Spouses Aboard</th>\n",
              "      <th>Parents/Children Aboard</th>\n",
              "      <th>Fare</th>\n",
              "    </tr>\n",
              "  </thead>\n",
              "  <tbody>\n",
              "    <tr>\n",
              "      <th>0</th>\n",
              "      <td>0</td>\n",
              "      <td>3</td>\n",
              "      <td>Mr. Owen Harris Braund</td>\n",
              "      <td>male</td>\n",
              "      <td>22.0</td>\n",
              "      <td>1</td>\n",
              "      <td>0</td>\n",
              "      <td>7.2500</td>\n",
              "    </tr>\n",
              "    <tr>\n",
              "      <th>1</th>\n",
              "      <td>1</td>\n",
              "      <td>1</td>\n",
              "      <td>Mrs. John Bradley (Florence Briggs Thayer) Cum...</td>\n",
              "      <td>female</td>\n",
              "      <td>38.0</td>\n",
              "      <td>1</td>\n",
              "      <td>0</td>\n",
              "      <td>71.2833</td>\n",
              "    </tr>\n",
              "    <tr>\n",
              "      <th>2</th>\n",
              "      <td>1</td>\n",
              "      <td>3</td>\n",
              "      <td>Miss. Laina Heikkinen</td>\n",
              "      <td>female</td>\n",
              "      <td>26.0</td>\n",
              "      <td>0</td>\n",
              "      <td>0</td>\n",
              "      <td>7.9250</td>\n",
              "    </tr>\n",
              "    <tr>\n",
              "      <th>3</th>\n",
              "      <td>1</td>\n",
              "      <td>1</td>\n",
              "      <td>Mrs. Jacques Heath (Lily May Peel) Futrelle</td>\n",
              "      <td>female</td>\n",
              "      <td>35.0</td>\n",
              "      <td>1</td>\n",
              "      <td>0</td>\n",
              "      <td>53.1000</td>\n",
              "    </tr>\n",
              "    <tr>\n",
              "      <th>4</th>\n",
              "      <td>0</td>\n",
              "      <td>3</td>\n",
              "      <td>Mr. William Henry Allen</td>\n",
              "      <td>male</td>\n",
              "      <td>35.0</td>\n",
              "      <td>0</td>\n",
              "      <td>0</td>\n",
              "      <td>8.0500</td>\n",
              "    </tr>\n",
              "  </tbody>\n",
              "</table>\n",
              "</div>\n",
              "      <button class=\"colab-df-convert\" onclick=\"convertToInteractive('df-b012f5a3-697b-4b9e-a604-f1686fb79ec9')\"\n",
              "              title=\"Convert this dataframe to an interactive table.\"\n",
              "              style=\"display:none;\">\n",
              "        \n",
              "  <svg xmlns=\"http://www.w3.org/2000/svg\" height=\"24px\"viewBox=\"0 0 24 24\"\n",
              "       width=\"24px\">\n",
              "    <path d=\"M0 0h24v24H0V0z\" fill=\"none\"/>\n",
              "    <path d=\"M18.56 5.44l.94 2.06.94-2.06 2.06-.94-2.06-.94-.94-2.06-.94 2.06-2.06.94zm-11 1L8.5 8.5l.94-2.06 2.06-.94-2.06-.94L8.5 2.5l-.94 2.06-2.06.94zm10 10l.94 2.06.94-2.06 2.06-.94-2.06-.94-.94-2.06-.94 2.06-2.06.94z\"/><path d=\"M17.41 7.96l-1.37-1.37c-.4-.4-.92-.59-1.43-.59-.52 0-1.04.2-1.43.59L10.3 9.45l-7.72 7.72c-.78.78-.78 2.05 0 2.83L4 21.41c.39.39.9.59 1.41.59.51 0 1.02-.2 1.41-.59l7.78-7.78 2.81-2.81c.8-.78.8-2.07 0-2.86zM5.41 20L4 18.59l7.72-7.72 1.47 1.35L5.41 20z\"/>\n",
              "  </svg>\n",
              "      </button>\n",
              "      \n",
              "  <style>\n",
              "    .colab-df-container {\n",
              "      display:flex;\n",
              "      flex-wrap:wrap;\n",
              "      gap: 12px;\n",
              "    }\n",
              "\n",
              "    .colab-df-convert {\n",
              "      background-color: #E8F0FE;\n",
              "      border: none;\n",
              "      border-radius: 50%;\n",
              "      cursor: pointer;\n",
              "      display: none;\n",
              "      fill: #1967D2;\n",
              "      height: 32px;\n",
              "      padding: 0 0 0 0;\n",
              "      width: 32px;\n",
              "    }\n",
              "\n",
              "    .colab-df-convert:hover {\n",
              "      background-color: #E2EBFA;\n",
              "      box-shadow: 0px 1px 2px rgba(60, 64, 67, 0.3), 0px 1px 3px 1px rgba(60, 64, 67, 0.15);\n",
              "      fill: #174EA6;\n",
              "    }\n",
              "\n",
              "    [theme=dark] .colab-df-convert {\n",
              "      background-color: #3B4455;\n",
              "      fill: #D2E3FC;\n",
              "    }\n",
              "\n",
              "    [theme=dark] .colab-df-convert:hover {\n",
              "      background-color: #434B5C;\n",
              "      box-shadow: 0px 1px 3px 1px rgba(0, 0, 0, 0.15);\n",
              "      filter: drop-shadow(0px 1px 2px rgba(0, 0, 0, 0.3));\n",
              "      fill: #FFFFFF;\n",
              "    }\n",
              "  </style>\n",
              "\n",
              "      <script>\n",
              "        const buttonEl =\n",
              "          document.querySelector('#df-b012f5a3-697b-4b9e-a604-f1686fb79ec9 button.colab-df-convert');\n",
              "        buttonEl.style.display =\n",
              "          google.colab.kernel.accessAllowed ? 'block' : 'none';\n",
              "\n",
              "        async function convertToInteractive(key) {\n",
              "          const element = document.querySelector('#df-b012f5a3-697b-4b9e-a604-f1686fb79ec9');\n",
              "          const dataTable =\n",
              "            await google.colab.kernel.invokeFunction('convertToInteractive',\n",
              "                                                     [key], {});\n",
              "          if (!dataTable) return;\n",
              "\n",
              "          const docLinkHtml = 'Like what you see? Visit the ' +\n",
              "            '<a target=\"_blank\" href=https://colab.research.google.com/notebooks/data_table.ipynb>data table notebook</a>'\n",
              "            + ' to learn more about interactive tables.';\n",
              "          element.innerHTML = '';\n",
              "          dataTable['output_type'] = 'display_data';\n",
              "          await google.colab.output.renderOutput(dataTable, element);\n",
              "          const docLink = document.createElement('div');\n",
              "          docLink.innerHTML = docLinkHtml;\n",
              "          element.appendChild(docLink);\n",
              "        }\n",
              "      </script>\n",
              "    </div>\n",
              "  </div>\n",
              "  "
            ]
          },
          "metadata": {},
          "execution_count": 4
        }
      ],
      "source": [
        "df = pd.read_csv('titanic.csv',sep=',')#notar que los archivos estan separados por coma no por punto y coma\n",
        "df.head() #para comprobar como cargaron los datos"
      ]
    },
    {
      "cell_type": "code",
      "execution_count": null,
      "id": "9f08828f-d01c-4507-8700-c398d450070a",
      "metadata": {
        "id": "9f08828f-d01c-4507-8700-c398d450070a",
        "colab": {
          "base_uri": "https://localhost:8080/"
        },
        "outputId": "c8088ee7-cb42-4e32-a0ae-716a4ad98c0a"
      },
      "outputs": [
        {
          "output_type": "stream",
          "name": "stdout",
          "text": [
            "<class 'pandas.core.frame.DataFrame'>\n",
            "RangeIndex: 887 entries, 0 to 886\n",
            "Data columns (total 8 columns):\n",
            " #   Column                   Non-Null Count  Dtype  \n",
            "---  ------                   --------------  -----  \n",
            " 0   Survived                 887 non-null    int64  \n",
            " 1   Pclass                   887 non-null    int64  \n",
            " 2   Name                     887 non-null    object \n",
            " 3   Sex                      887 non-null    object \n",
            " 4   Age                      887 non-null    float64\n",
            " 5   Siblings/Spouses Aboard  887 non-null    int64  \n",
            " 6   Parents/Children Aboard  887 non-null    int64  \n",
            " 7   Fare                     887 non-null    float64\n",
            "dtypes: float64(2), int64(4), object(2)\n",
            "memory usage: 55.6+ KB\n"
          ]
        }
      ],
      "source": [
        "df.info()#identificando el tipo de dato"
      ]
    },
    {
      "cell_type": "code",
      "execution_count": null,
      "id": "7ab05552-9ef3-48da-9dfd-0a61b2b743a3",
      "metadata": {
        "id": "7ab05552-9ef3-48da-9dfd-0a61b2b743a3",
        "colab": {
          "base_uri": "https://localhost:8080/"
        },
        "outputId": "1dfaf8b5-0787-432b-96d1-59dc9ca2c228"
      },
      "outputs": [
        {
          "output_type": "execute_result",
          "data": {
            "text/plain": [
              "887"
            ]
          },
          "metadata": {},
          "execution_count": 6
        }
      ],
      "source": [
        "cName = df[\"Name\"].unique() #Genera un array con los nombres unicos de los pasajeros\n",
        "len(cName) #cuenta el numero de elementos en el array"
      ]
    },
    {
      "cell_type": "markdown",
      "id": "df3227ae-95b5-4453-8d0d-6bb6790e8e30",
      "metadata": {
        "id": "df3227ae-95b5-4453-8d0d-6bb6790e8e30"
      },
      "source": [
        "#### Esto muestra que el nombre de cada pasajero es unico"
      ]
    },
    {
      "cell_type": "markdown",
      "id": "18cd9aa3-ffda-4e33-b185-cb6308de2230",
      "metadata": {
        "id": "18cd9aa3-ffda-4e33-b185-cb6308de2230"
      },
      "source": [
        "\n",
        "#### El tipo Name podria quedar como un identificador unico de cada fila ya que ningun nombre de pasajero se repite, asi moveremos esta columna a la primera posicion de izquierda a derecha\n",
        "#### Tambien podemos decir que los tipos de datos estan bien asignados a cada variable ademas que no existen elementos nulos."
      ]
    },
    {
      "cell_type": "markdown",
      "id": "13dcfe04-2dc2-42a5-8e18-d7a8720155ba",
      "metadata": {
        "tags": [],
        "id": "13dcfe04-2dc2-42a5-8e18-d7a8720155ba"
      },
      "source": [
        "#### Los Dtype estan bien asignados siendo enteros, tipo coma flotante y objetos para las cadenas\n",
        "#### Podemos observar que se tienen 4 tipos de datos cuantitativos:\n",
        "\n",
        "- Age\n",
        "- Siblings/Spouses Aboard\n",
        "- Parents/Children Aboard\n",
        "- Fare\n",
        "\n",
        "#### Y los otros 4 son cualitativos nominales:\n",
        "- Survived \n",
        "- Pclass\n",
        "- Name\n",
        "- Sex"
      ]
    },
    {
      "cell_type": "code",
      "execution_count": null,
      "id": "7d0e7e49-2c60-4e4e-ab41-e0cc431ff894",
      "metadata": {
        "id": "7d0e7e49-2c60-4e4e-ab41-e0cc431ff894",
        "colab": {
          "base_uri": "https://localhost:8080/",
          "height": 206
        },
        "outputId": "e1913cc5-a381-4703-ed9b-797dd1ca58e5"
      },
      "outputs": [
        {
          "output_type": "execute_result",
          "data": {
            "text/plain": [
              "                                                Name  Survived  Pclass  \\\n",
              "0                             Mr. Owen Harris Braund         0       3   \n",
              "1  Mrs. John Bradley (Florence Briggs Thayer) Cum...         1       1   \n",
              "2                              Miss. Laina Heikkinen         1       3   \n",
              "3        Mrs. Jacques Heath (Lily May Peel) Futrelle         1       1   \n",
              "4                            Mr. William Henry Allen         0       3   \n",
              "\n",
              "      Sex   Age  SiblingsSpousesAboard  ParentsChildrenAboard     Fare  \n",
              "0    male  22.0                      1                      0   7.2500  \n",
              "1  female  38.0                      1                      0  71.2833  \n",
              "2  female  26.0                      0                      0   7.9250  \n",
              "3  female  35.0                      1                      0  53.1000  \n",
              "4    male  35.0                      0                      0   8.0500  "
            ],
            "text/html": [
              "\n",
              "  <div id=\"df-0021c0b4-27e0-4593-836f-1b552bc0a630\">\n",
              "    <div class=\"colab-df-container\">\n",
              "      <div>\n",
              "<style scoped>\n",
              "    .dataframe tbody tr th:only-of-type {\n",
              "        vertical-align: middle;\n",
              "    }\n",
              "\n",
              "    .dataframe tbody tr th {\n",
              "        vertical-align: top;\n",
              "    }\n",
              "\n",
              "    .dataframe thead th {\n",
              "        text-align: right;\n",
              "    }\n",
              "</style>\n",
              "<table border=\"1\" class=\"dataframe\">\n",
              "  <thead>\n",
              "    <tr style=\"text-align: right;\">\n",
              "      <th></th>\n",
              "      <th>Name</th>\n",
              "      <th>Survived</th>\n",
              "      <th>Pclass</th>\n",
              "      <th>Sex</th>\n",
              "      <th>Age</th>\n",
              "      <th>SiblingsSpousesAboard</th>\n",
              "      <th>ParentsChildrenAboard</th>\n",
              "      <th>Fare</th>\n",
              "    </tr>\n",
              "  </thead>\n",
              "  <tbody>\n",
              "    <tr>\n",
              "      <th>0</th>\n",
              "      <td>Mr. Owen Harris Braund</td>\n",
              "      <td>0</td>\n",
              "      <td>3</td>\n",
              "      <td>male</td>\n",
              "      <td>22.0</td>\n",
              "      <td>1</td>\n",
              "      <td>0</td>\n",
              "      <td>7.2500</td>\n",
              "    </tr>\n",
              "    <tr>\n",
              "      <th>1</th>\n",
              "      <td>Mrs. John Bradley (Florence Briggs Thayer) Cum...</td>\n",
              "      <td>1</td>\n",
              "      <td>1</td>\n",
              "      <td>female</td>\n",
              "      <td>38.0</td>\n",
              "      <td>1</td>\n",
              "      <td>0</td>\n",
              "      <td>71.2833</td>\n",
              "    </tr>\n",
              "    <tr>\n",
              "      <th>2</th>\n",
              "      <td>Miss. Laina Heikkinen</td>\n",
              "      <td>1</td>\n",
              "      <td>3</td>\n",
              "      <td>female</td>\n",
              "      <td>26.0</td>\n",
              "      <td>0</td>\n",
              "      <td>0</td>\n",
              "      <td>7.9250</td>\n",
              "    </tr>\n",
              "    <tr>\n",
              "      <th>3</th>\n",
              "      <td>Mrs. Jacques Heath (Lily May Peel) Futrelle</td>\n",
              "      <td>1</td>\n",
              "      <td>1</td>\n",
              "      <td>female</td>\n",
              "      <td>35.0</td>\n",
              "      <td>1</td>\n",
              "      <td>0</td>\n",
              "      <td>53.1000</td>\n",
              "    </tr>\n",
              "    <tr>\n",
              "      <th>4</th>\n",
              "      <td>Mr. William Henry Allen</td>\n",
              "      <td>0</td>\n",
              "      <td>3</td>\n",
              "      <td>male</td>\n",
              "      <td>35.0</td>\n",
              "      <td>0</td>\n",
              "      <td>0</td>\n",
              "      <td>8.0500</td>\n",
              "    </tr>\n",
              "  </tbody>\n",
              "</table>\n",
              "</div>\n",
              "      <button class=\"colab-df-convert\" onclick=\"convertToInteractive('df-0021c0b4-27e0-4593-836f-1b552bc0a630')\"\n",
              "              title=\"Convert this dataframe to an interactive table.\"\n",
              "              style=\"display:none;\">\n",
              "        \n",
              "  <svg xmlns=\"http://www.w3.org/2000/svg\" height=\"24px\"viewBox=\"0 0 24 24\"\n",
              "       width=\"24px\">\n",
              "    <path d=\"M0 0h24v24H0V0z\" fill=\"none\"/>\n",
              "    <path d=\"M18.56 5.44l.94 2.06.94-2.06 2.06-.94-2.06-.94-.94-2.06-.94 2.06-2.06.94zm-11 1L8.5 8.5l.94-2.06 2.06-.94-2.06-.94L8.5 2.5l-.94 2.06-2.06.94zm10 10l.94 2.06.94-2.06 2.06-.94-2.06-.94-.94-2.06-.94 2.06-2.06.94z\"/><path d=\"M17.41 7.96l-1.37-1.37c-.4-.4-.92-.59-1.43-.59-.52 0-1.04.2-1.43.59L10.3 9.45l-7.72 7.72c-.78.78-.78 2.05 0 2.83L4 21.41c.39.39.9.59 1.41.59.51 0 1.02-.2 1.41-.59l7.78-7.78 2.81-2.81c.8-.78.8-2.07 0-2.86zM5.41 20L4 18.59l7.72-7.72 1.47 1.35L5.41 20z\"/>\n",
              "  </svg>\n",
              "      </button>\n",
              "      \n",
              "  <style>\n",
              "    .colab-df-container {\n",
              "      display:flex;\n",
              "      flex-wrap:wrap;\n",
              "      gap: 12px;\n",
              "    }\n",
              "\n",
              "    .colab-df-convert {\n",
              "      background-color: #E8F0FE;\n",
              "      border: none;\n",
              "      border-radius: 50%;\n",
              "      cursor: pointer;\n",
              "      display: none;\n",
              "      fill: #1967D2;\n",
              "      height: 32px;\n",
              "      padding: 0 0 0 0;\n",
              "      width: 32px;\n",
              "    }\n",
              "\n",
              "    .colab-df-convert:hover {\n",
              "      background-color: #E2EBFA;\n",
              "      box-shadow: 0px 1px 2px rgba(60, 64, 67, 0.3), 0px 1px 3px 1px rgba(60, 64, 67, 0.15);\n",
              "      fill: #174EA6;\n",
              "    }\n",
              "\n",
              "    [theme=dark] .colab-df-convert {\n",
              "      background-color: #3B4455;\n",
              "      fill: #D2E3FC;\n",
              "    }\n",
              "\n",
              "    [theme=dark] .colab-df-convert:hover {\n",
              "      background-color: #434B5C;\n",
              "      box-shadow: 0px 1px 3px 1px rgba(0, 0, 0, 0.15);\n",
              "      filter: drop-shadow(0px 1px 2px rgba(0, 0, 0, 0.3));\n",
              "      fill: #FFFFFF;\n",
              "    }\n",
              "  </style>\n",
              "\n",
              "      <script>\n",
              "        const buttonEl =\n",
              "          document.querySelector('#df-0021c0b4-27e0-4593-836f-1b552bc0a630 button.colab-df-convert');\n",
              "        buttonEl.style.display =\n",
              "          google.colab.kernel.accessAllowed ? 'block' : 'none';\n",
              "\n",
              "        async function convertToInteractive(key) {\n",
              "          const element = document.querySelector('#df-0021c0b4-27e0-4593-836f-1b552bc0a630');\n",
              "          const dataTable =\n",
              "            await google.colab.kernel.invokeFunction('convertToInteractive',\n",
              "                                                     [key], {});\n",
              "          if (!dataTable) return;\n",
              "\n",
              "          const docLinkHtml = 'Like what you see? Visit the ' +\n",
              "            '<a target=\"_blank\" href=https://colab.research.google.com/notebooks/data_table.ipynb>data table notebook</a>'\n",
              "            + ' to learn more about interactive tables.';\n",
              "          element.innerHTML = '';\n",
              "          dataTable['output_type'] = 'display_data';\n",
              "          await google.colab.output.renderOutput(dataTable, element);\n",
              "          const docLink = document.createElement('div');\n",
              "          docLink.innerHTML = docLinkHtml;\n",
              "          element.appendChild(docLink);\n",
              "        }\n",
              "      </script>\n",
              "    </div>\n",
              "  </div>\n",
              "  "
            ]
          },
          "metadata": {},
          "execution_count": 7
        }
      ],
      "source": [
        "cols = df.columns.tolist()\n",
        "reorder_cols = cols[-6:-5] + cols[0:2] + cols[3:] \n",
        "df1 = df[reorder_cols] #cambia el orden del DataFrame dejando a Name al principio\n",
        "df1.columns = ['Name', 'Survived', 'Pclass', 'Sex', 'Age', 'SiblingsSpousesAboard', 'ParentsChildrenAboard', 'Fare'] #Renombrando nombres de columnas para que no tengamos problemas al invocarlas\n",
        "df1.head() #Asi quedara el DataFrame con el que trabajaremos"
      ]
    },
    {
      "cell_type": "code",
      "source": [
        "sexCategorica = df1.filter(['Sex'])\n",
        "sexNumerical = pd.get_dummies(sexCategorica.iloc[:,0], drop_first=True) #se transforma Sex a tipo numerico\n"
      ],
      "metadata": {
        "id": "31HevnGyKCmq"
      },
      "id": "31HevnGyKCmq",
      "execution_count": null,
      "outputs": []
    },
    {
      "cell_type": "code",
      "source": [
        "df1 = df1.drop(['Sex'], axis=1) #elimina la columna Sex\n",
        "df1 = pd.concat([df1, sexNumerical], axis=1) #se concatena a el DataFrame principal SexNumerical\n",
        "df1.columns = ['Name', 'Survived', 'Pclass', 'Age', 'SiblingsSpousesAboard', 'ParentsChildrenAboard', 'Fare', 'Sex'] #se renombran las columnas\n",
        "df1"
      ],
      "metadata": {
        "id": "_QtxSiLbISA9",
        "colab": {
          "base_uri": "https://localhost:8080/",
          "height": 424
        },
        "outputId": "77158a87-5fa6-46ea-8037-8fd9f439cc4d"
      },
      "id": "_QtxSiLbISA9",
      "execution_count": null,
      "outputs": [
        {
          "output_type": "execute_result",
          "data": {
            "text/plain": [
              "                                                  Name  Survived  Pclass  \\\n",
              "0                               Mr. Owen Harris Braund         0       3   \n",
              "1    Mrs. John Bradley (Florence Briggs Thayer) Cum...         1       1   \n",
              "2                                Miss. Laina Heikkinen         1       3   \n",
              "3          Mrs. Jacques Heath (Lily May Peel) Futrelle         1       1   \n",
              "4                              Mr. William Henry Allen         0       3   \n",
              "..                                                 ...       ...     ...   \n",
              "882                               Rev. Juozas Montvila         0       2   \n",
              "883                        Miss. Margaret Edith Graham         1       1   \n",
              "884                     Miss. Catherine Helen Johnston         0       3   \n",
              "885                               Mr. Karl Howell Behr         1       1   \n",
              "886                                 Mr. Patrick Dooley         0       3   \n",
              "\n",
              "      Age  SiblingsSpousesAboard  ParentsChildrenAboard     Fare  Sex  \n",
              "0    22.0                      1                      0   7.2500    1  \n",
              "1    38.0                      1                      0  71.2833    0  \n",
              "2    26.0                      0                      0   7.9250    0  \n",
              "3    35.0                      1                      0  53.1000    0  \n",
              "4    35.0                      0                      0   8.0500    1  \n",
              "..    ...                    ...                    ...      ...  ...  \n",
              "882  27.0                      0                      0  13.0000    1  \n",
              "883  19.0                      0                      0  30.0000    0  \n",
              "884   7.0                      1                      2  23.4500    0  \n",
              "885  26.0                      0                      0  30.0000    1  \n",
              "886  32.0                      0                      0   7.7500    1  \n",
              "\n",
              "[887 rows x 8 columns]"
            ],
            "text/html": [
              "\n",
              "  <div id=\"df-5305ab4b-254a-427c-bab3-632bebad8592\">\n",
              "    <div class=\"colab-df-container\">\n",
              "      <div>\n",
              "<style scoped>\n",
              "    .dataframe tbody tr th:only-of-type {\n",
              "        vertical-align: middle;\n",
              "    }\n",
              "\n",
              "    .dataframe tbody tr th {\n",
              "        vertical-align: top;\n",
              "    }\n",
              "\n",
              "    .dataframe thead th {\n",
              "        text-align: right;\n",
              "    }\n",
              "</style>\n",
              "<table border=\"1\" class=\"dataframe\">\n",
              "  <thead>\n",
              "    <tr style=\"text-align: right;\">\n",
              "      <th></th>\n",
              "      <th>Name</th>\n",
              "      <th>Survived</th>\n",
              "      <th>Pclass</th>\n",
              "      <th>Age</th>\n",
              "      <th>SiblingsSpousesAboard</th>\n",
              "      <th>ParentsChildrenAboard</th>\n",
              "      <th>Fare</th>\n",
              "      <th>Sex</th>\n",
              "    </tr>\n",
              "  </thead>\n",
              "  <tbody>\n",
              "    <tr>\n",
              "      <th>0</th>\n",
              "      <td>Mr. Owen Harris Braund</td>\n",
              "      <td>0</td>\n",
              "      <td>3</td>\n",
              "      <td>22.0</td>\n",
              "      <td>1</td>\n",
              "      <td>0</td>\n",
              "      <td>7.2500</td>\n",
              "      <td>1</td>\n",
              "    </tr>\n",
              "    <tr>\n",
              "      <th>1</th>\n",
              "      <td>Mrs. John Bradley (Florence Briggs Thayer) Cum...</td>\n",
              "      <td>1</td>\n",
              "      <td>1</td>\n",
              "      <td>38.0</td>\n",
              "      <td>1</td>\n",
              "      <td>0</td>\n",
              "      <td>71.2833</td>\n",
              "      <td>0</td>\n",
              "    </tr>\n",
              "    <tr>\n",
              "      <th>2</th>\n",
              "      <td>Miss. Laina Heikkinen</td>\n",
              "      <td>1</td>\n",
              "      <td>3</td>\n",
              "      <td>26.0</td>\n",
              "      <td>0</td>\n",
              "      <td>0</td>\n",
              "      <td>7.9250</td>\n",
              "      <td>0</td>\n",
              "    </tr>\n",
              "    <tr>\n",
              "      <th>3</th>\n",
              "      <td>Mrs. Jacques Heath (Lily May Peel) Futrelle</td>\n",
              "      <td>1</td>\n",
              "      <td>1</td>\n",
              "      <td>35.0</td>\n",
              "      <td>1</td>\n",
              "      <td>0</td>\n",
              "      <td>53.1000</td>\n",
              "      <td>0</td>\n",
              "    </tr>\n",
              "    <tr>\n",
              "      <th>4</th>\n",
              "      <td>Mr. William Henry Allen</td>\n",
              "      <td>0</td>\n",
              "      <td>3</td>\n",
              "      <td>35.0</td>\n",
              "      <td>0</td>\n",
              "      <td>0</td>\n",
              "      <td>8.0500</td>\n",
              "      <td>1</td>\n",
              "    </tr>\n",
              "    <tr>\n",
              "      <th>...</th>\n",
              "      <td>...</td>\n",
              "      <td>...</td>\n",
              "      <td>...</td>\n",
              "      <td>...</td>\n",
              "      <td>...</td>\n",
              "      <td>...</td>\n",
              "      <td>...</td>\n",
              "      <td>...</td>\n",
              "    </tr>\n",
              "    <tr>\n",
              "      <th>882</th>\n",
              "      <td>Rev. Juozas Montvila</td>\n",
              "      <td>0</td>\n",
              "      <td>2</td>\n",
              "      <td>27.0</td>\n",
              "      <td>0</td>\n",
              "      <td>0</td>\n",
              "      <td>13.0000</td>\n",
              "      <td>1</td>\n",
              "    </tr>\n",
              "    <tr>\n",
              "      <th>883</th>\n",
              "      <td>Miss. Margaret Edith Graham</td>\n",
              "      <td>1</td>\n",
              "      <td>1</td>\n",
              "      <td>19.0</td>\n",
              "      <td>0</td>\n",
              "      <td>0</td>\n",
              "      <td>30.0000</td>\n",
              "      <td>0</td>\n",
              "    </tr>\n",
              "    <tr>\n",
              "      <th>884</th>\n",
              "      <td>Miss. Catherine Helen Johnston</td>\n",
              "      <td>0</td>\n",
              "      <td>3</td>\n",
              "      <td>7.0</td>\n",
              "      <td>1</td>\n",
              "      <td>2</td>\n",
              "      <td>23.4500</td>\n",
              "      <td>0</td>\n",
              "    </tr>\n",
              "    <tr>\n",
              "      <th>885</th>\n",
              "      <td>Mr. Karl Howell Behr</td>\n",
              "      <td>1</td>\n",
              "      <td>1</td>\n",
              "      <td>26.0</td>\n",
              "      <td>0</td>\n",
              "      <td>0</td>\n",
              "      <td>30.0000</td>\n",
              "      <td>1</td>\n",
              "    </tr>\n",
              "    <tr>\n",
              "      <th>886</th>\n",
              "      <td>Mr. Patrick Dooley</td>\n",
              "      <td>0</td>\n",
              "      <td>3</td>\n",
              "      <td>32.0</td>\n",
              "      <td>0</td>\n",
              "      <td>0</td>\n",
              "      <td>7.7500</td>\n",
              "      <td>1</td>\n",
              "    </tr>\n",
              "  </tbody>\n",
              "</table>\n",
              "<p>887 rows × 8 columns</p>\n",
              "</div>\n",
              "      <button class=\"colab-df-convert\" onclick=\"convertToInteractive('df-5305ab4b-254a-427c-bab3-632bebad8592')\"\n",
              "              title=\"Convert this dataframe to an interactive table.\"\n",
              "              style=\"display:none;\">\n",
              "        \n",
              "  <svg xmlns=\"http://www.w3.org/2000/svg\" height=\"24px\"viewBox=\"0 0 24 24\"\n",
              "       width=\"24px\">\n",
              "    <path d=\"M0 0h24v24H0V0z\" fill=\"none\"/>\n",
              "    <path d=\"M18.56 5.44l.94 2.06.94-2.06 2.06-.94-2.06-.94-.94-2.06-.94 2.06-2.06.94zm-11 1L8.5 8.5l.94-2.06 2.06-.94-2.06-.94L8.5 2.5l-.94 2.06-2.06.94zm10 10l.94 2.06.94-2.06 2.06-.94-2.06-.94-.94-2.06-.94 2.06-2.06.94z\"/><path d=\"M17.41 7.96l-1.37-1.37c-.4-.4-.92-.59-1.43-.59-.52 0-1.04.2-1.43.59L10.3 9.45l-7.72 7.72c-.78.78-.78 2.05 0 2.83L4 21.41c.39.39.9.59 1.41.59.51 0 1.02-.2 1.41-.59l7.78-7.78 2.81-2.81c.8-.78.8-2.07 0-2.86zM5.41 20L4 18.59l7.72-7.72 1.47 1.35L5.41 20z\"/>\n",
              "  </svg>\n",
              "      </button>\n",
              "      \n",
              "  <style>\n",
              "    .colab-df-container {\n",
              "      display:flex;\n",
              "      flex-wrap:wrap;\n",
              "      gap: 12px;\n",
              "    }\n",
              "\n",
              "    .colab-df-convert {\n",
              "      background-color: #E8F0FE;\n",
              "      border: none;\n",
              "      border-radius: 50%;\n",
              "      cursor: pointer;\n",
              "      display: none;\n",
              "      fill: #1967D2;\n",
              "      height: 32px;\n",
              "      padding: 0 0 0 0;\n",
              "      width: 32px;\n",
              "    }\n",
              "\n",
              "    .colab-df-convert:hover {\n",
              "      background-color: #E2EBFA;\n",
              "      box-shadow: 0px 1px 2px rgba(60, 64, 67, 0.3), 0px 1px 3px 1px rgba(60, 64, 67, 0.15);\n",
              "      fill: #174EA6;\n",
              "    }\n",
              "\n",
              "    [theme=dark] .colab-df-convert {\n",
              "      background-color: #3B4455;\n",
              "      fill: #D2E3FC;\n",
              "    }\n",
              "\n",
              "    [theme=dark] .colab-df-convert:hover {\n",
              "      background-color: #434B5C;\n",
              "      box-shadow: 0px 1px 3px 1px rgba(0, 0, 0, 0.15);\n",
              "      filter: drop-shadow(0px 1px 2px rgba(0, 0, 0, 0.3));\n",
              "      fill: #FFFFFF;\n",
              "    }\n",
              "  </style>\n",
              "\n",
              "      <script>\n",
              "        const buttonEl =\n",
              "          document.querySelector('#df-5305ab4b-254a-427c-bab3-632bebad8592 button.colab-df-convert');\n",
              "        buttonEl.style.display =\n",
              "          google.colab.kernel.accessAllowed ? 'block' : 'none';\n",
              "\n",
              "        async function convertToInteractive(key) {\n",
              "          const element = document.querySelector('#df-5305ab4b-254a-427c-bab3-632bebad8592');\n",
              "          const dataTable =\n",
              "            await google.colab.kernel.invokeFunction('convertToInteractive',\n",
              "                                                     [key], {});\n",
              "          if (!dataTable) return;\n",
              "\n",
              "          const docLinkHtml = 'Like what you see? Visit the ' +\n",
              "            '<a target=\"_blank\" href=https://colab.research.google.com/notebooks/data_table.ipynb>data table notebook</a>'\n",
              "            + ' to learn more about interactive tables.';\n",
              "          element.innerHTML = '';\n",
              "          dataTable['output_type'] = 'display_data';\n",
              "          await google.colab.output.renderOutput(dataTable, element);\n",
              "          const docLink = document.createElement('div');\n",
              "          docLink.innerHTML = docLinkHtml;\n",
              "          element.appendChild(docLink);\n",
              "        }\n",
              "      </script>\n",
              "    </div>\n",
              "  </div>\n",
              "  "
            ]
          },
          "metadata": {},
          "execution_count": 9
        }
      ]
    },
    {
      "cell_type": "markdown",
      "id": "29af5331-76b0-4dca-bcc8-ee9389885a20",
      "metadata": {
        "id": "29af5331-76b0-4dca-bcc8-ee9389885a20"
      },
      "source": [
        "#### Se reordenaron las columnas, se cambio el nombre a algunas de ellas para que no generaran errores de sintaxis, ademas se paso a tipo numerico la variable Sex."
      ]
    },
    {
      "cell_type": "markdown",
      "id": "e7c975c7-2b52-440b-8db5-2cd1aa58f00f",
      "metadata": {
        "id": "e7c975c7-2b52-440b-8db5-2cd1aa58f00f"
      },
      "source": [
        "## **Análisis descriptivo**"
      ]
    },
    {
      "cell_type": "markdown",
      "id": "7f5ef636-80e7-4e8d-b63e-e3c5a582ba23",
      "metadata": {
        "tags": [],
        "id": "7f5ef636-80e7-4e8d-b63e-e3c5a582ba23"
      },
      "source": [
        "### <font color='green'>Variables cualitativas nominales</font> "
      ]
    },
    {
      "cell_type": "markdown",
      "id": "621e4ca7-eb05-4776-9322-ebe16d33d14f",
      "metadata": {
        "tags": [],
        "id": "621e4ca7-eb05-4776-9322-ebe16d33d14f"
      },
      "source": [
        "### Variable `Pclass`"
      ]
    },
    {
      "cell_type": "code",
      "execution_count": null,
      "id": "7a1262b0-1aa7-4485-bd8b-2c0d83e8a1fc",
      "metadata": {
        "id": "7a1262b0-1aa7-4485-bd8b-2c0d83e8a1fc",
        "colab": {
          "base_uri": "https://localhost:8080/",
          "height": 175
        },
        "outputId": "ab372c29-f598-438c-9b42-d8ba259890e6"
      },
      "outputs": [
        {
          "output_type": "execute_result",
          "data": {
            "text/plain": [
              "        Frequency\n",
              "Pclass           \n",
              "1             216\n",
              "2             184\n",
              "3             487"
            ],
            "text/html": [
              "\n",
              "  <div id=\"df-b30d851e-752f-4317-abc8-83ee39bede0f\">\n",
              "    <div class=\"colab-df-container\">\n",
              "      <div>\n",
              "<style scoped>\n",
              "    .dataframe tbody tr th:only-of-type {\n",
              "        vertical-align: middle;\n",
              "    }\n",
              "\n",
              "    .dataframe tbody tr th {\n",
              "        vertical-align: top;\n",
              "    }\n",
              "\n",
              "    .dataframe thead th {\n",
              "        text-align: right;\n",
              "    }\n",
              "</style>\n",
              "<table border=\"1\" class=\"dataframe\">\n",
              "  <thead>\n",
              "    <tr style=\"text-align: right;\">\n",
              "      <th></th>\n",
              "      <th>Frequency</th>\n",
              "    </tr>\n",
              "    <tr>\n",
              "      <th>Pclass</th>\n",
              "      <th></th>\n",
              "    </tr>\n",
              "  </thead>\n",
              "  <tbody>\n",
              "    <tr>\n",
              "      <th>1</th>\n",
              "      <td>216</td>\n",
              "    </tr>\n",
              "    <tr>\n",
              "      <th>2</th>\n",
              "      <td>184</td>\n",
              "    </tr>\n",
              "    <tr>\n",
              "      <th>3</th>\n",
              "      <td>487</td>\n",
              "    </tr>\n",
              "  </tbody>\n",
              "</table>\n",
              "</div>\n",
              "      <button class=\"colab-df-convert\" onclick=\"convertToInteractive('df-b30d851e-752f-4317-abc8-83ee39bede0f')\"\n",
              "              title=\"Convert this dataframe to an interactive table.\"\n",
              "              style=\"display:none;\">\n",
              "        \n",
              "  <svg xmlns=\"http://www.w3.org/2000/svg\" height=\"24px\"viewBox=\"0 0 24 24\"\n",
              "       width=\"24px\">\n",
              "    <path d=\"M0 0h24v24H0V0z\" fill=\"none\"/>\n",
              "    <path d=\"M18.56 5.44l.94 2.06.94-2.06 2.06-.94-2.06-.94-.94-2.06-.94 2.06-2.06.94zm-11 1L8.5 8.5l.94-2.06 2.06-.94-2.06-.94L8.5 2.5l-.94 2.06-2.06.94zm10 10l.94 2.06.94-2.06 2.06-.94-2.06-.94-.94-2.06-.94 2.06-2.06.94z\"/><path d=\"M17.41 7.96l-1.37-1.37c-.4-.4-.92-.59-1.43-.59-.52 0-1.04.2-1.43.59L10.3 9.45l-7.72 7.72c-.78.78-.78 2.05 0 2.83L4 21.41c.39.39.9.59 1.41.59.51 0 1.02-.2 1.41-.59l7.78-7.78 2.81-2.81c.8-.78.8-2.07 0-2.86zM5.41 20L4 18.59l7.72-7.72 1.47 1.35L5.41 20z\"/>\n",
              "  </svg>\n",
              "      </button>\n",
              "      \n",
              "  <style>\n",
              "    .colab-df-container {\n",
              "      display:flex;\n",
              "      flex-wrap:wrap;\n",
              "      gap: 12px;\n",
              "    }\n",
              "\n",
              "    .colab-df-convert {\n",
              "      background-color: #E8F0FE;\n",
              "      border: none;\n",
              "      border-radius: 50%;\n",
              "      cursor: pointer;\n",
              "      display: none;\n",
              "      fill: #1967D2;\n",
              "      height: 32px;\n",
              "      padding: 0 0 0 0;\n",
              "      width: 32px;\n",
              "    }\n",
              "\n",
              "    .colab-df-convert:hover {\n",
              "      background-color: #E2EBFA;\n",
              "      box-shadow: 0px 1px 2px rgba(60, 64, 67, 0.3), 0px 1px 3px 1px rgba(60, 64, 67, 0.15);\n",
              "      fill: #174EA6;\n",
              "    }\n",
              "\n",
              "    [theme=dark] .colab-df-convert {\n",
              "      background-color: #3B4455;\n",
              "      fill: #D2E3FC;\n",
              "    }\n",
              "\n",
              "    [theme=dark] .colab-df-convert:hover {\n",
              "      background-color: #434B5C;\n",
              "      box-shadow: 0px 1px 3px 1px rgba(0, 0, 0, 0.15);\n",
              "      filter: drop-shadow(0px 1px 2px rgba(0, 0, 0, 0.3));\n",
              "      fill: #FFFFFF;\n",
              "    }\n",
              "  </style>\n",
              "\n",
              "      <script>\n",
              "        const buttonEl =\n",
              "          document.querySelector('#df-b30d851e-752f-4317-abc8-83ee39bede0f button.colab-df-convert');\n",
              "        buttonEl.style.display =\n",
              "          google.colab.kernel.accessAllowed ? 'block' : 'none';\n",
              "\n",
              "        async function convertToInteractive(key) {\n",
              "          const element = document.querySelector('#df-b30d851e-752f-4317-abc8-83ee39bede0f');\n",
              "          const dataTable =\n",
              "            await google.colab.kernel.invokeFunction('convertToInteractive',\n",
              "                                                     [key], {});\n",
              "          if (!dataTable) return;\n",
              "\n",
              "          const docLinkHtml = 'Like what you see? Visit the ' +\n",
              "            '<a target=\"_blank\" href=https://colab.research.google.com/notebooks/data_table.ipynb>data table notebook</a>'\n",
              "            + ' to learn more about interactive tables.';\n",
              "          element.innerHTML = '';\n",
              "          dataTable['output_type'] = 'display_data';\n",
              "          await google.colab.output.renderOutput(dataTable, element);\n",
              "          const docLink = document.createElement('div');\n",
              "          docLink.innerHTML = docLinkHtml;\n",
              "          element.appendChild(docLink);\n",
              "        }\n",
              "      </script>\n",
              "    </div>\n",
              "  </div>\n",
              "  "
            ]
          },
          "metadata": {},
          "execution_count": 87
        }
      ],
      "source": [
        "df1.groupby(\"Pclass\").agg(Frequency=(\"Pclass\", \"count\")) #se crea la tabla de frecuencias para la variable Pclass"
      ]
    },
    {
      "cell_type": "code",
      "execution_count": null,
      "id": "699213aa-6092-4155-84ce-e2a2341fe5b7",
      "metadata": {
        "id": "699213aa-6092-4155-84ce-e2a2341fe5b7",
        "colab": {
          "base_uri": "https://localhost:8080/",
          "height": 301
        },
        "outputId": "67b38d4b-51e9-4b98-8f0f-0427d745317e"
      },
      "outputs": [
        {
          "output_type": "display_data",
          "data": {
            "text/plain": [
              "<Figure size 432x288 with 1 Axes>"
            ],
            "image/png": "[encoded data removed]"
          },
          "metadata": {}
        }
      ],
      "source": [
        "countsPclase = df1.Pclass.value_counts()\n",
        "sns.set(color_codes = True) \n",
        "sns.barplot(x=countsPclase.index, y=countsPclase.values, palette=\"OrRd\") #Genera el grafico de barras\n",
        "plt.title(\"Frecuencia de clase de pasajeros\")\n",
        "plt.ylabel(\"Frecuencia\")\n",
        "plt.xlabel(\"Clase pasajero\")\n",
        "plt.show() #Muestra el grafico"
      ]
    },
    {
      "cell_type": "markdown",
      "id": "e21f8fbd-445f-41ad-b74a-2709eaef9f84",
      "metadata": {
        "id": "e21f8fbd-445f-41ad-b74a-2709eaef9f84"
      },
      "source": [
        "#### Se puede observar que la mayor frecuencia la tiene la clase tres"
      ]
    },
    {
      "cell_type": "code",
      "execution_count": null,
      "id": "1a5e2e6d-dd85-4bf8-a2a1-c8dbb2c39e35",
      "metadata": {
        "id": "1a5e2e6d-dd85-4bf8-a2a1-c8dbb2c39e35",
        "colab": {
          "base_uri": "https://localhost:8080/",
          "height": 407
        },
        "outputId": "6242635a-e453-4a0c-f010-3519072d8a37"
      },
      "outputs": [
        {
          "output_type": "display_data",
          "data": {
            "text/plain": [
              "<Figure size 720x360 with 1 Axes>"
            ],
            "image/png": "[encoded data removed]"
          },
          "metadata": {}
        }
      ],
      "source": [
        "PLOT_SIZE = 5\n",
        "fig = plt.figure(figsize = (10,5))\n",
        "ax = fig.add_axes([0,0,1,1])\n",
        "plt.title(\"Parte del total clase de pasajero\")\n",
        "plt.pie(countsPclase.values[:PLOT_SIZE], labels = countsPclase.index[:PLOT_SIZE], autopct=\"%0.1f %%\")\n",
        "plt.show()"
      ]
    },
    {
      "cell_type": "markdown",
      "id": "2a1b8c88-89dc-45a3-84af-db9a74001edc",
      "metadata": {
        "id": "2a1b8c88-89dc-45a3-84af-db9a74001edc"
      },
      "source": [
        "#### La tercera clase es la que habia en mayor cantidad en esta muestra de 887 pasajeros"
      ]
    },
    {
      "cell_type": "markdown",
      "id": "b4e7f347-de9c-4967-bb4e-55648c61e75d",
      "metadata": {
        "tags": [],
        "id": "b4e7f347-de9c-4967-bb4e-55648c61e75d"
      },
      "source": [
        "### Variable `Sex`"
      ]
    },
    {
      "cell_type": "code",
      "execution_count": null,
      "id": "1a38a3fd-b4b2-4d14-8e7d-666e9eb40d7b",
      "metadata": {
        "id": "1a38a3fd-b4b2-4d14-8e7d-666e9eb40d7b",
        "colab": {
          "base_uri": "https://localhost:8080/"
        },
        "outputId": "5e1f7b1b-23d8-4fae-d3a5-dc20adf7da2d"
      },
      "outputs": [
        {
          "output_type": "execute_result",
          "data": {
            "text/plain": [
              "     Frequency\n",
              "Sex           \n",
              "0          314\n",
              "1          573"
            ],
            "text/html": [
              "\n",
              "  <div id=\"df-8d581f96-56ba-4157-90f3-324fbaca13bb\">\n",
              "    <div class=\"colab-df-container\">\n",
              "      <div>\n",
              "<style scoped>\n",
              "    .dataframe tbody tr th:only-of-type {\n",
              "        vertical-align: middle;\n",
              "    }\n",
              "\n",
              "    .dataframe tbody tr th {\n",
              "        vertical-align: top;\n",
              "    }\n",
              "\n",
              "    .dataframe thead th {\n",
              "        text-align: right;\n",
              "    }\n",
              "</style>\n",
              "<table border=\"1\" class=\"dataframe\">\n",
              "  <thead>\n",
              "    <tr style=\"text-align: right;\">\n",
              "      <th></th>\n",
              "      <th>Frequency</th>\n",
              "    </tr>\n",
              "    <tr>\n",
              "      <th>Sex</th>\n",
              "      <th></th>\n",
              "    </tr>\n",
              "  </thead>\n",
              "  <tbody>\n",
              "    <tr>\n",
              "      <th>0</th>\n",
              "      <td>314</td>\n",
              "    </tr>\n",
              "    <tr>\n",
              "      <th>1</th>\n",
              "      <td>573</td>\n",
              "    </tr>\n",
              "  </tbody>\n",
              "</table>\n",
              "</div>\n",
              "      <button class=\"colab-df-convert\" onclick=\"convertToInteractive('df-8d581f96-56ba-4157-90f3-324fbaca13bb')\"\n",
              "              title=\"Convert this dataframe to an interactive table.\"\n",
              "              style=\"display:none;\">\n",
              "        \n",
              "  <svg xmlns=\"http://www.w3.org/2000/svg\" height=\"24px\"viewBox=\"0 0 24 24\"\n",
              "       width=\"24px\">\n",
              "    <path d=\"M0 0h24v24H0V0z\" fill=\"none\"/>\n",
              "    <path d=\"M18.56 5.44l.94 2.06.94-2.06 2.06-.94-2.06-.94-.94-2.06-.94 2.06-2.06.94zm-11 1L8.5 8.5l.94-2.06 2.06-.94-2.06-.94L8.5 2.5l-.94 2.06-2.06.94zm10 10l.94 2.06.94-2.06 2.06-.94-2.06-.94-.94-2.06-.94 2.06-2.06.94z\"/><path d=\"M17.41 7.96l-1.37-1.37c-.4-.4-.92-.59-1.43-.59-.52 0-1.04.2-1.43.59L10.3 9.45l-7.72 7.72c-.78.78-.78 2.05 0 2.83L4 21.41c.39.39.9.59 1.41.59.51 0 1.02-.2 1.41-.59l7.78-7.78 2.81-2.81c.8-.78.8-2.07 0-2.86zM5.41 20L4 18.59l7.72-7.72 1.47 1.35L5.41 20z\"/>\n",
              "  </svg>\n",
              "      </button>\n",
              "      \n",
              "  <style>\n",
              "    .colab-df-container {\n",
              "      display:flex;\n",
              "      flex-wrap:wrap;\n",
              "      gap: 12px;\n",
              "    }\n",
              "\n",
              "    .colab-df-convert {\n",
              "      background-color: #E8F0FE;\n",
              "      border: none;\n",
              "      border-radius: 50%;\n",
              "      cursor: pointer;\n",
              "      display: none;\n",
              "      fill: #1967D2;\n",
              "      height: 32px;\n",
              "      padding: 0 0 0 0;\n",
              "      width: 32px;\n",
              "    }\n",
              "\n",
              "    .colab-df-convert:hover {\n",
              "      background-color: #E2EBFA;\n",
              "      box-shadow: 0px 1px 2px rgba(60, 64, 67, 0.3), 0px 1px 3px 1px rgba(60, 64, 67, 0.15);\n",
              "      fill: #174EA6;\n",
              "    }\n",
              "\n",
              "    [theme=dark] .colab-df-convert {\n",
              "      background-color: #3B4455;\n",
              "      fill: #D2E3FC;\n",
              "    }\n",
              "\n",
              "    [theme=dark] .colab-df-convert:hover {\n",
              "      background-color: #434B5C;\n",
              "      box-shadow: 0px 1px 3px 1px rgba(0, 0, 0, 0.15);\n",
              "      filter: drop-shadow(0px 1px 2px rgba(0, 0, 0, 0.3));\n",
              "      fill: #FFFFFF;\n",
              "    }\n",
              "  </style>\n",
              "\n",
              "      <script>\n",
              "        const buttonEl =\n",
              "          document.querySelector('#df-8d581f96-56ba-4157-90f3-324fbaca13bb button.colab-df-convert');\n",
              "        buttonEl.style.display =\n",
              "          google.colab.kernel.accessAllowed ? 'block' : 'none';\n",
              "\n",
              "        async function convertToInteractive(key) {\n",
              "          const element = document.querySelector('#df-8d581f96-56ba-4157-90f3-324fbaca13bb');\n",
              "          const dataTable =\n",
              "            await google.colab.kernel.invokeFunction('convertToInteractive',\n",
              "                                                     [key], {});\n",
              "          if (!dataTable) return;\n",
              "\n",
              "          const docLinkHtml = 'Like what you see? Visit the ' +\n",
              "            '<a target=\"_blank\" href=https://colab.research.google.com/notebooks/data_table.ipynb>data table notebook</a>'\n",
              "            + ' to learn more about interactive tables.';\n",
              "          element.innerHTML = '';\n",
              "          dataTable['output_type'] = 'display_data';\n",
              "          await google.colab.output.renderOutput(dataTable, element);\n",
              "          const docLink = document.createElement('div');\n",
              "          docLink.innerHTML = docLinkHtml;\n",
              "          element.appendChild(docLink);\n",
              "        }\n",
              "      </script>\n",
              "    </div>\n",
              "  </div>\n",
              "  "
            ]
          },
          "metadata": {},
          "execution_count": 13
        }
      ],
      "source": [
        "(df1.groupby(\"Sex\").agg(Frequency=(\"Sex\", \"count\"))) #Muestra la tabla de frecuencia"
      ]
    },
    {
      "cell_type": "code",
      "execution_count": null,
      "id": "adba4749-cb97-4a21-85b3-470239d78df0",
      "metadata": {
        "id": "adba4749-cb97-4a21-85b3-470239d78df0",
        "colab": {
          "base_uri": "https://localhost:8080/"
        },
        "outputId": "e17cca37-dfd9-4dca-a575-23dfb5294340"
      },
      "outputs": [
        {
          "output_type": "display_data",
          "data": {
            "text/plain": [
              "<Figure size 432x288 with 1 Axes>"
            ],
            "image/png": "[encoded data removed]"
          },
          "metadata": {}
        }
      ],
      "source": [
        "countsSex = df1.Sex.value_counts()\n",
        "sns.set(color_codes = True) \n",
        "sns.barplot(x = countsSex.index, y = countsSex.values, palette = \"OrRd\") #Genera el grafico de barras\n",
        "plt.title(\"Frecuencia de tipo de sexo\")\n",
        "plt.ylabel(\"Frecuencia\")\n",
        "plt.xlabel(\"sexo\")\n",
        "plt.show() #muestra el grafico"
      ]
    },
    {
      "cell_type": "markdown",
      "id": "7c2fb82f-2e87-4141-8a8c-1e3dcc1bb32d",
      "metadata": {
        "id": "7c2fb82f-2e87-4141-8a8c-1e3dcc1bb32d"
      },
      "source": [
        "#### Donde 0 es Femenino y 1 Masculino. Se puede observar una mayor cantidad de hombres que mujeres del total de 887 pasajeros."
      ]
    },
    {
      "cell_type": "code",
      "execution_count": null,
      "id": "8a711e35-1001-47d5-b1a0-b4f3a1a4e708",
      "metadata": {
        "id": "8a711e35-1001-47d5-b1a0-b4f3a1a4e708",
        "colab": {
          "base_uri": "https://localhost:8080/"
        },
        "outputId": "8269bf61-8fb8-4c59-c1af-76225c7f542b"
      },
      "outputs": [
        {
          "output_type": "display_data",
          "data": {
            "text/plain": [
              "<Figure size 720x360 with 1 Axes>"
            ],
            "image/png": "[encoded data removed]"
          },
          "metadata": {}
        }
      ],
      "source": [
        "PLOT_SIZE = 5\n",
        "fig = plt.figure(figsize = (10,5))\n",
        "ax = fig.add_axes([0,0,1,1])\n",
        "plt.title(\"Parte del total sexo pasajero\")\n",
        "plt.pie(countsSex.values[:PLOT_SIZE], labels = countsSex.index[:PLOT_SIZE], autopct=\"%0.1f %%\")\n",
        "plt.show()"
      ]
    },
    {
      "cell_type": "markdown",
      "id": "5b149d8b-cecd-4150-8ae7-cdf458e97ba3",
      "metadata": {
        "id": "5b149d8b-cecd-4150-8ae7-cdf458e97ba3"
      },
      "source": [
        "#### Se puede observar en este grafico de torta la proporcion entre hombres y mujeres de los 887 pasajeros"
      ]
    },
    {
      "cell_type": "markdown",
      "id": "a49d0174-5e98-4016-8d11-60f6568a5cc4",
      "metadata": {
        "tags": [],
        "id": "a49d0174-5e98-4016-8d11-60f6568a5cc4"
      },
      "source": [
        "### Variable `Survived`"
      ]
    },
    {
      "cell_type": "code",
      "execution_count": null,
      "id": "5d075308-8617-4dfa-a61c-83599b5b36e3",
      "metadata": {
        "id": "5d075308-8617-4dfa-a61c-83599b5b36e3",
        "colab": {
          "base_uri": "https://localhost:8080/"
        },
        "outputId": "cd5ce946-b966-4265-97e7-39d6215f4254"
      },
      "outputs": [
        {
          "output_type": "execute_result",
          "data": {
            "text/plain": [
              "          Frequency\n",
              "Survived           \n",
              "0               545\n",
              "1               342"
            ],
            "text/html": [
              "\n",
              "  <div id=\"df-1d062c8b-2a0e-400c-88f5-dca37fe3f35c\">\n",
              "    <div class=\"colab-df-container\">\n",
              "      <div>\n",
              "<style scoped>\n",
              "    .dataframe tbody tr th:only-of-type {\n",
              "        vertical-align: middle;\n",
              "    }\n",
              "\n",
              "    .dataframe tbody tr th {\n",
              "        vertical-align: top;\n",
              "    }\n",
              "\n",
              "    .dataframe thead th {\n",
              "        text-align: right;\n",
              "    }\n",
              "</style>\n",
              "<table border=\"1\" class=\"dataframe\">\n",
              "  <thead>\n",
              "    <tr style=\"text-align: right;\">\n",
              "      <th></th>\n",
              "      <th>Frequency</th>\n",
              "    </tr>\n",
              "    <tr>\n",
              "      <th>Survived</th>\n",
              "      <th></th>\n",
              "    </tr>\n",
              "  </thead>\n",
              "  <tbody>\n",
              "    <tr>\n",
              "      <th>0</th>\n",
              "      <td>545</td>\n",
              "    </tr>\n",
              "    <tr>\n",
              "      <th>1</th>\n",
              "      <td>342</td>\n",
              "    </tr>\n",
              "  </tbody>\n",
              "</table>\n",
              "</div>\n",
              "      <button class=\"colab-df-convert\" onclick=\"convertToInteractive('df-1d062c8b-2a0e-400c-88f5-dca37fe3f35c')\"\n",
              "              title=\"Convert this dataframe to an interactive table.\"\n",
              "              style=\"display:none;\">\n",
              "        \n",
              "  <svg xmlns=\"http://www.w3.org/2000/svg\" height=\"24px\"viewBox=\"0 0 24 24\"\n",
              "       width=\"24px\">\n",
              "    <path d=\"M0 0h24v24H0V0z\" fill=\"none\"/>\n",
              "    <path d=\"M18.56 5.44l.94 2.06.94-2.06 2.06-.94-2.06-.94-.94-2.06-.94 2.06-2.06.94zm-11 1L8.5 8.5l.94-2.06 2.06-.94-2.06-.94L8.5 2.5l-.94 2.06-2.06.94zm10 10l.94 2.06.94-2.06 2.06-.94-2.06-.94-.94-2.06-.94 2.06-2.06.94z\"/><path d=\"M17.41 7.96l-1.37-1.37c-.4-.4-.92-.59-1.43-.59-.52 0-1.04.2-1.43.59L10.3 9.45l-7.72 7.72c-.78.78-.78 2.05 0 2.83L4 21.41c.39.39.9.59 1.41.59.51 0 1.02-.2 1.41-.59l7.78-7.78 2.81-2.81c.8-.78.8-2.07 0-2.86zM5.41 20L4 18.59l7.72-7.72 1.47 1.35L5.41 20z\"/>\n",
              "  </svg>\n",
              "      </button>\n",
              "      \n",
              "  <style>\n",
              "    .colab-df-container {\n",
              "      display:flex;\n",
              "      flex-wrap:wrap;\n",
              "      gap: 12px;\n",
              "    }\n",
              "\n",
              "    .colab-df-convert {\n",
              "      background-color: #E8F0FE;\n",
              "      border: none;\n",
              "      border-radius: 50%;\n",
              "      cursor: pointer;\n",
              "      display: none;\n",
              "      fill: #1967D2;\n",
              "      height: 32px;\n",
              "      padding: 0 0 0 0;\n",
              "      width: 32px;\n",
              "    }\n",
              "\n",
              "    .colab-df-convert:hover {\n",
              "      background-color: #E2EBFA;\n",
              "      box-shadow: 0px 1px 2px rgba(60, 64, 67, 0.3), 0px 1px 3px 1px rgba(60, 64, 67, 0.15);\n",
              "      fill: #174EA6;\n",
              "    }\n",
              "\n",
              "    [theme=dark] .colab-df-convert {\n",
              "      background-color: #3B4455;\n",
              "      fill: #D2E3FC;\n",
              "    }\n",
              "\n",
              "    [theme=dark] .colab-df-convert:hover {\n",
              "      background-color: #434B5C;\n",
              "      box-shadow: 0px 1px 3px 1px rgba(0, 0, 0, 0.15);\n",
              "      filter: drop-shadow(0px 1px 2px rgba(0, 0, 0, 0.3));\n",
              "      fill: #FFFFFF;\n",
              "    }\n",
              "  </style>\n",
              "\n",
              "      <script>\n",
              "        const buttonEl =\n",
              "          document.querySelector('#df-1d062c8b-2a0e-400c-88f5-dca37fe3f35c button.colab-df-convert');\n",
              "        buttonEl.style.display =\n",
              "          google.colab.kernel.accessAllowed ? 'block' : 'none';\n",
              "\n",
              "        async function convertToInteractive(key) {\n",
              "          const element = document.querySelector('#df-1d062c8b-2a0e-400c-88f5-dca37fe3f35c');\n",
              "          const dataTable =\n",
              "            await google.colab.kernel.invokeFunction('convertToInteractive',\n",
              "                                                     [key], {});\n",
              "          if (!dataTable) return;\n",
              "\n",
              "          const docLinkHtml = 'Like what you see? Visit the ' +\n",
              "            '<a target=\"_blank\" href=https://colab.research.google.com/notebooks/data_table.ipynb>data table notebook</a>'\n",
              "            + ' to learn more about interactive tables.';\n",
              "          element.innerHTML = '';\n",
              "          dataTable['output_type'] = 'display_data';\n",
              "          await google.colab.output.renderOutput(dataTable, element);\n",
              "          const docLink = document.createElement('div');\n",
              "          docLink.innerHTML = docLinkHtml;\n",
              "          element.appendChild(docLink);\n",
              "        }\n",
              "      </script>\n",
              "    </div>\n",
              "  </div>\n",
              "  "
            ]
          },
          "metadata": {},
          "execution_count": 16
        }
      ],
      "source": [
        "df1.groupby(\"Survived\").agg(Frequency=(\"Survived\", \"count\")) #se crea la tabla de frecuencias"
      ]
    },
    {
      "cell_type": "markdown",
      "id": "2c9b04c2-45e4-4bef-8cbf-a82621587142",
      "metadata": {
        "id": "2c9b04c2-45e4-4bef-8cbf-a82621587142"
      },
      "source": [
        "#### Donde 0 es no sobrevivio y 1 sobrivivio"
      ]
    },
    {
      "cell_type": "code",
      "execution_count": null,
      "id": "79cbf73c-acca-43ac-a512-699baac8468b",
      "metadata": {
        "id": "79cbf73c-acca-43ac-a512-699baac8468b",
        "colab": {
          "base_uri": "https://localhost:8080/"
        },
        "outputId": "dc5d0e1a-e485-48d4-f7c6-114150e391fd"
      },
      "outputs": [
        {
          "output_type": "display_data",
          "data": {
            "text/plain": [
              "<Figure size 432x288 with 1 Axes>"
            ],
            "image/png": "[encoded data removed]"
          },
          "metadata": {}
        }
      ],
      "source": [
        "countsSurvived = df1.Survived.value_counts()\n",
        "sns.set(color_codes = True) \n",
        "sns.barplot(x=countsSurvived.index, y=countsSurvived.values, palette=\"OrRd\")\n",
        "plt.title(\"Frecuencia de supervivientes\")\n",
        "plt.ylabel(\"Frecuencia\")\n",
        "plt.xlabel(\"Superviviente\")\n",
        "plt.show()"
      ]
    },
    {
      "cell_type": "markdown",
      "id": "734019bd-9011-441b-ba9c-25f12503f367",
      "metadata": {
        "id": "734019bd-9011-441b-ba9c-25f12503f367"
      },
      "source": [
        "#### Se observa que la mayor frecuencia la tienen los supervivientes"
      ]
    },
    {
      "cell_type": "code",
      "execution_count": null,
      "id": "fe30e388-845f-49a4-abff-b8a18a67fd5b",
      "metadata": {
        "id": "fe30e388-845f-49a4-abff-b8a18a67fd5b",
        "colab": {
          "base_uri": "https://localhost:8080/"
        },
        "outputId": "20abc37b-cb7f-4cd6-a14e-78fcdae5dc5c"
      },
      "outputs": [
        {
          "output_type": "display_data",
          "data": {
            "text/plain": [
              "<Figure size 720x360 with 1 Axes>"
            ],
            "image/png": "[encoded data removed]"
          },
          "metadata": {}
        }
      ],
      "source": [
        "\n",
        "PLOT_SIZE = 5\n",
        "fig = plt.figure(figsize = (10,5))\n",
        "ax = fig.add_axes([0,0,1,1])\n",
        "plt.title(\"Parte del total sexo pasajero\")\n",
        "plt.pie(countsSurvived.values[:PLOT_SIZE], labels = countsSurvived.index[:PLOT_SIZE], autopct=\"%0.1f %%\")\n",
        "plt.show()"
      ]
    },
    {
      "cell_type": "markdown",
      "id": "57513548-c4aa-45a3-91a6-05550738b8a3",
      "metadata": {
        "id": "57513548-c4aa-45a3-91a6-05550738b8a3"
      },
      "source": [
        "#### Aqui la proporcion entre superviviente y no superviviente en este diagrama de torta"
      ]
    },
    {
      "cell_type": "markdown",
      "id": "7f83bd30-cef8-4516-9d04-0aa4a020a93d",
      "metadata": {
        "tags": [],
        "id": "7f83bd30-cef8-4516-9d04-0aa4a020a93d"
      },
      "source": [
        "### <font color='green'>Ahora las variables cuantitativas</font>"
      ]
    },
    {
      "cell_type": "code",
      "source": [
        "df1Cuanti = df1.loc[:, ['Age','SiblingsSpousesAboard', 'ParentsChildrenAboard', 'Fare' ]] #filtrando variables cuantitativas\n",
        "df1Estadisticos = df1Cuanti.describe().round(2)\n"
      ],
      "metadata": {
        "id": "UidFqtkS-Ht7"
      },
      "id": "UidFqtkS-Ht7",
      "execution_count": null,
      "outputs": []
    },
    {
      "cell_type": "code",
      "source": [
        "filaCV = []\n",
        "for i in range (len (df1Cuanti.iloc[0:4])):\n",
        "    filaCV.append(((df1Estadisticos.iloc[2][i]) / (df1Estadisticos.iloc[1][i])).round(2))\n",
        "df1Estadisticos.loc['CV'] = filaCV\n",
        "df1Estadisticos"
      ],
      "metadata": {
        "id": "_5hialvdGkIs",
        "colab": {
          "base_uri": "https://localhost:8080/",
          "height": 332
        },
        "outputId": "930919d4-1fe3-4b9d-d705-36990936f917"
      },
      "id": "_5hialvdGkIs",
      "execution_count": null,
      "outputs": [
        {
          "output_type": "execute_result",
          "data": {
            "text/plain": [
              "          Age  SiblingsSpousesAboard  ParentsChildrenAboard    Fare\n",
              "count  887.00                 887.00                 887.00  887.00\n",
              "mean    29.47                   0.53                   0.38   32.31\n",
              "std     14.12                   1.10                   0.81   49.78\n",
              "min      0.42                   0.00                   0.00    0.00\n",
              "25%     20.25                   0.00                   0.00    7.92\n",
              "50%     28.00                   0.00                   0.00   14.45\n",
              "75%     38.00                   1.00                   0.00   31.14\n",
              "max     80.00                   8.00                   6.00  512.33\n",
              "CV       0.48                   2.08                   2.13    1.54"
            ],
            "text/html": [
              "\n",
              "  <div id=\"df-c862489b-4dd4-46a6-bf1c-686199c4fe3a\">\n",
              "    <div class=\"colab-df-container\">\n",
              "      <div>\n",
              "<style scoped>\n",
              "    .dataframe tbody tr th:only-of-type {\n",
              "        vertical-align: middle;\n",
              "    }\n",
              "\n",
              "    .dataframe tbody tr th {\n",
              "        vertical-align: top;\n",
              "    }\n",
              "\n",
              "    .dataframe thead th {\n",
              "        text-align: right;\n",
              "    }\n",
              "</style>\n",
              "<table border=\"1\" class=\"dataframe\">\n",
              "  <thead>\n",
              "    <tr style=\"text-align: right;\">\n",
              "      <th></th>\n",
              "      <th>Age</th>\n",
              "      <th>SiblingsSpousesAboard</th>\n",
              "      <th>ParentsChildrenAboard</th>\n",
              "      <th>Fare</th>\n",
              "    </tr>\n",
              "  </thead>\n",
              "  <tbody>\n",
              "    <tr>\n",
              "      <th>count</th>\n",
              "      <td>887.00</td>\n",
              "      <td>887.00</td>\n",
              "      <td>887.00</td>\n",
              "      <td>887.00</td>\n",
              "    </tr>\n",
              "    <tr>\n",
              "      <th>mean</th>\n",
              "      <td>29.47</td>\n",
              "      <td>0.53</td>\n",
              "      <td>0.38</td>\n",
              "      <td>32.31</td>\n",
              "    </tr>\n",
              "    <tr>\n",
              "      <th>std</th>\n",
              "      <td>14.12</td>\n",
              "      <td>1.10</td>\n",
              "      <td>0.81</td>\n",
              "      <td>49.78</td>\n",
              "    </tr>\n",
              "    <tr>\n",
              "      <th>min</th>\n",
              "      <td>0.42</td>\n",
              "      <td>0.00</td>\n",
              "      <td>0.00</td>\n",
              "      <td>0.00</td>\n",
              "    </tr>\n",
              "    <tr>\n",
              "      <th>25%</th>\n",
              "      <td>20.25</td>\n",
              "      <td>0.00</td>\n",
              "      <td>0.00</td>\n",
              "      <td>7.92</td>\n",
              "    </tr>\n",
              "    <tr>\n",
              "      <th>50%</th>\n",
              "      <td>28.00</td>\n",
              "      <td>0.00</td>\n",
              "      <td>0.00</td>\n",
              "      <td>14.45</td>\n",
              "    </tr>\n",
              "    <tr>\n",
              "      <th>75%</th>\n",
              "      <td>38.00</td>\n",
              "      <td>1.00</td>\n",
              "      <td>0.00</td>\n",
              "      <td>31.14</td>\n",
              "    </tr>\n",
              "    <tr>\n",
              "      <th>max</th>\n",
              "      <td>80.00</td>\n",
              "      <td>8.00</td>\n",
              "      <td>6.00</td>\n",
              "      <td>512.33</td>\n",
              "    </tr>\n",
              "    <tr>\n",
              "      <th>CV</th>\n",
              "      <td>0.48</td>\n",
              "      <td>2.08</td>\n",
              "      <td>2.13</td>\n",
              "      <td>1.54</td>\n",
              "    </tr>\n",
              "  </tbody>\n",
              "</table>\n",
              "</div>\n",
              "      <button class=\"colab-df-convert\" onclick=\"convertToInteractive('df-c862489b-4dd4-46a6-bf1c-686199c4fe3a')\"\n",
              "              title=\"Convert this dataframe to an interactive table.\"\n",
              "              style=\"display:none;\">\n",
              "        \n",
              "  <svg xmlns=\"http://www.w3.org/2000/svg\" height=\"24px\"viewBox=\"0 0 24 24\"\n",
              "       width=\"24px\">\n",
              "    <path d=\"M0 0h24v24H0V0z\" fill=\"none\"/>\n",
              "    <path d=\"M18.56 5.44l.94 2.06.94-2.06 2.06-.94-2.06-.94-.94-2.06-.94 2.06-2.06.94zm-11 1L8.5 8.5l.94-2.06 2.06-.94-2.06-.94L8.5 2.5l-.94 2.06-2.06.94zm10 10l.94 2.06.94-2.06 2.06-.94-2.06-.94-.94-2.06-.94 2.06-2.06.94z\"/><path d=\"M17.41 7.96l-1.37-1.37c-.4-.4-.92-.59-1.43-.59-.52 0-1.04.2-1.43.59L10.3 9.45l-7.72 7.72c-.78.78-.78 2.05 0 2.83L4 21.41c.39.39.9.59 1.41.59.51 0 1.02-.2 1.41-.59l7.78-7.78 2.81-2.81c.8-.78.8-2.07 0-2.86zM5.41 20L4 18.59l7.72-7.72 1.47 1.35L5.41 20z\"/>\n",
              "  </svg>\n",
              "      </button>\n",
              "      \n",
              "  <style>\n",
              "    .colab-df-container {\n",
              "      display:flex;\n",
              "      flex-wrap:wrap;\n",
              "      gap: 12px;\n",
              "    }\n",
              "\n",
              "    .colab-df-convert {\n",
              "      background-color: #E8F0FE;\n",
              "      border: none;\n",
              "      border-radius: 50%;\n",
              "      cursor: pointer;\n",
              "      display: none;\n",
              "      fill: #1967D2;\n",
              "      height: 32px;\n",
              "      padding: 0 0 0 0;\n",
              "      width: 32px;\n",
              "    }\n",
              "\n",
              "    .colab-df-convert:hover {\n",
              "      background-color: #E2EBFA;\n",
              "      box-shadow: 0px 1px 2px rgba(60, 64, 67, 0.3), 0px 1px 3px 1px rgba(60, 64, 67, 0.15);\n",
              "      fill: #174EA6;\n",
              "    }\n",
              "\n",
              "    [theme=dark] .colab-df-convert {\n",
              "      background-color: #3B4455;\n",
              "      fill: #D2E3FC;\n",
              "    }\n",
              "\n",
              "    [theme=dark] .colab-df-convert:hover {\n",
              "      background-color: #434B5C;\n",
              "      box-shadow: 0px 1px 3px 1px rgba(0, 0, 0, 0.15);\n",
              "      filter: drop-shadow(0px 1px 2px rgba(0, 0, 0, 0.3));\n",
              "      fill: #FFFFFF;\n",
              "    }\n",
              "  </style>\n",
              "\n",
              "      <script>\n",
              "        const buttonEl =\n",
              "          document.querySelector('#df-c862489b-4dd4-46a6-bf1c-686199c4fe3a button.colab-df-convert');\n",
              "        buttonEl.style.display =\n",
              "          google.colab.kernel.accessAllowed ? 'block' : 'none';\n",
              "\n",
              "        async function convertToInteractive(key) {\n",
              "          const element = document.querySelector('#df-c862489b-4dd4-46a6-bf1c-686199c4fe3a');\n",
              "          const dataTable =\n",
              "            await google.colab.kernel.invokeFunction('convertToInteractive',\n",
              "                                                     [key], {});\n",
              "          if (!dataTable) return;\n",
              "\n",
              "          const docLinkHtml = 'Like what you see? Visit the ' +\n",
              "            '<a target=\"_blank\" href=https://colab.research.google.com/notebooks/data_table.ipynb>data table notebook</a>'\n",
              "            + ' to learn more about interactive tables.';\n",
              "          element.innerHTML = '';\n",
              "          dataTable['output_type'] = 'display_data';\n",
              "          await google.colab.output.renderOutput(dataTable, element);\n",
              "          const docLink = document.createElement('div');\n",
              "          docLink.innerHTML = docLinkHtml;\n",
              "          element.appendChild(docLink);\n",
              "        }\n",
              "      </script>\n",
              "    </div>\n",
              "  </div>\n",
              "  "
            ]
          },
          "metadata": {},
          "execution_count": 20
        }
      ]
    },
    {
      "cell_type": "markdown",
      "source": [
        "### Obtenemos los estadisticos basicos\n",
        "para AGE la cv < 0.5, la media artimetica es representativa, para todas las demas variables ya que cv > 1 la media no es representativa y por tanto se rechaza como promedio."
      ],
      "metadata": {
        "id": "IalADaBcBhhx"
      },
      "id": "IalADaBcBhhx"
    },
    {
      "cell_type": "markdown",
      "id": "6fbc827c-af04-479b-8beb-5f6bd11d9ced",
      "metadata": {
        "tags": [],
        "id": "6fbc827c-af04-479b-8beb-5f6bd11d9ced"
      },
      "source": [
        "### Variable `Age`"
      ]
    },
    {
      "cell_type": "code",
      "execution_count": null,
      "id": "13eeb736-1a97-4e4d-bae2-a79ee508c316",
      "metadata": {
        "id": "13eeb736-1a97-4e4d-bae2-a79ee508c316",
        "colab": {
          "base_uri": "https://localhost:8080/"
        },
        "outputId": "18e7d96c-9b19-4a56-fb5c-347e21eb347c"
      },
      "outputs": [
        {
          "output_type": "execute_result",
          "data": {
            "text/plain": [
              "       Frequency\n",
              "Age             \n",
              "0.42           1\n",
              "0.67           1\n",
              "0.75           2\n",
              "0.83           2\n",
              "0.92           1\n",
              "...          ...\n",
              "70.00          2\n",
              "70.50          1\n",
              "71.00          2\n",
              "74.00          1\n",
              "80.00          1\n",
              "\n",
              "[89 rows x 1 columns]"
            ],
            "text/html": [
              "\n",
              "  <div id=\"df-bc24e070-0309-4240-9eff-9703e38e2e93\">\n",
              "    <div class=\"colab-df-container\">\n",
              "      <div>\n",
              "<style scoped>\n",
              "    .dataframe tbody tr th:only-of-type {\n",
              "        vertical-align: middle;\n",
              "    }\n",
              "\n",
              "    .dataframe tbody tr th {\n",
              "        vertical-align: top;\n",
              "    }\n",
              "\n",
              "    .dataframe thead th {\n",
              "        text-align: right;\n",
              "    }\n",
              "</style>\n",
              "<table border=\"1\" class=\"dataframe\">\n",
              "  <thead>\n",
              "    <tr style=\"text-align: right;\">\n",
              "      <th></th>\n",
              "      <th>Frequency</th>\n",
              "    </tr>\n",
              "    <tr>\n",
              "      <th>Age</th>\n",
              "      <th></th>\n",
              "    </tr>\n",
              "  </thead>\n",
              "  <tbody>\n",
              "    <tr>\n",
              "      <th>0.42</th>\n",
              "      <td>1</td>\n",
              "    </tr>\n",
              "    <tr>\n",
              "      <th>0.67</th>\n",
              "      <td>1</td>\n",
              "    </tr>\n",
              "    <tr>\n",
              "      <th>0.75</th>\n",
              "      <td>2</td>\n",
              "    </tr>\n",
              "    <tr>\n",
              "      <th>0.83</th>\n",
              "      <td>2</td>\n",
              "    </tr>\n",
              "    <tr>\n",
              "      <th>0.92</th>\n",
              "      <td>1</td>\n",
              "    </tr>\n",
              "    <tr>\n",
              "      <th>...</th>\n",
              "      <td>...</td>\n",
              "    </tr>\n",
              "    <tr>\n",
              "      <th>70.00</th>\n",
              "      <td>2</td>\n",
              "    </tr>\n",
              "    <tr>\n",
              "      <th>70.50</th>\n",
              "      <td>1</td>\n",
              "    </tr>\n",
              "    <tr>\n",
              "      <th>71.00</th>\n",
              "      <td>2</td>\n",
              "    </tr>\n",
              "    <tr>\n",
              "      <th>74.00</th>\n",
              "      <td>1</td>\n",
              "    </tr>\n",
              "    <tr>\n",
              "      <th>80.00</th>\n",
              "      <td>1</td>\n",
              "    </tr>\n",
              "  </tbody>\n",
              "</table>\n",
              "<p>89 rows × 1 columns</p>\n",
              "</div>\n",
              "      <button class=\"colab-df-convert\" onclick=\"convertToInteractive('df-bc24e070-0309-4240-9eff-9703e38e2e93')\"\n",
              "              title=\"Convert this dataframe to an interactive table.\"\n",
              "              style=\"display:none;\">\n",
              "        \n",
              "  <svg xmlns=\"http://www.w3.org/2000/svg\" height=\"24px\"viewBox=\"0 0 24 24\"\n",
              "       width=\"24px\">\n",
              "    <path d=\"M0 0h24v24H0V0z\" fill=\"none\"/>\n",
              "    <path d=\"M18.56 5.44l.94 2.06.94-2.06 2.06-.94-2.06-.94-.94-2.06-.94 2.06-2.06.94zm-11 1L8.5 8.5l.94-2.06 2.06-.94-2.06-.94L8.5 2.5l-.94 2.06-2.06.94zm10 10l.94 2.06.94-2.06 2.06-.94-2.06-.94-.94-2.06-.94 2.06-2.06.94z\"/><path d=\"M17.41 7.96l-1.37-1.37c-.4-.4-.92-.59-1.43-.59-.52 0-1.04.2-1.43.59L10.3 9.45l-7.72 7.72c-.78.78-.78 2.05 0 2.83L4 21.41c.39.39.9.59 1.41.59.51 0 1.02-.2 1.41-.59l7.78-7.78 2.81-2.81c.8-.78.8-2.07 0-2.86zM5.41 20L4 18.59l7.72-7.72 1.47 1.35L5.41 20z\"/>\n",
              "  </svg>\n",
              "      </button>\n",
              "      \n",
              "  <style>\n",
              "    .colab-df-container {\n",
              "      display:flex;\n",
              "      flex-wrap:wrap;\n",
              "      gap: 12px;\n",
              "    }\n",
              "\n",
              "    .colab-df-convert {\n",
              "      background-color: #E8F0FE;\n",
              "      border: none;\n",
              "      border-radius: 50%;\n",
              "      cursor: pointer;\n",
              "      display: none;\n",
              "      fill: #1967D2;\n",
              "      height: 32px;\n",
              "      padding: 0 0 0 0;\n",
              "      width: 32px;\n",
              "    }\n",
              "\n",
              "    .colab-df-convert:hover {\n",
              "      background-color: #E2EBFA;\n",
              "      box-shadow: 0px 1px 2px rgba(60, 64, 67, 0.3), 0px 1px 3px 1px rgba(60, 64, 67, 0.15);\n",
              "      fill: #174EA6;\n",
              "    }\n",
              "\n",
              "    [theme=dark] .colab-df-convert {\n",
              "      background-color: #3B4455;\n",
              "      fill: #D2E3FC;\n",
              "    }\n",
              "\n",
              "    [theme=dark] .colab-df-convert:hover {\n",
              "      background-color: #434B5C;\n",
              "      box-shadow: 0px 1px 3px 1px rgba(0, 0, 0, 0.15);\n",
              "      filter: drop-shadow(0px 1px 2px rgba(0, 0, 0, 0.3));\n",
              "      fill: #FFFFFF;\n",
              "    }\n",
              "  </style>\n",
              "\n",
              "      <script>\n",
              "        const buttonEl =\n",
              "          document.querySelector('#df-bc24e070-0309-4240-9eff-9703e38e2e93 button.colab-df-convert');\n",
              "        buttonEl.style.display =\n",
              "          google.colab.kernel.accessAllowed ? 'block' : 'none';\n",
              "\n",
              "        async function convertToInteractive(key) {\n",
              "          const element = document.querySelector('#df-bc24e070-0309-4240-9eff-9703e38e2e93');\n",
              "          const dataTable =\n",
              "            await google.colab.kernel.invokeFunction('convertToInteractive',\n",
              "                                                     [key], {});\n",
              "          if (!dataTable) return;\n",
              "\n",
              "          const docLinkHtml = 'Like what you see? Visit the ' +\n",
              "            '<a target=\"_blank\" href=https://colab.research.google.com/notebooks/data_table.ipynb>data table notebook</a>'\n",
              "            + ' to learn more about interactive tables.';\n",
              "          element.innerHTML = '';\n",
              "          dataTable['output_type'] = 'display_data';\n",
              "          await google.colab.output.renderOutput(dataTable, element);\n",
              "          const docLink = document.createElement('div');\n",
              "          docLink.innerHTML = docLinkHtml;\n",
              "          element.appendChild(docLink);\n",
              "        }\n",
              "      </script>\n",
              "    </div>\n",
              "  </div>\n",
              "  "
            ]
          },
          "metadata": {},
          "execution_count": 21
        }
      ],
      "source": [
        "(df1.groupby(\"Age\").agg(Frequency=(\"Age\", \"count\"))) #Muestra la tabla de frecuencia"
      ]
    },
    {
      "cell_type": "markdown",
      "id": "e398cfdd-3ce3-4d76-9d99-2e7288d23171",
      "metadata": {
        "id": "e398cfdd-3ce3-4d76-9d99-2e7288d23171"
      },
      "source": [
        "#### Se puede apreciar pasajeros de todas las edades desde bebes hasta ancianos"
      ]
    },
    {
      "cell_type": "code",
      "execution_count": null,
      "id": "80859a7e-aaef-476f-8acc-d97656bcca2b",
      "metadata": {
        "id": "80859a7e-aaef-476f-8acc-d97656bcca2b",
        "colab": {
          "base_uri": "https://localhost:8080/"
        },
        "outputId": "ca5837ae-3af9-429d-ef2b-c9110345bf8a"
      },
      "outputs": [
        {
          "output_type": "display_data",
          "data": {
            "text/plain": [
              "<Figure size 2880x360 with 1 Axes>"
            ],
            "image/png": "[encoded data removed]"
          },
          "metadata": {}
        }
      ],
      "source": [
        "countsAge = df1.Age.value_counts()\n",
        "fig = plt.figure(figsize = (40,5))\n",
        "ax = fig.add_axes([1,0,1,1])\n",
        "sns.set(color_codes = True) \n",
        "sns.barplot(x=countsAge.index, y=countsAge.values, palette=\"OrRd\") #Genera el grafico de barras\n",
        "plt.title(\"Frecuencia de Edades en el titanic\")\n",
        "plt.ylabel(\"Frecuencia\")\n",
        "plt.xlabel(\"Edades\")\n",
        "plt.show()"
      ]
    },
    {
      "cell_type": "markdown",
      "id": "adc31acd-23da-43d7-86d7-aea8c862bf8f",
      "metadata": {
        "id": "adc31acd-23da-43d7-86d7-aea8c862bf8f"
      },
      "source": [
        "#### Haciendo doble click izquierdo sobre el grafico se puede ver de mejor manera. Se puede observar que la mayor cantidad de gente esta entre los 18 y 40 años como tambien que los ancianos y bebes son solo unos cuantos. EL minimo de edad es de 0.42 años el maximo de 80 años."
      ]
    },
    {
      "cell_type": "markdown",
      "id": "a869a4fc-1213-4603-9243-d7ddccfe2be7",
      "metadata": {
        "id": "a869a4fc-1213-4603-9243-d7ddccfe2be7"
      },
      "source": [
        "#### <span style=\"color: #7A3BDB\">Medidas de centralización</span>"
      ]
    },
    {
      "cell_type": "code",
      "execution_count": null,
      "id": "a76729ae-36a0-4b03-8206-8b5e7d50a239",
      "metadata": {
        "id": "a76729ae-36a0-4b03-8206-8b5e7d50a239",
        "colab": {
          "base_uri": "https://localhost:8080/"
        },
        "outputId": "fbcf2287-f9a8-42d7-8b0e-2083ec899db6"
      },
      "outputs": [
        {
          "output_type": "stream",
          "name": "stdout",
          "text": [
            "0    22.0\n",
            "dtype: float64\n"
          ]
        }
      ],
      "source": [
        "mode = df1['Age'].mode() # Calculo moda\n",
        "print(mode)"
      ]
    },
    {
      "cell_type": "markdown",
      "id": "2e0b6149-a242-4cb7-badb-1f316264757d",
      "metadata": {
        "id": "2e0b6149-a242-4cb7-badb-1f316264757d"
      },
      "source": [
        "#### 22 años es la edad que mas recurrente en la tripulacion de 887 personas"
      ]
    },
    {
      "cell_type": "markdown",
      "id": "989550a6-3bc8-4a89-bda1-c68f5991e0e0",
      "metadata": {
        "id": "989550a6-3bc8-4a89-bda1-c68f5991e0e0"
      },
      "source": [
        "#### <span style=\"color: #7A3BDB\">Diagrama de Cajas</span>"
      ]
    },
    {
      "cell_type": "code",
      "execution_count": null,
      "id": "71eb0fdb-c730-4674-9f5c-47a6bc597165",
      "metadata": {
        "id": "71eb0fdb-c730-4674-9f5c-47a6bc597165",
        "colab": {
          "base_uri": "https://localhost:8080/"
        },
        "outputId": "22f2d8f6-8d77-4fd1-e688-ec5560e1b785"
      },
      "outputs": [
        {
          "output_type": "execute_result",
          "data": {
            "text/plain": [
              "<matplotlib.axes._subplots.AxesSubplot at 0x7f0a0d1d0c90>"
            ]
          },
          "metadata": {},
          "execution_count": 24
        },
        {
          "output_type": "display_data",
          "data": {
            "text/plain": [
              "<Figure size 432x288 with 1 Axes>"
            ],
            "image/png": "[encoded data removed]"
          },
          "metadata": {}
        }
      ],
      "source": [
        "sns.boxplot( x=df[\"Age\"]) #Genera el diagrama de caja y bigote"
      ]
    },
    {
      "cell_type": "markdown",
      "id": "063d2268-02bc-4162-841a-65dad814fe1c",
      "metadata": {
        "id": "063d2268-02bc-4162-841a-65dad814fe1c"
      },
      "source": [
        "#### La mediana bordea los 30 años, el primer cuartil los 20 y el tercer quartil los 40 años, su extremo inferior y superior son 0 y casi 65 respectivamente con datos atipicos pasando este extremo, tambien se puede observar que es levemente asimetrico hacia la izquierda y que los datos no estan agrupados."
      ]
    },
    {
      "cell_type": "markdown",
      "id": "0c35c25d-8bf4-4122-887f-dd1fc27fc3d0",
      "metadata": {
        "id": "0c35c25d-8bf4-4122-887f-dd1fc27fc3d0"
      },
      "source": [
        "#### <span style=\"color: #7A3BDB\">Medidas de dispersión</span>"
      ]
    },
    {
      "cell_type": "code",
      "execution_count": null,
      "id": "a08a4c2a-5fa5-4e75-8f02-415324d7b5ba",
      "metadata": {
        "id": "a08a4c2a-5fa5-4e75-8f02-415324d7b5ba",
        "colab": {
          "base_uri": "https://localhost:8080/"
        },
        "outputId": "462b551f-2ca0-4e81-8900-a2889cea368d"
      },
      "outputs": [
        {
          "output_type": "stream",
          "name": "stdout",
          "text": [
            "199.42829701227413\n"
          ]
        }
      ],
      "source": [
        "varianceAge = df1['Age'].var()# Calculo Varianza\n",
        "print(varianceAge)"
      ]
    },
    {
      "cell_type": "markdown",
      "id": "9eb01e42-fbf1-4876-aad0-8cc70bfd5cf6",
      "metadata": {
        "id": "9eb01e42-fbf1-4876-aad0-8cc70bfd5cf6"
      },
      "source": [
        "#### La varianza es muy alta esto quiere decir que existe mucha dispersion entre los datos respecto a la media"
      ]
    },
    {
      "cell_type": "markdown",
      "id": "2a0162cd-4985-49d2-8a7e-5c46cf8775cc",
      "metadata": {
        "tags": [],
        "id": "2a0162cd-4985-49d2-8a7e-5c46cf8775cc"
      },
      "source": [
        "#### <span style=\"color: #7A3BDB\">Asimetria</span>"
      ]
    },
    {
      "cell_type": "code",
      "execution_count": null,
      "id": "eaa860d3-9d42-4ea6-a13f-ebf117f1f845",
      "metadata": {
        "id": "eaa860d3-9d42-4ea6-a13f-ebf117f1f845",
        "colab": {
          "base_uri": "https://localhost:8080/"
        },
        "outputId": "5fd056f5-534a-4e28-fff9-68c42527ce26"
      },
      "outputs": [
        {
          "output_type": "execute_result",
          "data": {
            "text/plain": [
              "0.44718857190799916"
            ]
          },
          "metadata": {},
          "execution_count": 26
        }
      ],
      "source": [
        "df1['Age'].skew()"
      ]
    },
    {
      "cell_type": "markdown",
      "id": "4435a1b4-4bf0-4809-ba6d-e304b867bc38",
      "metadata": {
        "id": "4435a1b4-4bf0-4809-ba6d-e304b867bc38"
      },
      "source": [
        "#### La variable `Age` tiene una asimetria positiva (a la derecha)"
      ]
    },
    {
      "cell_type": "markdown",
      "id": "7385c853-d48e-4b41-b242-03553db013f5",
      "metadata": {
        "id": "7385c853-d48e-4b41-b242-03553db013f5"
      },
      "source": [
        "#### <span style=\"color: #7A3BDB\">Curtosis</span>"
      ]
    },
    {
      "cell_type": "code",
      "execution_count": null,
      "id": "2f379fec-7709-4080-b9cf-152029a13387",
      "metadata": {
        "id": "2f379fec-7709-4080-b9cf-152029a13387",
        "colab": {
          "base_uri": "https://localhost:8080/"
        },
        "outputId": "8c3ad936-c59f-4ed9-f5d6-0f58f0304719"
      },
      "outputs": [
        {
          "output_type": "execute_result",
          "data": {
            "text/plain": [
              "0.2925590867837582"
            ]
          },
          "metadata": {},
          "execution_count": 27
        }
      ],
      "source": [
        "df1['Age'].kurt()"
      ]
    },
    {
      "cell_type": "markdown",
      "id": "24fbf472-a91f-4490-87f7-c7343c68210c",
      "metadata": {
        "tags": [],
        "id": "24fbf472-a91f-4490-87f7-c7343c68210c"
      },
      "source": [
        "#### La distribucion es Leptocúrtica"
      ]
    },
    {
      "cell_type": "markdown",
      "id": "6e4ac604-448e-41c1-a16b-e27806dabb34",
      "metadata": {
        "tags": [],
        "id": "6e4ac604-448e-41c1-a16b-e27806dabb34"
      },
      "source": [
        "### Variable `SiblingsSpousesAboard`"
      ]
    },
    {
      "cell_type": "code",
      "execution_count": null,
      "id": "8f023315-a16f-4c39-8917-d80045a41d80",
      "metadata": {
        "id": "8f023315-a16f-4c39-8917-d80045a41d80",
        "colab": {
          "base_uri": "https://localhost:8080/"
        },
        "outputId": "32585614-0664-4564-aed7-320f0c897cb6"
      },
      "outputs": [
        {
          "output_type": "execute_result",
          "data": {
            "text/plain": [
              "                       Frequency\n",
              "SiblingsSpousesAboard           \n",
              "0                            604\n",
              "1                            209\n",
              "2                             28\n",
              "3                             16\n",
              "4                             18\n",
              "5                              5\n",
              "8                              7"
            ],
            "text/html": [
              "\n",
              "  <div id=\"df-21c82c89-59ae-4e04-811d-ac039bdeeec6\">\n",
              "    <div class=\"colab-df-container\">\n",
              "      <div>\n",
              "<style scoped>\n",
              "    .dataframe tbody tr th:only-of-type {\n",
              "        vertical-align: middle;\n",
              "    }\n",
              "\n",
              "    .dataframe tbody tr th {\n",
              "        vertical-align: top;\n",
              "    }\n",
              "\n",
              "    .dataframe thead th {\n",
              "        text-align: right;\n",
              "    }\n",
              "</style>\n",
              "<table border=\"1\" class=\"dataframe\">\n",
              "  <thead>\n",
              "    <tr style=\"text-align: right;\">\n",
              "      <th></th>\n",
              "      <th>Frequency</th>\n",
              "    </tr>\n",
              "    <tr>\n",
              "      <th>SiblingsSpousesAboard</th>\n",
              "      <th></th>\n",
              "    </tr>\n",
              "  </thead>\n",
              "  <tbody>\n",
              "    <tr>\n",
              "      <th>0</th>\n",
              "      <td>604</td>\n",
              "    </tr>\n",
              "    <tr>\n",
              "      <th>1</th>\n",
              "      <td>209</td>\n",
              "    </tr>\n",
              "    <tr>\n",
              "      <th>2</th>\n",
              "      <td>28</td>\n",
              "    </tr>\n",
              "    <tr>\n",
              "      <th>3</th>\n",
              "      <td>16</td>\n",
              "    </tr>\n",
              "    <tr>\n",
              "      <th>4</th>\n",
              "      <td>18</td>\n",
              "    </tr>\n",
              "    <tr>\n",
              "      <th>5</th>\n",
              "      <td>5</td>\n",
              "    </tr>\n",
              "    <tr>\n",
              "      <th>8</th>\n",
              "      <td>7</td>\n",
              "    </tr>\n",
              "  </tbody>\n",
              "</table>\n",
              "</div>\n",
              "      <button class=\"colab-df-convert\" onclick=\"convertToInteractive('df-21c82c89-59ae-4e04-811d-ac039bdeeec6')\"\n",
              "              title=\"Convert this dataframe to an interactive table.\"\n",
              "              style=\"display:none;\">\n",
              "        \n",
              "  <svg xmlns=\"http://www.w3.org/2000/svg\" height=\"24px\"viewBox=\"0 0 24 24\"\n",
              "       width=\"24px\">\n",
              "    <path d=\"M0 0h24v24H0V0z\" fill=\"none\"/>\n",
              "    <path d=\"M18.56 5.44l.94 2.06.94-2.06 2.06-.94-2.06-.94-.94-2.06-.94 2.06-2.06.94zm-11 1L8.5 8.5l.94-2.06 2.06-.94-2.06-.94L8.5 2.5l-.94 2.06-2.06.94zm10 10l.94 2.06.94-2.06 2.06-.94-2.06-.94-.94-2.06-.94 2.06-2.06.94z\"/><path d=\"M17.41 7.96l-1.37-1.37c-.4-.4-.92-.59-1.43-.59-.52 0-1.04.2-1.43.59L10.3 9.45l-7.72 7.72c-.78.78-.78 2.05 0 2.83L4 21.41c.39.39.9.59 1.41.59.51 0 1.02-.2 1.41-.59l7.78-7.78 2.81-2.81c.8-.78.8-2.07 0-2.86zM5.41 20L4 18.59l7.72-7.72 1.47 1.35L5.41 20z\"/>\n",
              "  </svg>\n",
              "      </button>\n",
              "      \n",
              "  <style>\n",
              "    .colab-df-container {\n",
              "      display:flex;\n",
              "      flex-wrap:wrap;\n",
              "      gap: 12px;\n",
              "    }\n",
              "\n",
              "    .colab-df-convert {\n",
              "      background-color: #E8F0FE;\n",
              "      border: none;\n",
              "      border-radius: 50%;\n",
              "      cursor: pointer;\n",
              "      display: none;\n",
              "      fill: #1967D2;\n",
              "      height: 32px;\n",
              "      padding: 0 0 0 0;\n",
              "      width: 32px;\n",
              "    }\n",
              "\n",
              "    .colab-df-convert:hover {\n",
              "      background-color: #E2EBFA;\n",
              "      box-shadow: 0px 1px 2px rgba(60, 64, 67, 0.3), 0px 1px 3px 1px rgba(60, 64, 67, 0.15);\n",
              "      fill: #174EA6;\n",
              "    }\n",
              "\n",
              "    [theme=dark] .colab-df-convert {\n",
              "      background-color: #3B4455;\n",
              "      fill: #D2E3FC;\n",
              "    }\n",
              "\n",
              "    [theme=dark] .colab-df-convert:hover {\n",
              "      background-color: #434B5C;\n",
              "      box-shadow: 0px 1px 3px 1px rgba(0, 0, 0, 0.15);\n",
              "      filter: drop-shadow(0px 1px 2px rgba(0, 0, 0, 0.3));\n",
              "      fill: #FFFFFF;\n",
              "    }\n",
              "  </style>\n",
              "\n",
              "      <script>\n",
              "        const buttonEl =\n",
              "          document.querySelector('#df-21c82c89-59ae-4e04-811d-ac039bdeeec6 button.colab-df-convert');\n",
              "        buttonEl.style.display =\n",
              "          google.colab.kernel.accessAllowed ? 'block' : 'none';\n",
              "\n",
              "        async function convertToInteractive(key) {\n",
              "          const element = document.querySelector('#df-21c82c89-59ae-4e04-811d-ac039bdeeec6');\n",
              "          const dataTable =\n",
              "            await google.colab.kernel.invokeFunction('convertToInteractive',\n",
              "                                                     [key], {});\n",
              "          if (!dataTable) return;\n",
              "\n",
              "          const docLinkHtml = 'Like what you see? Visit the ' +\n",
              "            '<a target=\"_blank\" href=https://colab.research.google.com/notebooks/data_table.ipynb>data table notebook</a>'\n",
              "            + ' to learn more about interactive tables.';\n",
              "          element.innerHTML = '';\n",
              "          dataTable['output_type'] = 'display_data';\n",
              "          await google.colab.output.renderOutput(dataTable, element);\n",
              "          const docLink = document.createElement('div');\n",
              "          docLink.innerHTML = docLinkHtml;\n",
              "          element.appendChild(docLink);\n",
              "        }\n",
              "      </script>\n",
              "    </div>\n",
              "  </div>\n",
              "  "
            ]
          },
          "metadata": {},
          "execution_count": 28
        }
      ],
      "source": [
        "(df1.groupby(\"SiblingsSpousesAboard\").agg(Frequency=(\"SiblingsSpousesAboard\", \"count\"))) #Muestra la tabla de frecuencia"
      ]
    },
    {
      "cell_type": "markdown",
      "id": "06c5f7fe-ff37-4592-bd5b-1ba006af5d73",
      "metadata": {
        "id": "06c5f7fe-ff37-4592-bd5b-1ba006af5d73"
      },
      "source": [
        "#### Se puede observar que la mayor cantidad de personas no llevaba hermanos(as) ni conyuges a bordo y que la maxima cantidad de estas fue hasta de 8 que la tenian 7 tripulantes"
      ]
    },
    {
      "cell_type": "code",
      "execution_count": null,
      "id": "b51bbaee-b038-4fb7-8767-c00024e93f85",
      "metadata": {
        "id": "b51bbaee-b038-4fb7-8767-c00024e93f85",
        "colab": {
          "base_uri": "https://localhost:8080/"
        },
        "outputId": "7a516aaa-703d-46a9-ecb3-7c2e067f62d3"
      },
      "outputs": [
        {
          "output_type": "display_data",
          "data": {
            "text/plain": [
              "<Figure size 432x288 with 1 Axes>"
            ],
            "image/png": "[encoded data removed]"
          },
          "metadata": {}
        }
      ],
      "source": [
        "countsSiblingsAboard = df1.SiblingsSpousesAboard.value_counts()\n",
        "sns.set(color_codes = True) \n",
        "sns.barplot(x=countsSiblingsAboard.index, y=countsSiblingsAboard.values, palette=\"OrRd\")\n",
        "plt.title(\"Frecuencia de hermanos(as) / Esposos(as) abordo \")\n",
        "plt.ylabel(\"Frecuencia\")\n",
        "plt.xlabel(\"hermanos(as) / Esposos(as) abordo\")\n",
        "plt.show()"
      ]
    },
    {
      "cell_type": "markdown",
      "id": "be84b1c7-6842-477a-bc9c-303322628913",
      "metadata": {
        "tags": [],
        "id": "be84b1c7-6842-477a-bc9c-303322628913"
      },
      "source": [
        "#### Se aprecia como la frecuencia baja a medida que la cantidad de hermano/conyuge aumenta"
      ]
    },
    {
      "cell_type": "markdown",
      "id": "9fb438a8-5424-4150-a7c1-0cd965a4304b",
      "metadata": {
        "id": "9fb438a8-5424-4150-a7c1-0cd965a4304b"
      },
      "source": [
        "#### <span style=\"color: #7A3BDB\">Medidas de centralización</span>"
      ]
    },
    {
      "cell_type": "code",
      "execution_count": null,
      "id": "3902be7b-746a-4b19-bc72-ece0d4ffbbe5",
      "metadata": {
        "id": "3902be7b-746a-4b19-bc72-ece0d4ffbbe5",
        "colab": {
          "base_uri": "https://localhost:8080/"
        },
        "outputId": "f2e0750c-b063-4f54-b617-781a45d8bd41"
      },
      "outputs": [
        {
          "output_type": "stream",
          "name": "stdout",
          "text": [
            "0    0\n",
            "dtype: int64\n"
          ]
        }
      ],
      "source": [
        "modeSiblingsSpousesAboard = df1['SiblingsSpousesAboard'].mode() # Calculo moda\n",
        "print(modeSiblingsSpousesAboard)"
      ]
    },
    {
      "cell_type": "markdown",
      "id": "cc8dec83-c051-4dba-aafe-6b422ec74691",
      "metadata": {
        "id": "cc8dec83-c051-4dba-aafe-6b422ec74691"
      },
      "source": [
        "#### Como ya lo mostraba el grafico ahora el calculo de la moda lo ratifica, la cantidad de hermanos/conyuges que mas pasajeros tienen es 0"
      ]
    },
    {
      "cell_type": "markdown",
      "id": "c5fab233-f510-40f9-bd54-bbc8a5241ca9",
      "metadata": {
        "id": "c5fab233-f510-40f9-bd54-bbc8a5241ca9"
      },
      "source": [
        "#### <span style=\"color: #7A3BDB\">Diagrama de Cajas</span>"
      ]
    },
    {
      "cell_type": "code",
      "execution_count": null,
      "id": "d770fad8-acda-45df-82ad-6eb300f344b7",
      "metadata": {
        "id": "d770fad8-acda-45df-82ad-6eb300f344b7",
        "colab": {
          "base_uri": "https://localhost:8080/"
        },
        "outputId": "af6a8451-54a7-40d6-a3dd-3819c7a2cee0"
      },
      "outputs": [
        {
          "output_type": "execute_result",
          "data": {
            "text/plain": [
              "<matplotlib.axes._subplots.AxesSubplot at 0x7f0a0d1df590>"
            ]
          },
          "metadata": {},
          "execution_count": 31
        },
        {
          "output_type": "display_data",
          "data": {
            "text/plain": [
              "<Figure size 432x288 with 1 Axes>"
            ],
            "image/png": "[encoded data removed]"
          },
          "metadata": {}
        }
      ],
      "source": [
        "sns.boxplot( x=df1[\"SiblingsSpousesAboard\"]) #genera el diagrama de caja y bigotes"
      ]
    },
    {
      "cell_type": "markdown",
      "id": "794d67e2-2017-42ef-a4e5-3c68ca00f2d7",
      "metadata": {
        "id": "794d67e2-2017-42ef-a4e5-3c68ca00f2d7"
      },
      "source": [
        "#### La mediana es 0, el primer cuartil 0 y el tercer cuartil 1, su extremo inferior y superior son 0 y 1 respectivamente, tambien posee 4 valores atipicos el mas alejado es el de 8 hermanas/conyuges.\n",
        "#### Se puede observar que el diagrama es asimetrico a la izquierda, tambien se ver una baja dispersion de los datos."
      ]
    },
    {
      "cell_type": "markdown",
      "id": "cf68a57b-debe-4898-8f9a-7d346417c635",
      "metadata": {
        "id": "cf68a57b-debe-4898-8f9a-7d346417c635"
      },
      "source": [
        "#### <span style=\"color: #7A3BDB\">Medidas de dispersión</span>"
      ]
    },
    {
      "cell_type": "code",
      "execution_count": null,
      "id": "5b0a4b5f-7c14-45db-83c7-8f4d69bdbc18",
      "metadata": {
        "id": "5b0a4b5f-7c14-45db-83c7-8f4d69bdbc18",
        "colab": {
          "base_uri": "https://localhost:8080/"
        },
        "outputId": "cfdc0a87-1831-40d0-ac3a-432fcb233214"
      },
      "outputs": [
        {
          "output_type": "stream",
          "name": "stdout",
          "text": [
            "1.2202926139038686\n"
          ]
        }
      ],
      "source": [
        "varianceSiblingsSpousesAboard = df1['SiblingsSpousesAboard'].var()# Calculo Varianza\n",
        "print(varianceSiblingsSpousesAboard)"
      ]
    },
    {
      "cell_type": "markdown",
      "id": "430fe986-f9a0-4b1b-a14d-49e456fff757",
      "metadata": {
        "id": "430fe986-f9a0-4b1b-a14d-49e456fff757"
      },
      "source": [
        "#### Esto nos demuestra que la distribucion de datos posee una baja dispersion o sea los datos estan muy agrupados"
      ]
    },
    {
      "cell_type": "markdown",
      "id": "e41cc725-0ba3-490e-b5c9-1307feb59cfb",
      "metadata": {
        "id": "e41cc725-0ba3-490e-b5c9-1307feb59cfb"
      },
      "source": [
        "#### <span style=\"color: #7A3BDB\">Asimetria</span>"
      ]
    },
    {
      "cell_type": "code",
      "execution_count": null,
      "id": "56ab2d79-76e3-4173-92b2-be4e75193fd7",
      "metadata": {
        "id": "56ab2d79-76e3-4173-92b2-be4e75193fd7",
        "colab": {
          "base_uri": "https://localhost:8080/"
        },
        "outputId": "c6df14db-2b8b-472d-ff22-5de104b8cc83"
      },
      "outputs": [
        {
          "output_type": "execute_result",
          "data": {
            "text/plain": [
              "3.6867597596973"
            ]
          },
          "metadata": {},
          "execution_count": 33
        }
      ],
      "source": [
        "df1['SiblingsSpousesAboard'].skew()"
      ]
    },
    {
      "cell_type": "markdown",
      "id": "daf37c25-db51-438d-9541-7a74eb29276d",
      "metadata": {
        "id": "daf37c25-db51-438d-9541-7a74eb29276d"
      },
      "source": [
        "#### Como la asimetria > 0, es una distribucion asimetrica a la derecha"
      ]
    },
    {
      "cell_type": "markdown",
      "id": "c025aece-9427-4f8f-9e58-3716ffcaba94",
      "metadata": {
        "id": "c025aece-9427-4f8f-9e58-3716ffcaba94"
      },
      "source": [
        "#### <span style=\"color: #7A3BDB\">Curtosis</span>"
      ]
    },
    {
      "cell_type": "code",
      "execution_count": null,
      "id": "2942ad87-fa82-41db-a807-3b3191cc8454",
      "metadata": {
        "id": "2942ad87-fa82-41db-a807-3b3191cc8454",
        "colab": {
          "base_uri": "https://localhost:8080/"
        },
        "outputId": "e5574087-241c-4c54-fca8-5dc527af49b5"
      },
      "outputs": [
        {
          "output_type": "execute_result",
          "data": {
            "text/plain": [
              "17.797537149719055"
            ]
          },
          "metadata": {},
          "execution_count": 34
        }
      ],
      "source": [
        "df1['SiblingsSpousesAboard'].kurt()"
      ]
    },
    {
      "cell_type": "markdown",
      "id": "1478866a-f6db-457a-a5d7-421f19066743",
      "metadata": {
        "id": "1478866a-f6db-457a-a5d7-421f19066743"
      },
      "source": [
        "#### Ya que la curtosis > 3, la distribucion es leptocúrtica"
      ]
    },
    {
      "cell_type": "markdown",
      "id": "bcb8cd6b-371c-4f6b-89e0-886daf7f8d5d",
      "metadata": {
        "tags": [],
        "id": "bcb8cd6b-371c-4f6b-89e0-886daf7f8d5d"
      },
      "source": [
        "### Variable `ParentsChildrenAboard`"
      ]
    },
    {
      "cell_type": "code",
      "execution_count": null,
      "id": "8ae4536c-ec7f-4e30-9777-e3018342f23d",
      "metadata": {
        "id": "8ae4536c-ec7f-4e30-9777-e3018342f23d",
        "colab": {
          "base_uri": "https://localhost:8080/",
          "height": 300
        },
        "outputId": "21af12d7-9e68-45b6-9c1f-6c8a4ee6dd20"
      },
      "outputs": [
        {
          "output_type": "execute_result",
          "data": {
            "text/plain": [
              "                       Frequency\n",
              "ParentsChildrenAboard           \n",
              "0                            674\n",
              "1                            118\n",
              "2                             80\n",
              "3                              5\n",
              "4                              4\n",
              "5                              5\n",
              "6                              1"
            ],
            "text/html": [
              "\n",
              "  <div id=\"df-ad0a235c-567d-4627-93c7-e95f39274801\">\n",
              "    <div class=\"colab-df-container\">\n",
              "      <div>\n",
              "<style scoped>\n",
              "    .dataframe tbody tr th:only-of-type {\n",
              "        vertical-align: middle;\n",
              "    }\n",
              "\n",
              "    .dataframe tbody tr th {\n",
              "        vertical-align: top;\n",
              "    }\n",
              "\n",
              "    .dataframe thead th {\n",
              "        text-align: right;\n",
              "    }\n",
              "</style>\n",
              "<table border=\"1\" class=\"dataframe\">\n",
              "  <thead>\n",
              "    <tr style=\"text-align: right;\">\n",
              "      <th></th>\n",
              "      <th>Frequency</th>\n",
              "    </tr>\n",
              "    <tr>\n",
              "      <th>ParentsChildrenAboard</th>\n",
              "      <th></th>\n",
              "    </tr>\n",
              "  </thead>\n",
              "  <tbody>\n",
              "    <tr>\n",
              "      <th>0</th>\n",
              "      <td>674</td>\n",
              "    </tr>\n",
              "    <tr>\n",
              "      <th>1</th>\n",
              "      <td>118</td>\n",
              "    </tr>\n",
              "    <tr>\n",
              "      <th>2</th>\n",
              "      <td>80</td>\n",
              "    </tr>\n",
              "    <tr>\n",
              "      <th>3</th>\n",
              "      <td>5</td>\n",
              "    </tr>\n",
              "    <tr>\n",
              "      <th>4</th>\n",
              "      <td>4</td>\n",
              "    </tr>\n",
              "    <tr>\n",
              "      <th>5</th>\n",
              "      <td>5</td>\n",
              "    </tr>\n",
              "    <tr>\n",
              "      <th>6</th>\n",
              "      <td>1</td>\n",
              "    </tr>\n",
              "  </tbody>\n",
              "</table>\n",
              "</div>\n",
              "      <button class=\"colab-df-convert\" onclick=\"convertToInteractive('df-ad0a235c-567d-4627-93c7-e95f39274801')\"\n",
              "              title=\"Convert this dataframe to an interactive table.\"\n",
              "              style=\"display:none;\">\n",
              "        \n",
              "  <svg xmlns=\"http://www.w3.org/2000/svg\" height=\"24px\"viewBox=\"0 0 24 24\"\n",
              "       width=\"24px\">\n",
              "    <path d=\"M0 0h24v24H0V0z\" fill=\"none\"/>\n",
              "    <path d=\"M18.56 5.44l.94 2.06.94-2.06 2.06-.94-2.06-.94-.94-2.06-.94 2.06-2.06.94zm-11 1L8.5 8.5l.94-2.06 2.06-.94-2.06-.94L8.5 2.5l-.94 2.06-2.06.94zm10 10l.94 2.06.94-2.06 2.06-.94-2.06-.94-.94-2.06-.94 2.06-2.06.94z\"/><path d=\"M17.41 7.96l-1.37-1.37c-.4-.4-.92-.59-1.43-.59-.52 0-1.04.2-1.43.59L10.3 9.45l-7.72 7.72c-.78.78-.78 2.05 0 2.83L4 21.41c.39.39.9.59 1.41.59.51 0 1.02-.2 1.41-.59l7.78-7.78 2.81-2.81c.8-.78.8-2.07 0-2.86zM5.41 20L4 18.59l7.72-7.72 1.47 1.35L5.41 20z\"/>\n",
              "  </svg>\n",
              "      </button>\n",
              "      \n",
              "  <style>\n",
              "    .colab-df-container {\n",
              "      display:flex;\n",
              "      flex-wrap:wrap;\n",
              "      gap: 12px;\n",
              "    }\n",
              "\n",
              "    .colab-df-convert {\n",
              "      background-color: #E8F0FE;\n",
              "      border: none;\n",
              "      border-radius: 50%;\n",
              "      cursor: pointer;\n",
              "      display: none;\n",
              "      fill: #1967D2;\n",
              "      height: 32px;\n",
              "      padding: 0 0 0 0;\n",
              "      width: 32px;\n",
              "    }\n",
              "\n",
              "    .colab-df-convert:hover {\n",
              "      background-color: #E2EBFA;\n",
              "      box-shadow: 0px 1px 2px rgba(60, 64, 67, 0.3), 0px 1px 3px 1px rgba(60, 64, 67, 0.15);\n",
              "      fill: #174EA6;\n",
              "    }\n",
              "\n",
              "    [theme=dark] .colab-df-convert {\n",
              "      background-color: #3B4455;\n",
              "      fill: #D2E3FC;\n",
              "    }\n",
              "\n",
              "    [theme=dark] .colab-df-convert:hover {\n",
              "      background-color: #434B5C;\n",
              "      box-shadow: 0px 1px 3px 1px rgba(0, 0, 0, 0.15);\n",
              "      filter: drop-shadow(0px 1px 2px rgba(0, 0, 0, 0.3));\n",
              "      fill: #FFFFFF;\n",
              "    }\n",
              "  </style>\n",
              "\n",
              "      <script>\n",
              "        const buttonEl =\n",
              "          document.querySelector('#df-ad0a235c-567d-4627-93c7-e95f39274801 button.colab-df-convert');\n",
              "        buttonEl.style.display =\n",
              "          google.colab.kernel.accessAllowed ? 'block' : 'none';\n",
              "\n",
              "        async function convertToInteractive(key) {\n",
              "          const element = document.querySelector('#df-ad0a235c-567d-4627-93c7-e95f39274801');\n",
              "          const dataTable =\n",
              "            await google.colab.kernel.invokeFunction('convertToInteractive',\n",
              "                                                     [key], {});\n",
              "          if (!dataTable) return;\n",
              "\n",
              "          const docLinkHtml = 'Like what you see? Visit the ' +\n",
              "            '<a target=\"_blank\" href=https://colab.research.google.com/notebooks/data_table.ipynb>data table notebook</a>'\n",
              "            + ' to learn more about interactive tables.';\n",
              "          element.innerHTML = '';\n",
              "          dataTable['output_type'] = 'display_data';\n",
              "          await google.colab.output.renderOutput(dataTable, element);\n",
              "          const docLink = document.createElement('div');\n",
              "          docLink.innerHTML = docLinkHtml;\n",
              "          element.appendChild(docLink);\n",
              "        }\n",
              "      </script>\n",
              "    </div>\n",
              "  </div>\n",
              "  "
            ]
          },
          "metadata": {},
          "execution_count": 35
        }
      ],
      "source": [
        "(df1.groupby(\"ParentsChildrenAboard\").agg(Frequency=(\"ParentsChildrenAboard\", \"count\"))) #Muestra la tabla de frecuencia"
      ]
    },
    {
      "cell_type": "markdown",
      "id": "7e23175c-4abb-4d68-b305-5c647f1ff19c",
      "metadata": {
        "id": "7e23175c-4abb-4d68-b305-5c647f1ff19c"
      },
      "source": [
        "#### Se puede apreciar que la mayor cantidad de personas tienen entre 0 y 1 padre/niño ademas el minimo es tener 0 padres o niños y el maximo de 6 padre/niño."
      ]
    },
    {
      "cell_type": "code",
      "execution_count": null,
      "id": "8f23420b-f5eb-4f99-a11c-7eb8a77dbea4",
      "metadata": {
        "id": "8f23420b-f5eb-4f99-a11c-7eb8a77dbea4",
        "colab": {
          "base_uri": "https://localhost:8080/",
          "height": 301
        },
        "outputId": "2f8e080a-727a-440a-b8d8-5471f78bf44f"
      },
      "outputs": [
        {
          "output_type": "display_data",
          "data": {
            "text/plain": [
              "<Figure size 432x288 with 1 Axes>"
            ],
            "image/png": "[encoded data removed]"
          },
          "metadata": {}
        }
      ],
      "source": [
        "countsParentsChildrenAboard = df1.ParentsChildrenAboard.value_counts()\n",
        "sns.set(color_codes = True) \n",
        "sns.barplot(x=countsParentsChildrenAboard.index, y=countsParentsChildrenAboard.values, palette=\"OrRd\")\n",
        "plt.title(\"Frecuencia de padres/niños abordo\")\n",
        "plt.ylabel(\"Frecuencia\")\n",
        "plt.xlabel(\"padres/niños abordo\")\n",
        "plt.show()"
      ]
    },
    {
      "cell_type": "markdown",
      "id": "171f3f4f-7324-45c8-8a42-6536d81f7117",
      "metadata": {
        "id": "171f3f4f-7324-45c8-8a42-6536d81f7117"
      },
      "source": [
        "#### Aqui se puede observar de mejor manera como se distribuyen los datos siendo que la mayoria no tenia un padre/niño entre la tripulación."
      ]
    },
    {
      "cell_type": "markdown",
      "id": "39ec032f-f93c-4377-9a39-40dac698714e",
      "metadata": {
        "id": "39ec032f-f93c-4377-9a39-40dac698714e"
      },
      "source": [
        "#### <span style=\"color: #7A3BDB\">Medidas de centralización</span>"
      ]
    },
    {
      "cell_type": "code",
      "execution_count": null,
      "id": "a3d76b28-ae8d-41a7-85e0-19496d60962c",
      "metadata": {
        "id": "a3d76b28-ae8d-41a7-85e0-19496d60962c",
        "colab": {
          "base_uri": "https://localhost:8080/"
        },
        "outputId": "848efdb1-1872-45bb-c68c-36ad2f0d60b8"
      },
      "outputs": [
        {
          "output_type": "stream",
          "name": "stdout",
          "text": [
            "0    0\n",
            "dtype: int64\n"
          ]
        }
      ],
      "source": [
        "modeSiblingsSpousesAboard = df1['ParentsChildrenAboard'].mode() # Calculo moda\n",
        "print(modeSiblingsSpousesAboard)"
      ]
    },
    {
      "cell_type": "markdown",
      "id": "aea87e31-8c23-42c3-808a-fa695c667f1e",
      "metadata": {
        "id": "aea87e31-8c23-42c3-808a-fa695c667f1e"
      },
      "source": [
        "#### La cantidad de personas que tiene 0 padres/niños es la que mas se repite"
      ]
    },
    {
      "cell_type": "markdown",
      "id": "c5360783-3bb5-46b8-a790-ac8611da03c2",
      "metadata": {
        "id": "c5360783-3bb5-46b8-a790-ac8611da03c2"
      },
      "source": [
        "#### <span style=\"color: #7A3BDB\">Diagrama de Cajas</span>"
      ]
    },
    {
      "cell_type": "code",
      "execution_count": null,
      "id": "15f5f723-569b-4a8e-931f-fffaff9bd4e5",
      "metadata": {
        "id": "15f5f723-569b-4a8e-931f-fffaff9bd4e5",
        "colab": {
          "base_uri": "https://localhost:8080/",
          "height": 302
        },
        "outputId": "5ab52724-b52f-4955-b87a-eaa3085a4b60"
      },
      "outputs": [
        {
          "output_type": "execute_result",
          "data": {
            "text/plain": [
              "<matplotlib.axes._subplots.AxesSubplot at 0x7f0a0cd1c690>"
            ]
          },
          "metadata": {},
          "execution_count": 38
        },
        {
          "output_type": "display_data",
          "data": {
            "text/plain": [
              "<Figure size 432x288 with 1 Axes>"
            ],
            "image/png": "[encoded data removed]"
          },
          "metadata": {}
        }
      ],
      "source": [
        "sns.boxplot( x=df1[\"ParentsChildrenAboard\"]) #genera el diagrama de caja y bigotes"
      ]
    },
    {
      "cell_type": "markdown",
      "id": "51d0a896-379d-4a4a-804c-9e13deda6398",
      "metadata": {
        "id": "51d0a896-379d-4a4a-804c-9e13deda6398"
      },
      "source": [
        "#### Los cuartiles y sus extremos son todos 0, los extremos son 1, 2, 3, 4, 5 y 6."
      ]
    },
    {
      "cell_type": "markdown",
      "id": "a40b3122-8bb1-4bbb-8dd7-c00341ada54a",
      "metadata": {
        "id": "a40b3122-8bb1-4bbb-8dd7-c00341ada54a"
      },
      "source": [
        "#### <span style=\"color: #7A3BDB\">Medidas de dispersión</span>"
      ]
    },
    {
      "cell_type": "code",
      "execution_count": null,
      "id": "46cc5498-b6ab-42c5-86fc-cdcb7f79e3bd",
      "metadata": {
        "id": "46cc5498-b6ab-42c5-86fc-cdcb7f79e3bd",
        "colab": {
          "base_uri": "https://localhost:8080/"
        },
        "outputId": "d57a6932-c4a8-42f0-dbd0-a3ab4bdffb18"
      },
      "outputs": [
        {
          "output_type": "stream",
          "name": "stdout",
          "text": [
            "0.652001191018499\n"
          ]
        }
      ],
      "source": [
        "varianceParentsChildrenAboard = df1['ParentsChildrenAboard'].var()# Calculo Varianza\n",
        "print(varianceParentsChildrenAboard)"
      ]
    },
    {
      "cell_type": "markdown",
      "id": "760a6f42-59bb-4f56-b58f-59501933e53a",
      "metadata": {
        "id": "760a6f42-59bb-4f56-b58f-59501933e53a"
      },
      "source": [
        "#### Esta distribucion practicamente no posee dispersión"
      ]
    },
    {
      "cell_type": "markdown",
      "id": "be4b26e7-0e9d-46c3-ab35-c8126f3cccb1",
      "metadata": {
        "id": "be4b26e7-0e9d-46c3-ab35-c8126f3cccb1"
      },
      "source": [
        "#### <span style=\"color: #7A3BDB\">Asimetria</span>"
      ]
    },
    {
      "cell_type": "code",
      "execution_count": null,
      "id": "8a83c53d-c56d-4305-a7b2-17291eda17cc",
      "metadata": {
        "id": "8a83c53d-c56d-4305-a7b2-17291eda17cc",
        "colab": {
          "base_uri": "https://localhost:8080/"
        },
        "outputId": "795be2a7-4a09-4d6a-ef75-da205082e9dd"
      },
      "outputs": [
        {
          "output_type": "execute_result",
          "data": {
            "text/plain": [
              "2.74119806158299"
            ]
          },
          "metadata": {},
          "execution_count": 40
        }
      ],
      "source": [
        "df1['ParentsChildrenAboard'].skew()"
      ]
    },
    {
      "cell_type": "markdown",
      "id": "06dd1d69-71c5-43dd-ad81-93bb9fa388c8",
      "metadata": {
        "id": "06dd1d69-71c5-43dd-ad81-93bb9fa388c8"
      },
      "source": [
        "#### ya que la asimetria es mayor a cero la distribución es asimetrica a la derecha"
      ]
    },
    {
      "cell_type": "markdown",
      "id": "f800d33c-de82-41bb-b515-9032f2b1a888",
      "metadata": {
        "id": "f800d33c-de82-41bb-b515-9032f2b1a888"
      },
      "source": [
        "#### <span style=\"color: #7A3BDB\">Curtosis</span>"
      ]
    },
    {
      "cell_type": "code",
      "execution_count": null,
      "id": "3369d8b6-b9da-412e-becd-19f813d7f713",
      "metadata": {
        "id": "3369d8b6-b9da-412e-becd-19f813d7f713",
        "colab": {
          "base_uri": "https://localhost:8080/"
        },
        "outputId": "973a0faa-1869-4530-8df5-68bad3b190e4"
      },
      "outputs": [
        {
          "output_type": "execute_result",
          "data": {
            "text/plain": [
              "9.72306591995913"
            ]
          },
          "metadata": {},
          "execution_count": 41
        }
      ],
      "source": [
        "df1['ParentsChildrenAboard'].kurt()"
      ]
    },
    {
      "cell_type": "markdown",
      "id": "1d705ecf-79ab-4ae3-9c75-3e3bdb879725",
      "metadata": {
        "id": "1d705ecf-79ab-4ae3-9c75-3e3bdb879725"
      },
      "source": [
        "#### Ya que curtosis > 3 la distribucion es Leptocúrtica"
      ]
    },
    {
      "cell_type": "markdown",
      "id": "2fe3bc22-c217-4a2c-8827-828b7824e4a1",
      "metadata": {
        "tags": [],
        "id": "2fe3bc22-c217-4a2c-8827-828b7824e4a1"
      },
      "source": [
        "### Variable `Fare`"
      ]
    },
    {
      "cell_type": "code",
      "execution_count": null,
      "id": "a0ea55bb-b6d9-4335-bc41-e0223d2be652",
      "metadata": {
        "id": "a0ea55bb-b6d9-4335-bc41-e0223d2be652",
        "colab": {
          "base_uri": "https://localhost:8080/",
          "height": 455
        },
        "outputId": "4ef8cecc-b0b2-47b5-c8a7-a468743236c0"
      },
      "outputs": [
        {
          "output_type": "execute_result",
          "data": {
            "text/plain": [
              "          Frequency\n",
              "Fare               \n",
              "0.0000           15\n",
              "4.0125            1\n",
              "5.0000            1\n",
              "6.2375            1\n",
              "6.4375            1\n",
              "...             ...\n",
              "227.5250          4\n",
              "247.5208          2\n",
              "262.3750          2\n",
              "263.0000          4\n",
              "512.3292          3\n",
              "\n",
              "[248 rows x 1 columns]"
            ],
            "text/html": [
              "\n",
              "  <div id=\"df-c27fc7d4-7bef-471c-ac2f-669c314ede01\">\n",
              "    <div class=\"colab-df-container\">\n",
              "      <div>\n",
              "<style scoped>\n",
              "    .dataframe tbody tr th:only-of-type {\n",
              "        vertical-align: middle;\n",
              "    }\n",
              "\n",
              "    .dataframe tbody tr th {\n",
              "        vertical-align: top;\n",
              "    }\n",
              "\n",
              "    .dataframe thead th {\n",
              "        text-align: right;\n",
              "    }\n",
              "</style>\n",
              "<table border=\"1\" class=\"dataframe\">\n",
              "  <thead>\n",
              "    <tr style=\"text-align: right;\">\n",
              "      <th></th>\n",
              "      <th>Frequency</th>\n",
              "    </tr>\n",
              "    <tr>\n",
              "      <th>Fare</th>\n",
              "      <th></th>\n",
              "    </tr>\n",
              "  </thead>\n",
              "  <tbody>\n",
              "    <tr>\n",
              "      <th>0.0000</th>\n",
              "      <td>15</td>\n",
              "    </tr>\n",
              "    <tr>\n",
              "      <th>4.0125</th>\n",
              "      <td>1</td>\n",
              "    </tr>\n",
              "    <tr>\n",
              "      <th>5.0000</th>\n",
              "      <td>1</td>\n",
              "    </tr>\n",
              "    <tr>\n",
              "      <th>6.2375</th>\n",
              "      <td>1</td>\n",
              "    </tr>\n",
              "    <tr>\n",
              "      <th>6.4375</th>\n",
              "      <td>1</td>\n",
              "    </tr>\n",
              "    <tr>\n",
              "      <th>...</th>\n",
              "      <td>...</td>\n",
              "    </tr>\n",
              "    <tr>\n",
              "      <th>227.5250</th>\n",
              "      <td>4</td>\n",
              "    </tr>\n",
              "    <tr>\n",
              "      <th>247.5208</th>\n",
              "      <td>2</td>\n",
              "    </tr>\n",
              "    <tr>\n",
              "      <th>262.3750</th>\n",
              "      <td>2</td>\n",
              "    </tr>\n",
              "    <tr>\n",
              "      <th>263.0000</th>\n",
              "      <td>4</td>\n",
              "    </tr>\n",
              "    <tr>\n",
              "      <th>512.3292</th>\n",
              "      <td>3</td>\n",
              "    </tr>\n",
              "  </tbody>\n",
              "</table>\n",
              "<p>248 rows × 1 columns</p>\n",
              "</div>\n",
              "      <button class=\"colab-df-convert\" onclick=\"convertToInteractive('df-c27fc7d4-7bef-471c-ac2f-669c314ede01')\"\n",
              "              title=\"Convert this dataframe to an interactive table.\"\n",
              "              style=\"display:none;\">\n",
              "        \n",
              "  <svg xmlns=\"http://www.w3.org/2000/svg\" height=\"24px\"viewBox=\"0 0 24 24\"\n",
              "       width=\"24px\">\n",
              "    <path d=\"M0 0h24v24H0V0z\" fill=\"none\"/>\n",
              "    <path d=\"M18.56 5.44l.94 2.06.94-2.06 2.06-.94-2.06-.94-.94-2.06-.94 2.06-2.06.94zm-11 1L8.5 8.5l.94-2.06 2.06-.94-2.06-.94L8.5 2.5l-.94 2.06-2.06.94zm10 10l.94 2.06.94-2.06 2.06-.94-2.06-.94-.94-2.06-.94 2.06-2.06.94z\"/><path d=\"M17.41 7.96l-1.37-1.37c-.4-.4-.92-.59-1.43-.59-.52 0-1.04.2-1.43.59L10.3 9.45l-7.72 7.72c-.78.78-.78 2.05 0 2.83L4 21.41c.39.39.9.59 1.41.59.51 0 1.02-.2 1.41-.59l7.78-7.78 2.81-2.81c.8-.78.8-2.07 0-2.86zM5.41 20L4 18.59l7.72-7.72 1.47 1.35L5.41 20z\"/>\n",
              "  </svg>\n",
              "      </button>\n",
              "      \n",
              "  <style>\n",
              "    .colab-df-container {\n",
              "      display:flex;\n",
              "      flex-wrap:wrap;\n",
              "      gap: 12px;\n",
              "    }\n",
              "\n",
              "    .colab-df-convert {\n",
              "      background-color: #E8F0FE;\n",
              "      border: none;\n",
              "      border-radius: 50%;\n",
              "      cursor: pointer;\n",
              "      display: none;\n",
              "      fill: #1967D2;\n",
              "      height: 32px;\n",
              "      padding: 0 0 0 0;\n",
              "      width: 32px;\n",
              "    }\n",
              "\n",
              "    .colab-df-convert:hover {\n",
              "      background-color: #E2EBFA;\n",
              "      box-shadow: 0px 1px 2px rgba(60, 64, 67, 0.3), 0px 1px 3px 1px rgba(60, 64, 67, 0.15);\n",
              "      fill: #174EA6;\n",
              "    }\n",
              "\n",
              "    [theme=dark] .colab-df-convert {\n",
              "      background-color: #3B4455;\n",
              "      fill: #D2E3FC;\n",
              "    }\n",
              "\n",
              "    [theme=dark] .colab-df-convert:hover {\n",
              "      background-color: #434B5C;\n",
              "      box-shadow: 0px 1px 3px 1px rgba(0, 0, 0, 0.15);\n",
              "      filter: drop-shadow(0px 1px 2px rgba(0, 0, 0, 0.3));\n",
              "      fill: #FFFFFF;\n",
              "    }\n",
              "  </style>\n",
              "\n",
              "      <script>\n",
              "        const buttonEl =\n",
              "          document.querySelector('#df-c27fc7d4-7bef-471c-ac2f-669c314ede01 button.colab-df-convert');\n",
              "        buttonEl.style.display =\n",
              "          google.colab.kernel.accessAllowed ? 'block' : 'none';\n",
              "\n",
              "        async function convertToInteractive(key) {\n",
              "          const element = document.querySelector('#df-c27fc7d4-7bef-471c-ac2f-669c314ede01');\n",
              "          const dataTable =\n",
              "            await google.colab.kernel.invokeFunction('convertToInteractive',\n",
              "                                                     [key], {});\n",
              "          if (!dataTable) return;\n",
              "\n",
              "          const docLinkHtml = 'Like what you see? Visit the ' +\n",
              "            '<a target=\"_blank\" href=https://colab.research.google.com/notebooks/data_table.ipynb>data table notebook</a>'\n",
              "            + ' to learn more about interactive tables.';\n",
              "          element.innerHTML = '';\n",
              "          dataTable['output_type'] = 'display_data';\n",
              "          await google.colab.output.renderOutput(dataTable, element);\n",
              "          const docLink = document.createElement('div');\n",
              "          docLink.innerHTML = docLinkHtml;\n",
              "          element.appendChild(docLink);\n",
              "        }\n",
              "      </script>\n",
              "    </div>\n",
              "  </div>\n",
              "  "
            ]
          },
          "metadata": {},
          "execution_count": 42
        }
      ],
      "source": [
        "(df1.groupby(\"Fare\").agg(Frequency=(\"Fare\", \"count\"))) #Muestra la tabla de frecuencia"
      ]
    },
    {
      "cell_type": "markdown",
      "id": "74c29eb4-da2d-4383-9015-161deea4aac9",
      "metadata": {
        "id": "74c29eb4-da2d-4383-9015-161deea4aac9"
      },
      "source": [
        "#### Se puede ver mucha heterogeneidad entre los datos"
      ]
    },
    {
      "cell_type": "markdown",
      "id": "5afa5bf4-a0cc-461e-aab6-d4be6ba927bc",
      "metadata": {
        "id": "5afa5bf4-a0cc-461e-aab6-d4be6ba927bc"
      },
      "source": [
        "#### <span style=\"color: #7A3BDB\">Medidas de centralización</span>"
      ]
    },
    {
      "cell_type": "code",
      "execution_count": null,
      "id": "0235f7f2-24ec-4a6f-bbc8-ab6584e09688",
      "metadata": {
        "id": "0235f7f2-24ec-4a6f-bbc8-ab6584e09688",
        "colab": {
          "base_uri": "https://localhost:8080/"
        },
        "outputId": "6b322b82-64a4-42e2-8350-058d081b7581"
      },
      "outputs": [
        {
          "output_type": "stream",
          "name": "stdout",
          "text": [
            "0    8.05\n",
            "dtype: float64\n"
          ]
        }
      ],
      "source": [
        "modeFare = df1['Fare'].mode() # Calculo moda\n",
        "print(modeFare)"
      ]
    },
    {
      "cell_type": "markdown",
      "id": "e7a90372-3180-4eef-b299-bb5acc158c59",
      "metadata": {
        "id": "e7a90372-3180-4eef-b299-bb5acc158c59"
      },
      "source": [
        "#### El valor de tarifa que mas se repite es de 8.05 libras esterlinas"
      ]
    },
    {
      "cell_type": "markdown",
      "id": "d8795f99-8d31-42e4-bfd9-ca89a809ddc1",
      "metadata": {
        "id": "d8795f99-8d31-42e4-bfd9-ca89a809ddc1"
      },
      "source": [
        "#### <span style=\"color: #7A3BDB\">Diagrama de Cajas</span>"
      ]
    },
    {
      "cell_type": "code",
      "execution_count": null,
      "id": "a19e3bb6-c3ff-422c-9e74-37e7fc5ddfca",
      "metadata": {
        "id": "a19e3bb6-c3ff-422c-9e74-37e7fc5ddfca",
        "colab": {
          "base_uri": "https://localhost:8080/",
          "height": 302
        },
        "outputId": "f39ecf33-0b16-4e8f-c30d-5ddc5e6e0b1a"
      },
      "outputs": [
        {
          "output_type": "execute_result",
          "data": {
            "text/plain": [
              "<matplotlib.axes._subplots.AxesSubplot at 0x7f0a0cdb76d0>"
            ]
          },
          "metadata": {},
          "execution_count": 44
        },
        {
          "output_type": "display_data",
          "data": {
            "text/plain": [
              "<Figure size 432x288 with 1 Axes>"
            ],
            "image/png": "[encoded data removed]"
          },
          "metadata": {}
        }
      ],
      "source": [
        "sns.boxplot( x=df[\"Fare\"]) #Diagrama de caja y bitote"
      ]
    },
    {
      "cell_type": "markdown",
      "id": "7e53c7cf-34dd-4ce7-bd22-4065414071a2",
      "metadata": {
        "id": "7e53c7cf-34dd-4ce7-bd22-4065414071a2"
      },
      "source": [
        "#### La mediana es 14.4542 libras, el primer cuartil 7.925 libras y el tercer cuartil 31.1375 libras, su extremo inferior es de 0 libras y extremo superior de 75 libras aproximadamente, y su valor mas atipico es de 512.3292 libras esterlinas. \n",
        "#### Se puede observar que el diagrama es asimetrico a la izquierda, tambien tiene una muy alta dispersion de los datos."
      ]
    },
    {
      "cell_type": "markdown",
      "id": "d153b2c1-38e4-4c59-bacd-1fc97ed20340",
      "metadata": {
        "id": "d153b2c1-38e4-4c59-bacd-1fc97ed20340"
      },
      "source": [
        "#### <span style=\"color: #7A3BDB\">Medidas de dispersión</span>"
      ]
    },
    {
      "cell_type": "code",
      "execution_count": null,
      "id": "96bfb06d-7ef0-4dd0-b8a6-ee419ee9de53",
      "metadata": {
        "id": "96bfb06d-7ef0-4dd0-b8a6-ee419ee9de53",
        "colab": {
          "base_uri": "https://localhost:8080/"
        },
        "outputId": "f7e058cf-46a3-4d6b-fe6d-f907132e67ee"
      },
      "outputs": [
        {
          "output_type": "stream",
          "name": "stdout",
          "text": [
            "2478.2515464045473\n"
          ]
        }
      ],
      "source": [
        "varianceFare = df1['Fare'].var()# Calculo Varianza\n",
        "print(varianceFare)"
      ]
    },
    {
      "cell_type": "markdown",
      "id": "2904b301-53e1-4030-8a7b-3a5ab6c67f41",
      "metadata": {
        "id": "2904b301-53e1-4030-8a7b-3a5ab6c67f41"
      },
      "source": [
        "#### Esta distribucion posee una alta dispersión"
      ]
    },
    {
      "cell_type": "markdown",
      "id": "ba1f4db4-0e60-42df-ba30-d4c03ba2aafe",
      "metadata": {
        "id": "ba1f4db4-0e60-42df-ba30-d4c03ba2aafe"
      },
      "source": [
        "#### <span style=\"color: #7A3BDB\">Asimetria</span>"
      ]
    },
    {
      "cell_type": "code",
      "execution_count": null,
      "id": "46a40355-0739-4cf2-8936-4fed3bdbed05",
      "metadata": {
        "id": "46a40355-0739-4cf2-8936-4fed3bdbed05",
        "colab": {
          "base_uri": "https://localhost:8080/"
        },
        "outputId": "e3b244d8-21b0-419b-a4d5-3efa77271feb"
      },
      "outputs": [
        {
          "output_type": "execute_result",
          "data": {
            "text/plain": [
              "4.777671399019824"
            ]
          },
          "metadata": {},
          "execution_count": 46
        }
      ],
      "source": [
        "df1['Fare'].skew()"
      ]
    },
    {
      "cell_type": "markdown",
      "id": "e9125ec7-6f7c-4ba6-a179-e0705ca643a9",
      "metadata": {
        "id": "e9125ec7-6f7c-4ba6-a179-e0705ca643a9"
      },
      "source": [
        "#### Ya que la asimetría es mayor que cero esta es una distribucion asimétrica a la derecha"
      ]
    },
    {
      "cell_type": "markdown",
      "id": "82147617-b4ee-4fb2-9a2a-2c35e2eaae30",
      "metadata": {
        "id": "82147617-b4ee-4fb2-9a2a-2c35e2eaae30"
      },
      "source": [
        "#### <span style=\"color: #7A3BDB\">Curtosis</span>"
      ]
    },
    {
      "cell_type": "code",
      "execution_count": null,
      "id": "a42af339-211c-49b6-bdb1-dc781c3a74cb",
      "metadata": {
        "id": "a42af339-211c-49b6-bdb1-dc781c3a74cb",
        "colab": {
          "base_uri": "https://localhost:8080/"
        },
        "outputId": "b55c6a01-f631-4ca2-8689-356493e6ca9c"
      },
      "outputs": [
        {
          "output_type": "execute_result",
          "data": {
            "text/plain": [
              "33.26460490128922"
            ]
          },
          "metadata": {},
          "execution_count": 47
        }
      ],
      "source": [
        "df1['Fare'].kurt()"
      ]
    },
    {
      "cell_type": "markdown",
      "id": "4330f3f1-fda7-4ef8-b8ac-60cc3a62daf4",
      "metadata": {
        "id": "4330f3f1-fda7-4ef8-b8ac-60cc3a62daf4"
      },
      "source": [
        "#### La curtosis es mayor a 3 por tanto la distribución es Leptocúrtica"
      ]
    },
    {
      "cell_type": "markdown",
      "id": "ad265589-fe18-4e71-a596-16fff797e828",
      "metadata": {
        "tags": [],
        "id": "ad265589-fe18-4e71-a596-16fff797e828"
      },
      "source": [
        "## **Mapas de correlacion**"
      ]
    },
    {
      "cell_type": "markdown",
      "id": "47f7b33c-2c4d-48ce-b9bb-68f9546de624",
      "metadata": {
        "tags": [],
        "id": "47f7b33c-2c4d-48ce-b9bb-68f9546de624"
      },
      "source": [
        "#### <span style=\"color: #7A3BDB\">Correlacion</span>"
      ]
    },
    {
      "cell_type": "code",
      "execution_count": null,
      "id": "2e3c957e-5ab9-4765-a3a5-3804709fa5a0",
      "metadata": {
        "id": "2e3c957e-5ab9-4765-a3a5-3804709fa5a0",
        "colab": {
          "base_uri": "https://localhost:8080/",
          "height": 269
        },
        "outputId": "85e17237-002c-4168-920c-420b74338c07"
      },
      "outputs": [
        {
          "output_type": "execute_result",
          "data": {
            "text/plain": [
              "                       Survived    Pclass       Age  SiblingsSpousesAboard  \\\n",
              "Survived               1.000000 -0.336528 -0.059665              -0.037082   \n",
              "Pclass                -0.336528  1.000000 -0.391492               0.085026   \n",
              "Age                   -0.059665 -0.391492  1.000000              -0.297669   \n",
              "SiblingsSpousesAboard -0.037082  0.085026 -0.297669               1.000000   \n",
              "ParentsChildrenAboard  0.080097  0.020252 -0.193741               0.414244   \n",
              "Fare                   0.256179 -0.548919  0.112329               0.158839   \n",
              "Sex                   -0.542152  0.129507  0.091875              -0.113249   \n",
              "\n",
              "                       ParentsChildrenAboard      Fare       Sex  \n",
              "Survived                            0.080097  0.256179 -0.542152  \n",
              "Pclass                              0.020252 -0.548919  0.129507  \n",
              "Age                                -0.193741  0.112329  0.091875  \n",
              "SiblingsSpousesAboard               0.414244  0.158839 -0.113249  \n",
              "ParentsChildrenAboard               1.000000  0.215470 -0.244337  \n",
              "Fare                                0.215470  1.000000 -0.181137  \n",
              "Sex                                -0.244337 -0.181137  1.000000  "
            ],
            "text/html": [
              "\n",
              "  <div id=\"df-ba9ca473-3168-4f16-bd94-2e19f222dab1\">\n",
              "    <div class=\"colab-df-container\">\n",
              "      <div>\n",
              "<style scoped>\n",
              "    .dataframe tbody tr th:only-of-type {\n",
              "        vertical-align: middle;\n",
              "    }\n",
              "\n",
              "    .dataframe tbody tr th {\n",
              "        vertical-align: top;\n",
              "    }\n",
              "\n",
              "    .dataframe thead th {\n",
              "        text-align: right;\n",
              "    }\n",
              "</style>\n",
              "<table border=\"1\" class=\"dataframe\">\n",
              "  <thead>\n",
              "    <tr style=\"text-align: right;\">\n",
              "      <th></th>\n",
              "      <th>Survived</th>\n",
              "      <th>Pclass</th>\n",
              "      <th>Age</th>\n",
              "      <th>SiblingsSpousesAboard</th>\n",
              "      <th>ParentsChildrenAboard</th>\n",
              "      <th>Fare</th>\n",
              "      <th>Sex</th>\n",
              "    </tr>\n",
              "  </thead>\n",
              "  <tbody>\n",
              "    <tr>\n",
              "      <th>Survived</th>\n",
              "      <td>1.000000</td>\n",
              "      <td>-0.336528</td>\n",
              "      <td>-0.059665</td>\n",
              "      <td>-0.037082</td>\n",
              "      <td>0.080097</td>\n",
              "      <td>0.256179</td>\n",
              "      <td>-0.542152</td>\n",
              "    </tr>\n",
              "    <tr>\n",
              "      <th>Pclass</th>\n",
              "      <td>-0.336528</td>\n",
              "      <td>1.000000</td>\n",
              "      <td>-0.391492</td>\n",
              "      <td>0.085026</td>\n",
              "      <td>0.020252</td>\n",
              "      <td>-0.548919</td>\n",
              "      <td>0.129507</td>\n",
              "    </tr>\n",
              "    <tr>\n",
              "      <th>Age</th>\n",
              "      <td>-0.059665</td>\n",
              "      <td>-0.391492</td>\n",
              "      <td>1.000000</td>\n",
              "      <td>-0.297669</td>\n",
              "      <td>-0.193741</td>\n",
              "      <td>0.112329</td>\n",
              "      <td>0.091875</td>\n",
              "    </tr>\n",
              "    <tr>\n",
              "      <th>SiblingsSpousesAboard</th>\n",
              "      <td>-0.037082</td>\n",
              "      <td>0.085026</td>\n",
              "      <td>-0.297669</td>\n",
              "      <td>1.000000</td>\n",
              "      <td>0.414244</td>\n",
              "      <td>0.158839</td>\n",
              "      <td>-0.113249</td>\n",
              "    </tr>\n",
              "    <tr>\n",
              "      <th>ParentsChildrenAboard</th>\n",
              "      <td>0.080097</td>\n",
              "      <td>0.020252</td>\n",
              "      <td>-0.193741</td>\n",
              "      <td>0.414244</td>\n",
              "      <td>1.000000</td>\n",
              "      <td>0.215470</td>\n",
              "      <td>-0.244337</td>\n",
              "    </tr>\n",
              "    <tr>\n",
              "      <th>Fare</th>\n",
              "      <td>0.256179</td>\n",
              "      <td>-0.548919</td>\n",
              "      <td>0.112329</td>\n",
              "      <td>0.158839</td>\n",
              "      <td>0.215470</td>\n",
              "      <td>1.000000</td>\n",
              "      <td>-0.181137</td>\n",
              "    </tr>\n",
              "    <tr>\n",
              "      <th>Sex</th>\n",
              "      <td>-0.542152</td>\n",
              "      <td>0.129507</td>\n",
              "      <td>0.091875</td>\n",
              "      <td>-0.113249</td>\n",
              "      <td>-0.244337</td>\n",
              "      <td>-0.181137</td>\n",
              "      <td>1.000000</td>\n",
              "    </tr>\n",
              "  </tbody>\n",
              "</table>\n",
              "</div>\n",
              "      <button class=\"colab-df-convert\" onclick=\"convertToInteractive('df-ba9ca473-3168-4f16-bd94-2e19f222dab1')\"\n",
              "              title=\"Convert this dataframe to an interactive table.\"\n",
              "              style=\"display:none;\">\n",
              "        \n",
              "  <svg xmlns=\"http://www.w3.org/2000/svg\" height=\"24px\"viewBox=\"0 0 24 24\"\n",
              "       width=\"24px\">\n",
              "    <path d=\"M0 0h24v24H0V0z\" fill=\"none\"/>\n",
              "    <path d=\"M18.56 5.44l.94 2.06.94-2.06 2.06-.94-2.06-.94-.94-2.06-.94 2.06-2.06.94zm-11 1L8.5 8.5l.94-2.06 2.06-.94-2.06-.94L8.5 2.5l-.94 2.06-2.06.94zm10 10l.94 2.06.94-2.06 2.06-.94-2.06-.94-.94-2.06-.94 2.06-2.06.94z\"/><path d=\"M17.41 7.96l-1.37-1.37c-.4-.4-.92-.59-1.43-.59-.52 0-1.04.2-1.43.59L10.3 9.45l-7.72 7.72c-.78.78-.78 2.05 0 2.83L4 21.41c.39.39.9.59 1.41.59.51 0 1.02-.2 1.41-.59l7.78-7.78 2.81-2.81c.8-.78.8-2.07 0-2.86zM5.41 20L4 18.59l7.72-7.72 1.47 1.35L5.41 20z\"/>\n",
              "  </svg>\n",
              "      </button>\n",
              "      \n",
              "  <style>\n",
              "    .colab-df-container {\n",
              "      display:flex;\n",
              "      flex-wrap:wrap;\n",
              "      gap: 12px;\n",
              "    }\n",
              "\n",
              "    .colab-df-convert {\n",
              "      background-color: #E8F0FE;\n",
              "      border: none;\n",
              "      border-radius: 50%;\n",
              "      cursor: pointer;\n",
              "      display: none;\n",
              "      fill: #1967D2;\n",
              "      height: 32px;\n",
              "      padding: 0 0 0 0;\n",
              "      width: 32px;\n",
              "    }\n",
              "\n",
              "    .colab-df-convert:hover {\n",
              "      background-color: #E2EBFA;\n",
              "      box-shadow: 0px 1px 2px rgba(60, 64, 67, 0.3), 0px 1px 3px 1px rgba(60, 64, 67, 0.15);\n",
              "      fill: #174EA6;\n",
              "    }\n",
              "\n",
              "    [theme=dark] .colab-df-convert {\n",
              "      background-color: #3B4455;\n",
              "      fill: #D2E3FC;\n",
              "    }\n",
              "\n",
              "    [theme=dark] .colab-df-convert:hover {\n",
              "      background-color: #434B5C;\n",
              "      box-shadow: 0px 1px 3px 1px rgba(0, 0, 0, 0.15);\n",
              "      filter: drop-shadow(0px 1px 2px rgba(0, 0, 0, 0.3));\n",
              "      fill: #FFFFFF;\n",
              "    }\n",
              "  </style>\n",
              "\n",
              "      <script>\n",
              "        const buttonEl =\n",
              "          document.querySelector('#df-ba9ca473-3168-4f16-bd94-2e19f222dab1 button.colab-df-convert');\n",
              "        buttonEl.style.display =\n",
              "          google.colab.kernel.accessAllowed ? 'block' : 'none';\n",
              "\n",
              "        async function convertToInteractive(key) {\n",
              "          const element = document.querySelector('#df-ba9ca473-3168-4f16-bd94-2e19f222dab1');\n",
              "          const dataTable =\n",
              "            await google.colab.kernel.invokeFunction('convertToInteractive',\n",
              "                                                     [key], {});\n",
              "          if (!dataTable) return;\n",
              "\n",
              "          const docLinkHtml = 'Like what you see? Visit the ' +\n",
              "            '<a target=\"_blank\" href=https://colab.research.google.com/notebooks/data_table.ipynb>data table notebook</a>'\n",
              "            + ' to learn more about interactive tables.';\n",
              "          element.innerHTML = '';\n",
              "          dataTable['output_type'] = 'display_data';\n",
              "          await google.colab.output.renderOutput(dataTable, element);\n",
              "          const docLink = document.createElement('div');\n",
              "          docLink.innerHTML = docLinkHtml;\n",
              "          element.appendChild(docLink);\n",
              "        }\n",
              "      </script>\n",
              "    </div>\n",
              "  </div>\n",
              "  "
            ]
          },
          "metadata": {},
          "execution_count": 48
        }
      ],
      "source": [
        "correlacionDf1 = df1.corr(method='pearson')\n",
        "correlacionDf1"
      ]
    },
    {
      "cell_type": "markdown",
      "id": "2466a9db-71a1-4c18-9c7e-24d91e4fd124",
      "metadata": {
        "id": "2466a9db-71a1-4c18-9c7e-24d91e4fd124"
      },
      "source": [
        "#### Reordenaremos el DateFrame para dejar solo las variables cuantitativas"
      ]
    },
    {
      "cell_type": "code",
      "execution_count": null,
      "id": "c364309b-88e2-4c3c-a1f7-dc5ef38f8732",
      "metadata": {
        "id": "c364309b-88e2-4c3c-a1f7-dc5ef38f8732",
        "colab": {
          "base_uri": "https://localhost:8080/",
          "height": 106
        },
        "outputId": "9b68527a-5565-43cf-cdb0-55a41c35b524"
      },
      "outputs": [
        {
          "output_type": "execute_result",
          "data": {
            "text/plain": [
              "<matplotlib.axes._subplots.AxesSubplot at 0x7f0a0d860b10>"
            ]
          },
          "metadata": {},
          "execution_count": 49
        },
        {
          "output_type": "display_data",
          "data": {
            "text/plain": [
              "<Figure size 1080x720 with 2 Axes>"
            ],
            "image/png": "[encoded data removed]"
          },
          "metadata": {}
        }
      ],
      "source": [
        "#correlacionDf2 = df2.corr(method='pearson')\n",
        "#correlacionDf2\n",
        "fig,ax = plt.subplots(figsize=(15,10))\n",
        "sns.heatmap(correlacionDf1, annot=True, ax=ax )"
      ]
    },
    {
      "cell_type": "markdown",
      "id": "741cbb77-e625-4613-b1a1-ab1c79f34d04",
      "metadata": {
        "id": "741cbb77-e625-4613-b1a1-ab1c79f34d04"
      },
      "source": [
        "#### Los colores oscuros representan los valores negativos y los claros a los positivos.\n",
        "#### El color rojo representa una correlación lineal positiva con las variables Siblings/Spouses Aboard y Parents/Children Aboard"
      ]
    },
    {
      "cell_type": "code",
      "execution_count": null,
      "id": "e3034d13-de2f-4ca6-8cba-b7b6575b1931",
      "metadata": {
        "id": "e3034d13-de2f-4ca6-8cba-b7b6575b1931",
        "colab": {
          "base_uri": "https://localhost:8080/",
          "height": 302
        },
        "outputId": "0411bd01-2761-401c-b43b-717cdf85b07d"
      },
      "outputs": [
        {
          "output_type": "execute_result",
          "data": {
            "text/plain": [
              "Text(0, 0.5, 'padres/niños abordo')"
            ]
          },
          "metadata": {},
          "execution_count": 50
        },
        {
          "output_type": "display_data",
          "data": {
            "text/plain": [
              "<Figure size 432x288 with 1 Axes>"
            ],
            "image/png": "[encoded data removed]"
          },
          "metadata": {}
        }
      ],
      "source": [
        "plt.plot(df1[\"ParentsChildrenAboard\"], df1[\"SiblingsSpousesAboard\"], \"ro\")\n",
        "plt.xlabel(\"hermanos/conyugues abordo\")\n",
        "plt.ylabel(\"padres/niños abordo\")"
      ]
    },
    {
      "cell_type": "code",
      "source": [
        "plt.plot(df1[\"Survived\"], df1[\"Sex\"], \"ro\")\n",
        "plt.xlabel(\"Survived\")\n",
        "plt.ylabel(\"Sex\")"
      ],
      "metadata": {
        "colab": {
          "base_uri": "https://localhost:8080/",
          "height": 302
        },
        "id": "VxGBXRYAboVX",
        "outputId": "c7d29df6-e411-41c9-acc0-357efec8d82e"
      },
      "id": "VxGBXRYAboVX",
      "execution_count": null,
      "outputs": [
        {
          "output_type": "execute_result",
          "data": {
            "text/plain": [
              "Text(0, 0.5, 'Sex')"
            ]
          },
          "metadata": {},
          "execution_count": 51
        },
        {
          "output_type": "display_data",
          "data": {
            "text/plain": [
              "<Figure size 432x288 with 1 Axes>"
            ],
            "image/png": "[encoded data removed]"
          },
          "metadata": {}
        }
      ]
    },
    {
      "cell_type": "code",
      "source": [
        "plt.plot(df1[\"Pclass\"], df1[\"Fare\"], \"ro\")\n",
        "plt.xlabel(\"Pclass\")\n",
        "plt.ylabel(\"Fare\")"
      ],
      "metadata": {
        "colab": {
          "base_uri": "https://localhost:8080/",
          "height": 106
        },
        "id": "o1xOW47XdHGp",
        "outputId": "282c48a4-80b1-439f-b895-a5a462ddac15"
      },
      "id": "o1xOW47XdHGp",
      "execution_count": null,
      "outputs": [
        {
          "output_type": "execute_result",
          "data": {
            "text/plain": [
              "Text(0, 0.5, 'Fare')"
            ]
          },
          "metadata": {},
          "execution_count": 52
        },
        {
          "output_type": "display_data",
          "data": {
            "text/plain": [
              "<Figure size 432x288 with 1 Axes>"
            ],
            "image/png": "[encoded data removed]"
          },
          "metadata": {}
        }
      ]
    },
    {
      "cell_type": "code",
      "source": [
        "plt.plot(df1[\"Pclass\"], df1[\"Age\"], \"ro\")\n",
        "plt.xlabel(\"Pclass\")\n",
        "plt.ylabel(\"Age\")"
      ],
      "metadata": {
        "colab": {
          "base_uri": "https://localhost:8080/",
          "height": 106
        },
        "id": "8jDPu5a9davZ",
        "outputId": "f1274c75-650e-4c04-b5ed-752b8a483c6f"
      },
      "id": "8jDPu5a9davZ",
      "execution_count": null,
      "outputs": [
        {
          "output_type": "execute_result",
          "data": {
            "text/plain": [
              "Text(0, 0.5, 'Age')"
            ]
          },
          "metadata": {},
          "execution_count": 53
        },
        {
          "output_type": "display_data",
          "data": {
            "text/plain": [
              "<Figure size 432x288 with 1 Axes>"
            ],
            "image/png": "[encoded data removed]"
          },
          "metadata": {}
        }
      ]
    },
    {
      "cell_type": "markdown",
      "id": "82c9bfe7-b53b-42ae-ac98-63a5d514d84e",
      "metadata": {
        "id": "82c9bfe7-b53b-42ae-ac98-63a5d514d84e"
      },
      "source": [
        "## **Conclusiones**"
      ]
    },
    {
      "cell_type": "markdown",
      "id": "78b12187-10c0-468b-8e74-09db5248335d",
      "metadata": {
        "id": "78b12187-10c0-468b-8e74-09db5248335d"
      },
      "source": [
        "- Como se dijo mas arriba la variable `Name` podria quedar como un identificador unico.\n",
        "- Al menos para este analisis las variables cualitativas no dieron mucha información en cambio en las cuantitativas todas mostraron mucha asimetria y dispersion de los datos a excepcion de la variable `Age`, quiza teniendo al total de pasajeros de este barco se puedan tener mejores distribuciones.\n",
        "- Existen tres relaciones fuertes que estan graficadas arriba.\n",
        "- Las variables `Parents/Children Aboard` y `Siblings/Spouses Aboard` se podrian juntar y hacer una sola llamada parientes esto dada su correlacion y el sentido que tienen.\n"
      ]
    },
    {
      "cell_type": "markdown",
      "source": [
        "##INFERENCIA ESTADÍSTICA\n",
        "\n",
        "\n"
      ],
      "metadata": {
        "id": "-58qPIzBapcv"
      },
      "id": "-58qPIzBapcv"
    },
    {
      "cell_type": "code",
      "source": [
        "#importar modulos para inferencia estadística\n",
        "from scipy.stats import shapiro\n",
        "from scipy.stats import pearsonr\n",
        "import statsmodels.formula.api as smf"
      ],
      "metadata": {
        "id": "wVF34va1HZiE"
      },
      "execution_count": null,
      "outputs": [],
      "id": "wVF34va1HZiE"
    },
    {
      "cell_type": "code",
      "source": [
        "grupoClase=df1.groupby(by=\"Pclass\") #se agrupan los datos según clase"
      ],
      "metadata": {
        "id": "ocaT7EbZav6k"
      },
      "execution_count": null,
      "outputs": [],
      "id": "ocaT7EbZav6k"
    },
    {
      "cell_type": "code",
      "source": [
        "print(df1[\"Pclass\"].unique()) #se observa que la clase solo tiene 3 valores posibles\n"
      ],
      "metadata": {
        "id": "fRJXv5__f004",
        "colab": {
          "base_uri": "https://localhost:8080/"
        },
        "outputId": "9fe57737-7a4e-43ee-f780-b799c0e07d8f"
      },
      "execution_count": null,
      "outputs": [
        {
          "output_type": "stream",
          "name": "stdout",
          "text": [
            "[3 1 2]\n"
          ]
        }
      ],
      "id": "fRJXv5__f004"
    },
    {
      "cell_type": "code",
      "source": [
        "# Se agrupan de manera disjunta las clases\n",
        "# De esta forma se puede segmentar por clase y hacer análisis entre los distintos grupos\n",
        "clase1=grupoClase.get_group(1)\n",
        "clase2=grupoClase.get_group(2)\n",
        "clase3=grupoClase.get_group(3)\n"
      ],
      "metadata": {
        "id": "xofnwGOsfpL9"
      },
      "execution_count": null,
      "outputs": [],
      "id": "xofnwGOsfpL9"
    },
    {
      "cell_type": "code",
      "source": [
        "#se crea un valor survive que es la media de survived para cada clase\n",
        "# es un promedio entre ceros y unos, por lo que es un valor entre 0 y 1\n",
        "#mientras más cerca de 1, es que en general, esa clase sobrevivió más\n",
        "survive1=clase1[\"Survived\"].mean()\n",
        "survive2=clase2[\"Survived\"].mean()\n",
        "survive3=clase3[\"Survived\"].mean()\n",
        "print(survive1,survive2,survive3)\n",
        "#A priori, se ve que la clase 1 sobrevive mas que la dos, y esta mas que la 3\n",
        "#Hay que hacer la prueba de hipótesis "
      ],
      "metadata": {
        "id": "3yV-DIR4AWoO",
        "colab": {
          "base_uri": "https://localhost:8080/"
        },
        "outputId": "15034d69-de4f-46b7-c102-d0e73bf308c2"
      },
      "execution_count": null,
      "outputs": [
        {
          "output_type": "stream",
          "name": "stdout",
          "text": [
            "0.6296296296296297 0.47282608695652173 0.24435318275154005\n"
          ]
        }
      ],
      "id": "3yV-DIR4AWoO"
    },
    {
      "cell_type": "code",
      "source": [
        "#Shapiro wilk para normalidad\n",
        "print(\"VARIABLE: EDAD\")\n",
        "print(\"H0: la variable distribuye normalmente\")\n",
        "print(\"H0: la variable no distribuye normalmente\")\n",
        "stat, p = shapiro(df1[\"Age\"])\n",
        "print('stat=%.3f, p=%.3f' % (stat, p))\n",
        "if p > 0.05:\n",
        "\tprint('Se acepta la hipótesis nula, hay evidencia suficiente para afirmar que la variable sigue una distribución gaussiana')\n",
        "else:\n",
        "\tprint('Se rechaza la hipótesis nula, hay evidencia suficiente para afirmar que la variable sigue una distribución no gaussiana')\n",
        "print()\n",
        "print()\n",
        "print(\"VARIABLE: TARIFA \")\n",
        "print(\"H0: la variable distribuye normalmente\")\n",
        "print(\"H0: la variable no distribuye normalmente\")\n",
        "stat, p = shapiro(df[\"Fare\"])\n",
        "print('stat=%.3f, p=%.3f' % (stat, p))\n",
        "if p > 0.05:\n",
        "\tprint('Se acepta la hipótesis nula, hay evidencia suficiente para afirmar que la variable sigue una distribución gaussiana')\n",
        "else:\n",
        "\tprint('Se rechaza la hipótesis nula, hay evidencia suficiente para afirmar que la variable sigue una distribución no gaussiana')\n",
        "print()\n",
        "print()"
      ],
      "metadata": {
        "id": "XL4AjXRfG2gB",
        "colab": {
          "base_uri": "https://localhost:8080/"
        },
        "outputId": "3456b9db-c222-4bd8-ec4b-1dfd09572588"
      },
      "execution_count": null,
      "outputs": [
        {
          "output_type": "stream",
          "name": "stdout",
          "text": [
            "VARIABLE: EDAD\n",
            "H0: la variable distribuye normalmente\n",
            "H0: la variable no distribuye normalmente\n",
            "stat=0.978, p=0.000\n",
            "Se rechaza la hipótesis nula, hay evidencia suficiente para afirmar que la variable sigue una distribución no gaussiana\n",
            "\n",
            "\n",
            "VARIABLE: TARIFA \n",
            "H0: la variable distribuye normalmente\n",
            "H0: la variable no distribuye normalmente\n",
            "stat=0.523, p=0.000\n",
            "Se rechaza la hipótesis nula, hay evidencia suficiente para afirmar que la variable sigue una distribución no gaussiana\n",
            "\n",
            "\n"
          ]
        }
      ],
      "id": "XL4AjXRfG2gB"
    },
    {
      "cell_type": "code",
      "source": [
        "# Test de hipótesis de correlación de Pearson\n",
        "print(\"Estudio de correlación: TARIFA vs SOBREVIVIR\")\n",
        "print(\"H0: No existe correlación entre las variables\")\n",
        "print(\"H1: SI existe correlación entre las variables\")\n",
        "\n",
        "stat, p = pearsonr(df1[\"Fare\"], df1[\"Survived\"])\n",
        "print('stat=%.3f, p=%.3f' % (stat, p))\n",
        "if p > 0.05:\n",
        "\tprint('No se rechaza H0, Existe evidencia estadística suficiente para afirmar que NO HAY correlación entre las 2 variables')\n",
        "else:\n",
        "\tprint('Se rechaza H0, Existe evidencia estadística suficiente para afirmar que HAY correlación entre las 2 variables')"
      ],
      "metadata": {
        "id": "ZUyMrWwNJGvp",
        "colab": {
          "base_uri": "https://localhost:8080/"
        },
        "outputId": "6cf56e14-22a2-4be7-97fa-9d9657f3aa9d"
      },
      "execution_count": null,
      "outputs": [
        {
          "output_type": "stream",
          "name": "stdout",
          "text": [
            "Estudio de correlación: TARIFA vs SOBREVIVIR\n",
            "H0: No existe correlación entre las variables\n",
            "H1: SI existe correlación entre las variables\n",
            "stat=0.256, p=0.000\n",
            "Se rechaza H0, Existe evidencia estadística suficiente para afirmar que HAY correlación entre las 2 variables\n"
          ]
        }
      ],
      "id": "ZUyMrWwNJGvp"
    },
    {
      "cell_type": "code",
      "source": [
        "# Test ANOVA para igualdad de medias\n",
        "from scipy.stats import f_oneway\n",
        "print(\"H0: Todas las medias son iguales\")\n",
        "print(\"H1: Todas las medias NO son iguales\")\n",
        "\n",
        "stat, p = f_oneway(clase1[\"Survived\"], clase2[\"Survived\"], clase3[\"Survived\"])\n",
        "print('stat=%.3f, p=%.3f' % (stat, p))\n",
        "if p > 0.05:\n",
        "\tprint('No hay evidencia suficiente para afirmar que alguna media es distinta de las demás')\n",
        "else:\n",
        "\tprint('Al menos la media de un grupo es distinta a las demás')"
      ],
      "metadata": {
        "id": "FXdAKYVSKsMO",
        "colab": {
          "base_uri": "https://localhost:8080/"
        },
        "outputId": "e4c5648c-1efe-4095-df30-6087b1f60d84"
      },
      "execution_count": null,
      "outputs": [
        {
          "output_type": "stream",
          "name": "stdout",
          "text": [
            "H0: Todas las medias son iguales\n",
            "H1: Todas las medias NO son iguales\n",
            "stat=56.934, p=0.000\n",
            "Al menos la media de un grupo es distinta a las demás\n"
          ]
        }
      ],
      "id": "FXdAKYVSKsMO"
    },
    {
      "cell_type": "code",
      "source": [
        "#Test de hipótesis igualdad de medias\n",
        "print(\"Análisis de medias: CLASE 1 VS CLASE 2\")\n",
        "print(\"H0: la media de supervivencia de la clase 1 es menor o igual a la de la clase 2\")\n",
        "print(\"H0: la media de supervivencia de la clase 1 NO es menor o igual a la de la clase 2\")\n",
        "ttest,p_value = stats.ttest_ind(clase1[\"Survived\"],clase2[\"Survived\"])\n",
        "print(\"p value:%.8f\" % p_value)\n",
        "print(\"Dado que el análisis es de una cola; p_value_una_cola:%.4f\" %(p_value/2))\n",
        "if p_value/2 <0.05:\n",
        "    print(\"Se rechaza la hipótesis nula, la media de supervivencia de la clase 1 ES MAYOR a la de la clase 2 \")\n",
        "else:\n",
        "    print(\"Se acepta la hipótesis nula, la media de supervivencia de la clase 1 es menor o igual a la de la clase 2\")\n",
        "print()\n",
        "print()\n",
        "print(\"Análisis de medias: CLASE 2 VS CLASE 3\")\n",
        "print(\"H0: la media de supervivencia de la clase 2 es menor o igual a la de la clase 3\")\n",
        "print(\"H0: la media de supervivencia de la clase 2 NO es menor o igual a la de la clase 3\")\n",
        "ttest,p_value = stats.ttest_ind(clase2[\"Survived\"],clase3[\"Survived\"])\n",
        "print(\"p value:%.8f\" % p_value)\n",
        "print(\"Dado que el análisis es de una cola; p_value_una_cola:%.4f\" %(p_value/2))\n",
        "if p_value/2 <0.05:\n",
        "    print(\"Se rechaza la hipótesis nula, la media de supervivencia de la clase 2 ES MAYOR a la de la clase 3\")\n",
        "else:\n",
        "    print(\"Se acepta la hipótesis nula, la media de supervivencia de la clase 2 es menor o igual a la de la clase 3\")\n",
        "\n",
        "print(\"Por transitividad, se comprueba que la media de supervivencia de la clase 1 ES MAYOR a la de la clase 3\")"
      ],
      "metadata": {
        "id": "TKTnZ8wugwVg",
        "colab": {
          "base_uri": "https://localhost:8080/"
        },
        "outputId": "6d15b175-6f36-48a5-bff0-11ed3ba8ef9a"
      },
      "execution_count": null,
      "outputs": [
        {
          "output_type": "stream",
          "name": "stdout",
          "text": [
            "Análisis de medias: CLASE 1 VS CLASE 2\n",
            "H0: la media de supervivencia de la clase 1 es menor o igual a la de la clase 2\n",
            "H0: la media de supervivencia de la clase 1 NO es menor o igual a la de la clase 2\n",
            "p value:0.00159547\n",
            "Dado que el análisis es de una cola; p_value_una_cola:0.0008\n",
            "Se rechaza la hipótesis nula, la media de supervivencia de la clase 1 ES MAYOR a la de la clase 2 \n",
            "\n",
            "\n",
            "Análisis de medias: CLASE 2 VS CLASE 3\n",
            "H0: la media de supervivencia de la clase 2 es menor o igual a la de la clase 3\n",
            "H0: la media de supervivencia de la clase 2 NO es menor o igual a la de la clase 3\n",
            "p value:0.00000001\n",
            "Dado que el análisis es de una cola; p_value_una_cola:0.0000\n",
            "Se rechaza la hipótesis nula, la media de supervivencia de la clase 2 ES MAYOR a la de la clase 3\n",
            "Por transitividad, se comprueba que la media de supervivencia de la clase 1 ES MAYOR a la de la clase 3\n"
          ]
        }
      ],
      "id": "TKTnZ8wugwVg"
    },
    {
      "cell_type": "code",
      "source": [
        "#se hace un modelo de regresión \n",
        "modelo=smf.ols(\"Survived ~Pclass+Sex+Age+Fare\",df1)\n",
        "result=modelo.fit()\n",
        "print(result.summary())"
      ],
      "metadata": {
        "id": "9Ja1zJOEF895",
        "colab": {
          "base_uri": "https://localhost:8080/"
        },
        "outputId": "440007e7-bbc9-419a-c8c3-587b7bffcc53"
      },
      "execution_count": null,
      "outputs": [
        {
          "output_type": "stream",
          "name": "stdout",
          "text": [
            "                            OLS Regression Results                            \n",
            "==============================================================================\n",
            "Dep. Variable:               Survived   R-squared:                       0.383\n",
            "Model:                            OLS   Adj. R-squared:                  0.380\n",
            "Method:                 Least Squares   F-statistic:                     137.0\n",
            "Date:                Wed, 13 Jul 2022   Prob (F-statistic):           4.65e-91\n",
            "Time:                        00:31:47   Log-Likelihood:                -405.57\n",
            "No. Observations:                 887   AIC:                             821.1\n",
            "Df Residuals:                     882   BIC:                             845.1\n",
            "Df Model:                           4                                         \n",
            "Covariance Type:            nonrobust                                         \n",
            "==============================================================================\n",
            "                 coef    std err          t      P>|t|      [0.025      0.975]\n",
            "------------------------------------------------------------------------------\n",
            "Intercept      1.2888      0.071     18.106      0.000       1.149       1.428\n",
            "Pclass        -0.1905      0.020     -9.457      0.000      -0.230      -0.151\n",
            "Sex           -0.4944      0.028    -17.872      0.000      -0.549      -0.440\n",
            "Age           -0.0050      0.001     -4.907      0.000      -0.007      -0.003\n",
            "Fare        4.564e-05      0.000      0.145      0.885      -0.001       0.001\n",
            "==============================================================================\n",
            "Omnibus:                       33.609   Durbin-Watson:                   1.914\n",
            "Prob(Omnibus):                  0.000   Jarque-Bera (JB):               36.624\n",
            "Skew:                           0.496   Prob(JB):                     1.11e-08\n",
            "Kurtosis:                       3.084   Cond. No.                         356.\n",
            "==============================================================================\n",
            "\n",
            "Warnings:\n",
            "[1] Standard Errors assume that the covariance matrix of the errors is correctly specified.\n"
          ]
        }
      ],
      "id": "9Ja1zJOEF895"
    },
    {
      "cell_type": "code",
      "source": [
        "#Dado que el coeficiente de regresión angular asociado a la variable \"Fare\" no se podía asegurar que fuera distinto a 0\n",
        "# se genera un segundo modelo sin incluirla\n",
        "#se hace un modelo de regresión \n",
        "modelo=smf.ols(\"Survived ~Pclass+Sex+Age\",df1)\n",
        "result=modelo.fit()\n",
        "print(result.summary())"
      ],
      "metadata": {
        "colab": {
          "base_uri": "https://localhost:8080/"
        },
        "id": "4S8TiPpz40aa",
        "outputId": "00f59691-45e6-404b-d338-80563a256679"
      },
      "id": "4S8TiPpz40aa",
      "execution_count": null,
      "outputs": [
        {
          "output_type": "stream",
          "name": "stdout",
          "text": [
            "                            OLS Regression Results                            \n",
            "==============================================================================\n",
            "Dep. Variable:               Survived   R-squared:                       0.383\n",
            "Model:                            OLS   Adj. R-squared:                  0.381\n",
            "Method:                 Least Squares   F-statistic:                     182.9\n",
            "Date:                Wed, 13 Jul 2022   Prob (F-statistic):           3.19e-92\n",
            "Time:                        00:31:47   Log-Likelihood:                -405.58\n",
            "No. Observations:                 887   AIC:                             819.2\n",
            "Df Residuals:                     883   BIC:                             838.3\n",
            "Df Model:                           3                                         \n",
            "Covariance Type:            nonrobust                                         \n",
            "==============================================================================\n",
            "                 coef    std err          t      P>|t|      [0.025      0.975]\n",
            "------------------------------------------------------------------------------\n",
            "Intercept      1.2947      0.058     22.136      0.000       1.180       1.409\n",
            "Pclass        -0.1921      0.017    -11.301      0.000      -0.225      -0.159\n",
            "Sex           -0.4948      0.027    -18.016      0.000      -0.549      -0.441\n",
            "Age           -0.0050      0.001     -4.959      0.000      -0.007      -0.003\n",
            "==============================================================================\n",
            "Omnibus:                       33.601   Durbin-Watson:                   1.914\n",
            "Prob(Omnibus):                  0.000   Jarque-Bera (JB):               36.613\n",
            "Skew:                           0.496   Prob(JB):                     1.12e-08\n",
            "Kurtosis:                       3.084   Cond. No.                         153.\n",
            "==============================================================================\n",
            "\n",
            "Warnings:\n",
            "[1] Standard Errors assume that the covariance matrix of the errors is correctly specified.\n"
          ]
        }
      ]
    },
    {
      "cell_type": "code",
      "source": [
        "# Sexo y edad si cumplen el supuesto de linealidad\n",
        "# tienen coeficientes negativos\n",
        "# hay una relación inversa entre supervivencia y edad, se dió preferencia a los niños\n",
        "# la supervivencia está más ligada al sexo 0. Las mujeres tienden a sobrevivir más\n",
        "print(\"H0: todos los coeficientes de regresión angulares son distintos de 0\")\n",
        "print(\"H1: algún coeficiente de regresión angular es igual a 0, y por tanto, no cumple el supuesto\")\n",
        "print(\"Se puede asegurar con un 95% de confianza que todos los coeficientes de regresión angular son distintos de 0\")\n",
        "print(\"Dado que todos los coeficientes de regresión angular asociados a las variables CLASE, EDAD Y SEXO son distintos de 0\")\n",
        "print(\"El modelo 2 cumple el supuesto de normalidad para todos sus coeficientes\")\n"
      ],
      "metadata": {
        "id": "kPkGcE1L5GrC",
        "outputId": "55e30665-2b58-4675-c7aa-7253ed409b8a",
        "colab": {
          "base_uri": "https://localhost:8080/"
        }
      },
      "id": "kPkGcE1L5GrC",
      "execution_count": null,
      "outputs": [
        {
          "output_type": "stream",
          "name": "stdout",
          "text": [
            "H0: todos los coeficientes de regresión angulares son distintos de 0\n",
            "H1: algún coeficiente de regresión angular es igual a 0, y por tanto, no cumple el supuesto\n",
            "Se puede asegurar con un 95% de confianza que todos los coeficientes de regresión angular son distintos de 0\n",
            "Dado que todos los coeficientes de regresión angular asociados a las variables CLASE, EDAD Y SEXO son distintos de 0\n",
            "El modelo 2 cumple el supuesto de normalidad para todos sus coeficientes\n"
          ]
        }
      ]
    },
    {
      "cell_type": "code",
      "source": [
        "df1.head(1)"
      ],
      "metadata": {
        "id": "ddY26douAcBU",
        "colab": {
          "base_uri": "https://localhost:8080/",
          "height": 197
        },
        "outputId": "dd4d64ce-97ac-405d-db78-76405c2e45b9"
      },
      "execution_count": null,
      "outputs": [
        {
          "output_type": "execute_result",
          "data": {
            "text/plain": [
              "                     Name  Survived  Pclass   Age  SiblingsSpousesAboard  \\\n",
              "0  Mr. Owen Harris Braund         0       3  22.0                      1   \n",
              "\n",
              "   ParentsChildrenAboard  Fare  Sex  \n",
              "0                      0  7.25    1  "
            ],
            "text/html": [
              "\n",
              "  <div id=\"df-53dcf3a6-cd47-42fe-a17a-dd41dec2fc30\">\n",
              "    <div class=\"colab-df-container\">\n",
              "      <div>\n",
              "<style scoped>\n",
              "    .dataframe tbody tr th:only-of-type {\n",
              "        vertical-align: middle;\n",
              "    }\n",
              "\n",
              "    .dataframe tbody tr th {\n",
              "        vertical-align: top;\n",
              "    }\n",
              "\n",
              "    .dataframe thead th {\n",
              "        text-align: right;\n",
              "    }\n",
              "</style>\n",
              "<table border=\"1\" class=\"dataframe\">\n",
              "  <thead>\n",
              "    <tr style=\"text-align: right;\">\n",
              "      <th></th>\n",
              "      <th>Name</th>\n",
              "      <th>Survived</th>\n",
              "      <th>Pclass</th>\n",
              "      <th>Age</th>\n",
              "      <th>SiblingsSpousesAboard</th>\n",
              "      <th>ParentsChildrenAboard</th>\n",
              "      <th>Fare</th>\n",
              "      <th>Sex</th>\n",
              "    </tr>\n",
              "  </thead>\n",
              "  <tbody>\n",
              "    <tr>\n",
              "      <th>0</th>\n",
              "      <td>Mr. Owen Harris Braund</td>\n",
              "      <td>0</td>\n",
              "      <td>3</td>\n",
              "      <td>22.0</td>\n",
              "      <td>1</td>\n",
              "      <td>0</td>\n",
              "      <td>7.25</td>\n",
              "      <td>1</td>\n",
              "    </tr>\n",
              "  </tbody>\n",
              "</table>\n",
              "</div>\n",
              "      <button class=\"colab-df-convert\" onclick=\"convertToInteractive('df-53dcf3a6-cd47-42fe-a17a-dd41dec2fc30')\"\n",
              "              title=\"Convert this dataframe to an interactive table.\"\n",
              "              style=\"display:none;\">\n",
              "        \n",
              "  <svg xmlns=\"http://www.w3.org/2000/svg\" height=\"24px\"viewBox=\"0 0 24 24\"\n",
              "       width=\"24px\">\n",
              "    <path d=\"M0 0h24v24H0V0z\" fill=\"none\"/>\n",
              "    <path d=\"M18.56 5.44l.94 2.06.94-2.06 2.06-.94-2.06-.94-.94-2.06-.94 2.06-2.06.94zm-11 1L8.5 8.5l.94-2.06 2.06-.94-2.06-.94L8.5 2.5l-.94 2.06-2.06.94zm10 10l.94 2.06.94-2.06 2.06-.94-2.06-.94-.94-2.06-.94 2.06-2.06.94z\"/><path d=\"M17.41 7.96l-1.37-1.37c-.4-.4-.92-.59-1.43-.59-.52 0-1.04.2-1.43.59L10.3 9.45l-7.72 7.72c-.78.78-.78 2.05 0 2.83L4 21.41c.39.39.9.59 1.41.59.51 0 1.02-.2 1.41-.59l7.78-7.78 2.81-2.81c.8-.78.8-2.07 0-2.86zM5.41 20L4 18.59l7.72-7.72 1.47 1.35L5.41 20z\"/>\n",
              "  </svg>\n",
              "      </button>\n",
              "      \n",
              "  <style>\n",
              "    .colab-df-container {\n",
              "      display:flex;\n",
              "      flex-wrap:wrap;\n",
              "      gap: 12px;\n",
              "    }\n",
              "\n",
              "    .colab-df-convert {\n",
              "      background-color: #E8F0FE;\n",
              "      border: none;\n",
              "      border-radius: 50%;\n",
              "      cursor: pointer;\n",
              "      display: none;\n",
              "      fill: #1967D2;\n",
              "      height: 32px;\n",
              "      padding: 0 0 0 0;\n",
              "      width: 32px;\n",
              "    }\n",
              "\n",
              "    .colab-df-convert:hover {\n",
              "      background-color: #E2EBFA;\n",
              "      box-shadow: 0px 1px 2px rgba(60, 64, 67, 0.3), 0px 1px 3px 1px rgba(60, 64, 67, 0.15);\n",
              "      fill: #174EA6;\n",
              "    }\n",
              "\n",
              "    [theme=dark] .colab-df-convert {\n",
              "      background-color: #3B4455;\n",
              "      fill: #D2E3FC;\n",
              "    }\n",
              "\n",
              "    [theme=dark] .colab-df-convert:hover {\n",
              "      background-color: #434B5C;\n",
              "      box-shadow: 0px 1px 3px 1px rgba(0, 0, 0, 0.15);\n",
              "      filter: drop-shadow(0px 1px 2px rgba(0, 0, 0, 0.3));\n",
              "      fill: #FFFFFF;\n",
              "    }\n",
              "  </style>\n",
              "\n",
              "      <script>\n",
              "        const buttonEl =\n",
              "          document.querySelector('#df-53dcf3a6-cd47-42fe-a17a-dd41dec2fc30 button.colab-df-convert');\n",
              "        buttonEl.style.display =\n",
              "          google.colab.kernel.accessAllowed ? 'block' : 'none';\n",
              "\n",
              "        async function convertToInteractive(key) {\n",
              "          const element = document.querySelector('#df-53dcf3a6-cd47-42fe-a17a-dd41dec2fc30');\n",
              "          const dataTable =\n",
              "            await google.colab.kernel.invokeFunction('convertToInteractive',\n",
              "                                                     [key], {});\n",
              "          if (!dataTable) return;\n",
              "\n",
              "          const docLinkHtml = 'Like what you see? Visit the ' +\n",
              "            '<a target=\"_blank\" href=https://colab.research.google.com/notebooks/data_table.ipynb>data table notebook</a>'\n",
              "            + ' to learn more about interactive tables.';\n",
              "          element.innerHTML = '';\n",
              "          dataTable['output_type'] = 'display_data';\n",
              "          await google.colab.output.renderOutput(dataTable, element);\n",
              "          const docLink = document.createElement('div');\n",
              "          docLink.innerHTML = docLinkHtml;\n",
              "          element.appendChild(docLink);\n",
              "        }\n",
              "      </script>\n",
              "    </div>\n",
              "  </div>\n",
              "  "
            ]
          },
          "metadata": {},
          "execution_count": 66
        }
      ],
      "id": "ddY26douAcBU"
    },
    {
      "cell_type": "markdown",
      "source": [
        "##Modelos de clasificacion"
      ],
      "metadata": {
        "id": "P8PnXqkz4JP2"
      },
      "id": "P8PnXqkz4JP2"
    },
    {
      "cell_type": "code",
      "source": [
        "df1"
      ],
      "metadata": {
        "id": "Kc6VrpAQ4HKi",
        "colab": {
          "base_uri": "https://localhost:8080/",
          "height": 991
        },
        "outputId": "11ee84fb-8944-4f2d-f35a-b5249ecc2b95"
      },
      "id": "Kc6VrpAQ4HKi",
      "execution_count": null,
      "outputs": [
        {
          "output_type": "execute_result",
          "data": {
            "text/plain": [
              "                                                  Name  Survived  Pclass  \\\n",
              "0                               Mr. Owen Harris Braund         0       3   \n",
              "1    Mrs. John Bradley (Florence Briggs Thayer) Cum...         1       1   \n",
              "2                                Miss. Laina Heikkinen         1       3   \n",
              "3          Mrs. Jacques Heath (Lily May Peel) Futrelle         1       1   \n",
              "4                              Mr. William Henry Allen         0       3   \n",
              "..                                                 ...       ...     ...   \n",
              "882                               Rev. Juozas Montvila         0       2   \n",
              "883                        Miss. Margaret Edith Graham         1       1   \n",
              "884                     Miss. Catherine Helen Johnston         0       3   \n",
              "885                               Mr. Karl Howell Behr         1       1   \n",
              "886                                 Mr. Patrick Dooley         0       3   \n",
              "\n",
              "      Age  SiblingsSpousesAboard  ParentsChildrenAboard     Fare  Sex  \n",
              "0    22.0                      1                      0   7.2500    1  \n",
              "1    38.0                      1                      0  71.2833    0  \n",
              "2    26.0                      0                      0   7.9250    0  \n",
              "3    35.0                      1                      0  53.1000    0  \n",
              "4    35.0                      0                      0   8.0500    1  \n",
              "..    ...                    ...                    ...      ...  ...  \n",
              "882  27.0                      0                      0  13.0000    1  \n",
              "883  19.0                      0                      0  30.0000    0  \n",
              "884   7.0                      1                      2  23.4500    0  \n",
              "885  26.0                      0                      0  30.0000    1  \n",
              "886  32.0                      0                      0   7.7500    1  \n",
              "\n",
              "[887 rows x 8 columns]"
            ],
            "text/html": [
              "\n",
              "  <div id=\"df-34a6d6a0-4549-48a5-88f9-94f197dd2f76\">\n",
              "    <div class=\"colab-df-container\">\n",
              "      <div>\n",
              "<style scoped>\n",
              "    .dataframe tbody tr th:only-of-type {\n",
              "        vertical-align: middle;\n",
              "    }\n",
              "\n",
              "    .dataframe tbody tr th {\n",
              "        vertical-align: top;\n",
              "    }\n",
              "\n",
              "    .dataframe thead th {\n",
              "        text-align: right;\n",
              "    }\n",
              "</style>\n",
              "<table border=\"1\" class=\"dataframe\">\n",
              "  <thead>\n",
              "    <tr style=\"text-align: right;\">\n",
              "      <th></th>\n",
              "      <th>Name</th>\n",
              "      <th>Survived</th>\n",
              "      <th>Pclass</th>\n",
              "      <th>Age</th>\n",
              "      <th>SiblingsSpousesAboard</th>\n",
              "      <th>ParentsChildrenAboard</th>\n",
              "      <th>Fare</th>\n",
              "      <th>Sex</th>\n",
              "    </tr>\n",
              "  </thead>\n",
              "  <tbody>\n",
              "    <tr>\n",
              "      <th>0</th>\n",
              "      <td>Mr. Owen Harris Braund</td>\n",
              "      <td>0</td>\n",
              "      <td>3</td>\n",
              "      <td>22.0</td>\n",
              "      <td>1</td>\n",
              "      <td>0</td>\n",
              "      <td>7.2500</td>\n",
              "      <td>1</td>\n",
              "    </tr>\n",
              "    <tr>\n",
              "      <th>1</th>\n",
              "      <td>Mrs. John Bradley (Florence Briggs Thayer) Cum...</td>\n",
              "      <td>1</td>\n",
              "      <td>1</td>\n",
              "      <td>38.0</td>\n",
              "      <td>1</td>\n",
              "      <td>0</td>\n",
              "      <td>71.2833</td>\n",
              "      <td>0</td>\n",
              "    </tr>\n",
              "    <tr>\n",
              "      <th>2</th>\n",
              "      <td>Miss. Laina Heikkinen</td>\n",
              "      <td>1</td>\n",
              "      <td>3</td>\n",
              "      <td>26.0</td>\n",
              "      <td>0</td>\n",
              "      <td>0</td>\n",
              "      <td>7.9250</td>\n",
              "      <td>0</td>\n",
              "    </tr>\n",
              "    <tr>\n",
              "      <th>3</th>\n",
              "      <td>Mrs. Jacques Heath (Lily May Peel) Futrelle</td>\n",
              "      <td>1</td>\n",
              "      <td>1</td>\n",
              "      <td>35.0</td>\n",
              "      <td>1</td>\n",
              "      <td>0</td>\n",
              "      <td>53.1000</td>\n",
              "      <td>0</td>\n",
              "    </tr>\n",
              "    <tr>\n",
              "      <th>4</th>\n",
              "      <td>Mr. William Henry Allen</td>\n",
              "      <td>0</td>\n",
              "      <td>3</td>\n",
              "      <td>35.0</td>\n",
              "      <td>0</td>\n",
              "      <td>0</td>\n",
              "      <td>8.0500</td>\n",
              "      <td>1</td>\n",
              "    </tr>\n",
              "    <tr>\n",
              "      <th>...</th>\n",
              "      <td>...</td>\n",
              "      <td>...</td>\n",
              "      <td>...</td>\n",
              "      <td>...</td>\n",
              "      <td>...</td>\n",
              "      <td>...</td>\n",
              "      <td>...</td>\n",
              "      <td>...</td>\n",
              "    </tr>\n",
              "    <tr>\n",
              "      <th>882</th>\n",
              "      <td>Rev. Juozas Montvila</td>\n",
              "      <td>0</td>\n",
              "      <td>2</td>\n",
              "      <td>27.0</td>\n",
              "      <td>0</td>\n",
              "      <td>0</td>\n",
              "      <td>13.0000</td>\n",
              "      <td>1</td>\n",
              "    </tr>\n",
              "    <tr>\n",
              "      <th>883</th>\n",
              "      <td>Miss. Margaret Edith Graham</td>\n",
              "      <td>1</td>\n",
              "      <td>1</td>\n",
              "      <td>19.0</td>\n",
              "      <td>0</td>\n",
              "      <td>0</td>\n",
              "      <td>30.0000</td>\n",
              "      <td>0</td>\n",
              "    </tr>\n",
              "    <tr>\n",
              "      <th>884</th>\n",
              "      <td>Miss. Catherine Helen Johnston</td>\n",
              "      <td>0</td>\n",
              "      <td>3</td>\n",
              "      <td>7.0</td>\n",
              "      <td>1</td>\n",
              "      <td>2</td>\n",
              "      <td>23.4500</td>\n",
              "      <td>0</td>\n",
              "    </tr>\n",
              "    <tr>\n",
              "      <th>885</th>\n",
              "      <td>Mr. Karl Howell Behr</td>\n",
              "      <td>1</td>\n",
              "      <td>1</td>\n",
              "      <td>26.0</td>\n",
              "      <td>0</td>\n",
              "      <td>0</td>\n",
              "      <td>30.0000</td>\n",
              "      <td>1</td>\n",
              "    </tr>\n",
              "    <tr>\n",
              "      <th>886</th>\n",
              "      <td>Mr. Patrick Dooley</td>\n",
              "      <td>0</td>\n",
              "      <td>3</td>\n",
              "      <td>32.0</td>\n",
              "      <td>0</td>\n",
              "      <td>0</td>\n",
              "      <td>7.7500</td>\n",
              "      <td>1</td>\n",
              "    </tr>\n",
              "  </tbody>\n",
              "</table>\n",
              "<p>887 rows × 8 columns</p>\n",
              "</div>\n",
              "      <button class=\"colab-df-convert\" onclick=\"convertToInteractive('df-34a6d6a0-4549-48a5-88f9-94f197dd2f76')\"\n",
              "              title=\"Convert this dataframe to an interactive table.\"\n",
              "              style=\"display:none;\">\n",
              "        \n",
              "  <svg xmlns=\"http://www.w3.org/2000/svg\" height=\"24px\"viewBox=\"0 0 24 24\"\n",
              "       width=\"24px\">\n",
              "    <path d=\"M0 0h24v24H0V0z\" fill=\"none\"/>\n",
              "    <path d=\"M18.56 5.44l.94 2.06.94-2.06 2.06-.94-2.06-.94-.94-2.06-.94 2.06-2.06.94zm-11 1L8.5 8.5l.94-2.06 2.06-.94-2.06-.94L8.5 2.5l-.94 2.06-2.06.94zm10 10l.94 2.06.94-2.06 2.06-.94-2.06-.94-.94-2.06-.94 2.06-2.06.94z\"/><path d=\"M17.41 7.96l-1.37-1.37c-.4-.4-.92-.59-1.43-.59-.52 0-1.04.2-1.43.59L10.3 9.45l-7.72 7.72c-.78.78-.78 2.05 0 2.83L4 21.41c.39.39.9.59 1.41.59.51 0 1.02-.2 1.41-.59l7.78-7.78 2.81-2.81c.8-.78.8-2.07 0-2.86zM5.41 20L4 18.59l7.72-7.72 1.47 1.35L5.41 20z\"/>\n",
              "  </svg>\n",
              "      </button>\n",
              "      \n",
              "  <style>\n",
              "    .colab-df-container {\n",
              "      display:flex;\n",
              "      flex-wrap:wrap;\n",
              "      gap: 12px;\n",
              "    }\n",
              "\n",
              "    .colab-df-convert {\n",
              "      background-color: #E8F0FE;\n",
              "      border: none;\n",
              "      border-radius: 50%;\n",
              "      cursor: pointer;\n",
              "      display: none;\n",
              "      fill: #1967D2;\n",
              "      height: 32px;\n",
              "      padding: 0 0 0 0;\n",
              "      width: 32px;\n",
              "    }\n",
              "\n",
              "    .colab-df-convert:hover {\n",
              "      background-color: #E2EBFA;\n",
              "      box-shadow: 0px 1px 2px rgba(60, 64, 67, 0.3), 0px 1px 3px 1px rgba(60, 64, 67, 0.15);\n",
              "      fill: #174EA6;\n",
              "    }\n",
              "\n",
              "    [theme=dark] .colab-df-convert {\n",
              "      background-color: #3B4455;\n",
              "      fill: #D2E3FC;\n",
              "    }\n",
              "\n",
              "    [theme=dark] .colab-df-convert:hover {\n",
              "      background-color: #434B5C;\n",
              "      box-shadow: 0px 1px 3px 1px rgba(0, 0, 0, 0.15);\n",
              "      filter: drop-shadow(0px 1px 2px rgba(0, 0, 0, 0.3));\n",
              "      fill: #FFFFFF;\n",
              "    }\n",
              "  </style>\n",
              "\n",
              "      <script>\n",
              "        const buttonEl =\n",
              "          document.querySelector('#df-34a6d6a0-4549-48a5-88f9-94f197dd2f76 button.colab-df-convert');\n",
              "        buttonEl.style.display =\n",
              "          google.colab.kernel.accessAllowed ? 'block' : 'none';\n",
              "\n",
              "        async function convertToInteractive(key) {\n",
              "          const element = document.querySelector('#df-34a6d6a0-4549-48a5-88f9-94f197dd2f76');\n",
              "          const dataTable =\n",
              "            await google.colab.kernel.invokeFunction('convertToInteractive',\n",
              "                                                     [key], {});\n",
              "          if (!dataTable) return;\n",
              "\n",
              "          const docLinkHtml = 'Like what you see? Visit the ' +\n",
              "            '<a target=\"_blank\" href=https://colab.research.google.com/notebooks/data_table.ipynb>data table notebook</a>'\n",
              "            + ' to learn more about interactive tables.';\n",
              "          element.innerHTML = '';\n",
              "          dataTable['output_type'] = 'display_data';\n",
              "          await google.colab.output.renderOutput(dataTable, element);\n",
              "          const docLink = document.createElement('div');\n",
              "          docLink.innerHTML = docLinkHtml;\n",
              "          element.appendChild(docLink);\n",
              "        }\n",
              "      </script>\n",
              "    </div>\n",
              "  </div>\n",
              "  "
            ]
          },
          "metadata": {},
          "execution_count": 67
        }
      ]
    },
    {
      "cell_type": "code",
      "source": [
        "df3=df1.drop(['Name'], axis=1)"
      ],
      "metadata": {
        "id": "pvhar6V1LtTn"
      },
      "id": "pvhar6V1LtTn",
      "execution_count": null,
      "outputs": []
    },
    {
      "cell_type": "code",
      "source": [
        "df3"
      ],
      "metadata": {
        "colab": {
          "base_uri": "https://localhost:8080/",
          "height": 424
        },
        "id": "MfAdQ39DL7ff",
        "outputId": "c7b7ada8-bbe7-473b-e4ce-c63d6b9656d2"
      },
      "id": "MfAdQ39DL7ff",
      "execution_count": null,
      "outputs": [
        {
          "output_type": "execute_result",
          "data": {
            "text/plain": [
              "     Survived  Pclass   Age  SiblingsSpousesAboard  ParentsChildrenAboard  \\\n",
              "0           0       3  22.0                      1                      0   \n",
              "1           1       1  38.0                      1                      0   \n",
              "2           1       3  26.0                      0                      0   \n",
              "3           1       1  35.0                      1                      0   \n",
              "4           0       3  35.0                      0                      0   \n",
              "..        ...     ...   ...                    ...                    ...   \n",
              "882         0       2  27.0                      0                      0   \n",
              "883         1       1  19.0                      0                      0   \n",
              "884         0       3   7.0                      1                      2   \n",
              "885         1       1  26.0                      0                      0   \n",
              "886         0       3  32.0                      0                      0   \n",
              "\n",
              "        Fare  Sex  \n",
              "0     7.2500    1  \n",
              "1    71.2833    0  \n",
              "2     7.9250    0  \n",
              "3    53.1000    0  \n",
              "4     8.0500    1  \n",
              "..       ...  ...  \n",
              "882  13.0000    1  \n",
              "883  30.0000    0  \n",
              "884  23.4500    0  \n",
              "885  30.0000    1  \n",
              "886   7.7500    1  \n",
              "\n",
              "[887 rows x 7 columns]"
            ],
            "text/html": [
              "\n",
              "  <div id=\"df-6dc8e4d9-9248-4fb8-aa7a-5af5fef32e1d\">\n",
              "    <div class=\"colab-df-container\">\n",
              "      <div>\n",
              "<style scoped>\n",
              "    .dataframe tbody tr th:only-of-type {\n",
              "        vertical-align: middle;\n",
              "    }\n",
              "\n",
              "    .dataframe tbody tr th {\n",
              "        vertical-align: top;\n",
              "    }\n",
              "\n",
              "    .dataframe thead th {\n",
              "        text-align: right;\n",
              "    }\n",
              "</style>\n",
              "<table border=\"1\" class=\"dataframe\">\n",
              "  <thead>\n",
              "    <tr style=\"text-align: right;\">\n",
              "      <th></th>\n",
              "      <th>Survived</th>\n",
              "      <th>Pclass</th>\n",
              "      <th>Age</th>\n",
              "      <th>SiblingsSpousesAboard</th>\n",
              "      <th>ParentsChildrenAboard</th>\n",
              "      <th>Fare</th>\n",
              "      <th>Sex</th>\n",
              "    </tr>\n",
              "  </thead>\n",
              "  <tbody>\n",
              "    <tr>\n",
              "      <th>0</th>\n",
              "      <td>0</td>\n",
              "      <td>3</td>\n",
              "      <td>22.0</td>\n",
              "      <td>1</td>\n",
              "      <td>0</td>\n",
              "      <td>7.2500</td>\n",
              "      <td>1</td>\n",
              "    </tr>\n",
              "    <tr>\n",
              "      <th>1</th>\n",
              "      <td>1</td>\n",
              "      <td>1</td>\n",
              "      <td>38.0</td>\n",
              "      <td>1</td>\n",
              "      <td>0</td>\n",
              "      <td>71.2833</td>\n",
              "      <td>0</td>\n",
              "    </tr>\n",
              "    <tr>\n",
              "      <th>2</th>\n",
              "      <td>1</td>\n",
              "      <td>3</td>\n",
              "      <td>26.0</td>\n",
              "      <td>0</td>\n",
              "      <td>0</td>\n",
              "      <td>7.9250</td>\n",
              "      <td>0</td>\n",
              "    </tr>\n",
              "    <tr>\n",
              "      <th>3</th>\n",
              "      <td>1</td>\n",
              "      <td>1</td>\n",
              "      <td>35.0</td>\n",
              "      <td>1</td>\n",
              "      <td>0</td>\n",
              "      <td>53.1000</td>\n",
              "      <td>0</td>\n",
              "    </tr>\n",
              "    <tr>\n",
              "      <th>4</th>\n",
              "      <td>0</td>\n",
              "      <td>3</td>\n",
              "      <td>35.0</td>\n",
              "      <td>0</td>\n",
              "      <td>0</td>\n",
              "      <td>8.0500</td>\n",
              "      <td>1</td>\n",
              "    </tr>\n",
              "    <tr>\n",
              "      <th>...</th>\n",
              "      <td>...</td>\n",
              "      <td>...</td>\n",
              "      <td>...</td>\n",
              "      <td>...</td>\n",
              "      <td>...</td>\n",
              "      <td>...</td>\n",
              "      <td>...</td>\n",
              "    </tr>\n",
              "    <tr>\n",
              "      <th>882</th>\n",
              "      <td>0</td>\n",
              "      <td>2</td>\n",
              "      <td>27.0</td>\n",
              "      <td>0</td>\n",
              "      <td>0</td>\n",
              "      <td>13.0000</td>\n",
              "      <td>1</td>\n",
              "    </tr>\n",
              "    <tr>\n",
              "      <th>883</th>\n",
              "      <td>1</td>\n",
              "      <td>1</td>\n",
              "      <td>19.0</td>\n",
              "      <td>0</td>\n",
              "      <td>0</td>\n",
              "      <td>30.0000</td>\n",
              "      <td>0</td>\n",
              "    </tr>\n",
              "    <tr>\n",
              "      <th>884</th>\n",
              "      <td>0</td>\n",
              "      <td>3</td>\n",
              "      <td>7.0</td>\n",
              "      <td>1</td>\n",
              "      <td>2</td>\n",
              "      <td>23.4500</td>\n",
              "      <td>0</td>\n",
              "    </tr>\n",
              "    <tr>\n",
              "      <th>885</th>\n",
              "      <td>1</td>\n",
              "      <td>1</td>\n",
              "      <td>26.0</td>\n",
              "      <td>0</td>\n",
              "      <td>0</td>\n",
              "      <td>30.0000</td>\n",
              "      <td>1</td>\n",
              "    </tr>\n",
              "    <tr>\n",
              "      <th>886</th>\n",
              "      <td>0</td>\n",
              "      <td>3</td>\n",
              "      <td>32.0</td>\n",
              "      <td>0</td>\n",
              "      <td>0</td>\n",
              "      <td>7.7500</td>\n",
              "      <td>1</td>\n",
              "    </tr>\n",
              "  </tbody>\n",
              "</table>\n",
              "<p>887 rows × 7 columns</p>\n",
              "</div>\n",
              "      <button class=\"colab-df-convert\" onclick=\"convertToInteractive('df-6dc8e4d9-9248-4fb8-aa7a-5af5fef32e1d')\"\n",
              "              title=\"Convert this dataframe to an interactive table.\"\n",
              "              style=\"display:none;\">\n",
              "        \n",
              "  <svg xmlns=\"http://www.w3.org/2000/svg\" height=\"24px\"viewBox=\"0 0 24 24\"\n",
              "       width=\"24px\">\n",
              "    <path d=\"M0 0h24v24H0V0z\" fill=\"none\"/>\n",
              "    <path d=\"M18.56 5.44l.94 2.06.94-2.06 2.06-.94-2.06-.94-.94-2.06-.94 2.06-2.06.94zm-11 1L8.5 8.5l.94-2.06 2.06-.94-2.06-.94L8.5 2.5l-.94 2.06-2.06.94zm10 10l.94 2.06.94-2.06 2.06-.94-2.06-.94-.94-2.06-.94 2.06-2.06.94z\"/><path d=\"M17.41 7.96l-1.37-1.37c-.4-.4-.92-.59-1.43-.59-.52 0-1.04.2-1.43.59L10.3 9.45l-7.72 7.72c-.78.78-.78 2.05 0 2.83L4 21.41c.39.39.9.59 1.41.59.51 0 1.02-.2 1.41-.59l7.78-7.78 2.81-2.81c.8-.78.8-2.07 0-2.86zM5.41 20L4 18.59l7.72-7.72 1.47 1.35L5.41 20z\"/>\n",
              "  </svg>\n",
              "      </button>\n",
              "      \n",
              "  <style>\n",
              "    .colab-df-container {\n",
              "      display:flex;\n",
              "      flex-wrap:wrap;\n",
              "      gap: 12px;\n",
              "    }\n",
              "\n",
              "    .colab-df-convert {\n",
              "      background-color: #E8F0FE;\n",
              "      border: none;\n",
              "      border-radius: 50%;\n",
              "      cursor: pointer;\n",
              "      display: none;\n",
              "      fill: #1967D2;\n",
              "      height: 32px;\n",
              "      padding: 0 0 0 0;\n",
              "      width: 32px;\n",
              "    }\n",
              "\n",
              "    .colab-df-convert:hover {\n",
              "      background-color: #E2EBFA;\n",
              "      box-shadow: 0px 1px 2px rgba(60, 64, 67, 0.3), 0px 1px 3px 1px rgba(60, 64, 67, 0.15);\n",
              "      fill: #174EA6;\n",
              "    }\n",
              "\n",
              "    [theme=dark] .colab-df-convert {\n",
              "      background-color: #3B4455;\n",
              "      fill: #D2E3FC;\n",
              "    }\n",
              "\n",
              "    [theme=dark] .colab-df-convert:hover {\n",
              "      background-color: #434B5C;\n",
              "      box-shadow: 0px 1px 3px 1px rgba(0, 0, 0, 0.15);\n",
              "      filter: drop-shadow(0px 1px 2px rgba(0, 0, 0, 0.3));\n",
              "      fill: #FFFFFF;\n",
              "    }\n",
              "  </style>\n",
              "\n",
              "      <script>\n",
              "        const buttonEl =\n",
              "          document.querySelector('#df-6dc8e4d9-9248-4fb8-aa7a-5af5fef32e1d button.colab-df-convert');\n",
              "        buttonEl.style.display =\n",
              "          google.colab.kernel.accessAllowed ? 'block' : 'none';\n",
              "\n",
              "        async function convertToInteractive(key) {\n",
              "          const element = document.querySelector('#df-6dc8e4d9-9248-4fb8-aa7a-5af5fef32e1d');\n",
              "          const dataTable =\n",
              "            await google.colab.kernel.invokeFunction('convertToInteractive',\n",
              "                                                     [key], {});\n",
              "          if (!dataTable) return;\n",
              "\n",
              "          const docLinkHtml = 'Like what you see? Visit the ' +\n",
              "            '<a target=\"_blank\" href=https://colab.research.google.com/notebooks/data_table.ipynb>data table notebook</a>'\n",
              "            + ' to learn more about interactive tables.';\n",
              "          element.innerHTML = '';\n",
              "          dataTable['output_type'] = 'display_data';\n",
              "          await google.colab.output.renderOutput(dataTable, element);\n",
              "          const docLink = document.createElement('div');\n",
              "          docLink.innerHTML = docLinkHtml;\n",
              "          element.appendChild(docLink);\n",
              "        }\n",
              "      </script>\n",
              "    </div>\n",
              "  </div>\n",
              "  "
            ]
          },
          "metadata": {},
          "execution_count": 69
        }
      ]
    },
    {
      "cell_type": "markdown",
      "source": [
        "Se quitan los nombres para utilizar solo variables cuantitativas"
      ],
      "metadata": {
        "id": "KesSiUQKMDJg"
      },
      "id": "KesSiUQKMDJg"
    },
    {
      "cell_type": "markdown",
      "source": [
        "Asignar y dividir los datos de entrenamiento y de test"
      ],
      "metadata": {
        "id": "XQAtEkhBMIO6"
      },
      "id": "XQAtEkhBMIO6"
    },
    {
      "cell_type": "code",
      "source": [
        "x=df3.values\n",
        "y= df1['Survived'].values"
      ],
      "metadata": {
        "id": "YMSi2iEzL---"
      },
      "id": "YMSi2iEzL---",
      "execution_count": null,
      "outputs": []
    },
    {
      "cell_type": "markdown",
      "source": [
        "Como el Target de los modelos es survived se quitara del conjunto de entrenamiento"
      ],
      "metadata": {
        "id": "rPryF7gVMN66"
      },
      "id": "rPryF7gVMN66"
    },
    {
      "cell_type": "code",
      "source": [
        "x"
      ],
      "metadata": {
        "colab": {
          "base_uri": "https://localhost:8080/"
        },
        "id": "XfNrlVaPMPut",
        "outputId": "8e1697e1-a394-4230-afed-fe39b2bd073d"
      },
      "id": "XfNrlVaPMPut",
      "execution_count": null,
      "outputs": [
        {
          "output_type": "execute_result",
          "data": {
            "text/plain": [
              "array([[ 0.    ,  3.    , 22.    , ...,  0.    ,  7.25  ,  1.    ],\n",
              "       [ 1.    ,  1.    , 38.    , ...,  0.    , 71.2833,  0.    ],\n",
              "       [ 1.    ,  3.    , 26.    , ...,  0.    ,  7.925 ,  0.    ],\n",
              "       ...,\n",
              "       [ 0.    ,  3.    ,  7.    , ...,  2.    , 23.45  ,  0.    ],\n",
              "       [ 1.    ,  1.    , 26.    , ...,  0.    , 30.    ,  1.    ],\n",
              "       [ 0.    ,  3.    , 32.    , ...,  0.    ,  7.75  ,  1.    ]])"
            ]
          },
          "metadata": {},
          "execution_count": 71
        }
      ]
    },
    {
      "cell_type": "code",
      "source": [
        "x=np.delete(x,0,axis=1)"
      ],
      "metadata": {
        "id": "yN9BrSxRMS2w"
      },
      "id": "yN9BrSxRMS2w",
      "execution_count": null,
      "outputs": []
    },
    {
      "cell_type": "code",
      "source": [
        "x"
      ],
      "metadata": {
        "colab": {
          "base_uri": "https://localhost:8080/"
        },
        "id": "Ty_6BY-_MWLB",
        "outputId": "b91dd7c2-f497-477d-f658-58e98adfefd9"
      },
      "id": "Ty_6BY-_MWLB",
      "execution_count": null,
      "outputs": [
        {
          "output_type": "execute_result",
          "data": {
            "text/plain": [
              "array([[ 3.    , 22.    ,  1.    ,  0.    ,  7.25  ,  1.    ],\n",
              "       [ 1.    , 38.    ,  1.    ,  0.    , 71.2833,  0.    ],\n",
              "       [ 3.    , 26.    ,  0.    ,  0.    ,  7.925 ,  0.    ],\n",
              "       ...,\n",
              "       [ 3.    ,  7.    ,  1.    ,  2.    , 23.45  ,  0.    ],\n",
              "       [ 1.    , 26.    ,  0.    ,  0.    , 30.    ,  1.    ],\n",
              "       [ 3.    , 32.    ,  0.    ,  0.    ,  7.75  ,  1.    ]])"
            ]
          },
          "metadata": {},
          "execution_count": 73
        }
      ]
    },
    {
      "cell_type": "markdown",
      "source": [
        "Se dividen los datos en 70% y 30%"
      ],
      "metadata": {
        "id": "HmNXc5xxMaJd"
      },
      "id": "HmNXc5xxMaJd"
    },
    {
      "cell_type": "code",
      "source": [
        "from sklearn.model_selection import train_test_split\n",
        "x_train,x_test,y_train,y_test = train_test_split(x,y,test_size=0.3,random_state=0)"
      ],
      "metadata": {
        "id": "P91barD9Tk4h"
      },
      "id": "P91barD9Tk4h",
      "execution_count": null,
      "outputs": []
    },
    {
      "cell_type": "markdown",
      "source": [
        "Se estandarizan los datos "
      ],
      "metadata": {
        "id": "DM8TuVGeRAXX"
      },
      "id": "DM8TuVGeRAXX"
    },
    {
      "cell_type": "code",
      "source": [
        "from sklearn.preprocessing import MinMaxScaler\n",
        "scaler= MinMaxScaler(feature_range=(0,1))\n",
        "x_train_mm = scaler.fit_transform(x_train)\n",
        "x_test_mm= scaler.transform(x_test)"
      ],
      "metadata": {
        "id": "uSYgwjLeVEwW"
      },
      "id": "uSYgwjLeVEwW",
      "execution_count": null,
      "outputs": []
    },
    {
      "cell_type": "markdown",
      "source": [
        "##Decision Tree"
      ],
      "metadata": {
        "id": "W6Izn9cHMnGo"
      },
      "id": "W6Izn9cHMnGo"
    },
    {
      "cell_type": "code",
      "source": [
        "from sklearn import tree\n",
        "dt_clf=tree.DecisionTreeClassifier(max_depth=5)\n",
        "dt_clf.fit(x_train_mm,y_train)\n",
        "dt_clf.score(x_test_mm,y_test)\n",
        "y_pred=dt_clf.predict(x_test)\n",
        "dt_clf.score(x_test_mm , y_test)"
      ],
      "metadata": {
        "colab": {
          "base_uri": "https://localhost:8080/"
        },
        "id": "zSyEilC9VqEP",
        "outputId": "7adb0a93-5f54-4dda-dec7-16f89dda9076"
      },
      "id": "zSyEilC9VqEP",
      "execution_count": null,
      "outputs": [
        {
          "output_type": "execute_result",
          "data": {
            "text/plain": [
              "0.7790262172284644"
            ]
          },
          "metadata": {},
          "execution_count": 76
        }
      ]
    },
    {
      "cell_type": "markdown",
      "source": [
        "## SVM"
      ],
      "metadata": {
        "id": "-IgoAVAWV8ob"
      },
      "id": "-IgoAVAWV8ob"
    },
    {
      "cell_type": "code",
      "source": [
        "from sklearn.svm import SVC\n",
        "sv_clf=SVC(probability=True)\n",
        "sv_clf.fit(x_test_mm , y_test)\n",
        "sv_clf.score(x_test_mm , y_test)"
      ],
      "metadata": {
        "colab": {
          "base_uri": "https://localhost:8080/"
        },
        "id": "ljzODQYqV_J1",
        "outputId": "fd74e1c1-dc14-4192-b963-7cb2ae33e2cc"
      },
      "id": "ljzODQYqV_J1",
      "execution_count": null,
      "outputs": [
        {
          "output_type": "execute_result",
          "data": {
            "text/plain": [
              "0.8014981273408239"
            ]
          },
          "metadata": {},
          "execution_count": 77
        }
      ]
    },
    {
      "cell_type": "markdown",
      "source": [
        "##Random Forest Classifier"
      ],
      "metadata": {
        "id": "qbqQfYfsXMBa"
      },
      "id": "qbqQfYfsXMBa"
    },
    {
      "cell_type": "code",
      "source": [
        "from sklearn import ensemble \n",
        "rf_clf= ensemble.RandomForestClassifier(n_estimators=100)\n",
        "rf_clf.fit(x_train_mm,y_train)\n",
        "rf_clf.score(x_test_mm,y_test)"
      ],
      "metadata": {
        "colab": {
          "base_uri": "https://localhost:8080/"
        },
        "id": "qVMJ7RDBWsjS",
        "outputId": "2d8a7a1f-60bc-4bad-9191-1db8afee49c8"
      },
      "id": "qVMJ7RDBWsjS",
      "execution_count": null,
      "outputs": [
        {
          "output_type": "execute_result",
          "data": {
            "text/plain": [
              "0.8164794007490637"
            ]
          },
          "metadata": {},
          "execution_count": 78
        }
      ]
    },
    {
      "cell_type": "markdown",
      "source": [
        "Curva Roc"
      ],
      "metadata": {
        "id": "s8OrxChnrCvJ"
      },
      "id": "s8OrxChnrCvJ"
    },
    {
      "cell_type": "code",
      "source": [
        "r_probs = [0 for _ in range(len(y_test))]\n",
        "dt_probs= dt_clf.predict_proba(x_test_mm)\n",
        "rf_probs = rf_clf.predict_proba(x_test_mm)\n",
        "sv_probs=sv_clf.predict_proba(x_test_mm)"
      ],
      "metadata": {
        "id": "R_X6CJJgrese"
      },
      "id": "R_X6CJJgrese",
      "execution_count": null,
      "outputs": []
    },
    {
      "cell_type": "code",
      "source": [
        "rf_probs=rf_probs[:,1]\n",
        "sv_probs=sv_probs[:, 1]\n",
        "dt_probs=dt_probs[:,1]"
      ],
      "metadata": {
        "id": "zV3ZrEfcrwyf"
      },
      "id": "zV3ZrEfcrwyf",
      "execution_count": null,
      "outputs": []
    },
    {
      "cell_type": "code",
      "source": [
        "from sklearn.metrics import roc_curve, roc_auc_score\n",
        "dt_auc=roc_auc_score(y_test,dt_probs)\n",
        "rf_auc=roc_auc_score(y_test,rf_probs)\n",
        "sv_auc=roc_auc_score(y_test,sv_probs)\n",
        "r_auc=roc_auc_score(y_test,r_probs)"
      ],
      "metadata": {
        "id": "e2Aqg3yqsc_o"
      },
      "id": "e2Aqg3yqsc_o",
      "execution_count": null,
      "outputs": []
    },
    {
      "cell_type": "markdown",
      "source": [
        "Score de Area bajo la curva para cada uno"
      ],
      "metadata": {
        "id": "JVTWlVS7sqt0"
      },
      "id": "JVTWlVS7sqt0"
    },
    {
      "cell_type": "code",
      "source": [
        "dt_auc\n",
        "\n"
      ],
      "metadata": {
        "colab": {
          "base_uri": "https://localhost:8080/"
        },
        "id": "p15j2rVSsjTW",
        "outputId": "0169b12f-7db2-4b53-a77d-168e7be68cdf"
      },
      "id": "p15j2rVSsjTW",
      "execution_count": null,
      "outputs": [
        {
          "output_type": "execute_result",
          "data": {
            "text/plain": [
              "0.8176366843033509"
            ]
          },
          "metadata": {},
          "execution_count": 82
        }
      ]
    },
    {
      "cell_type": "code",
      "source": [
        "rf_auc"
      ],
      "metadata": {
        "colab": {
          "base_uri": "https://localhost:8080/"
        },
        "id": "sNqMN5U2su0I",
        "outputId": "37a6a8f4-09c4-4e35-c90f-4e499dbff14a"
      },
      "id": "sNqMN5U2su0I",
      "execution_count": null,
      "outputs": [
        {
          "output_type": "execute_result",
          "data": {
            "text/plain": [
              "0.8536449147560259"
            ]
          },
          "metadata": {},
          "execution_count": 83
        }
      ]
    },
    {
      "cell_type": "code",
      "source": [
        "sv_auc"
      ],
      "metadata": {
        "colab": {
          "base_uri": "https://localhost:8080/"
        },
        "id": "CeHk366StZ2y",
        "outputId": "d50dc75d-37c9-416b-c740-f82d00d6b7c6"
      },
      "id": "CeHk366StZ2y",
      "execution_count": null,
      "outputs": [
        {
          "output_type": "execute_result",
          "data": {
            "text/plain": [
              "0.8681951793062904"
            ]
          },
          "metadata": {},
          "execution_count": 84
        }
      ]
    },
    {
      "cell_type": "code",
      "source": [
        "r_fpr,r_tpr,_ = roc_curve(y_test, r_probs)\n",
        "rf_fpr,rf_tpr,_ = roc_curve(y_test, rf_probs)\n",
        "sv_fpr , sv_tpr,_ = roc_curve(y_test,sv_probs)\n",
        "dt_fpr, dt_tpr,_ = roc_curve(y_test,dt_probs)"
      ],
      "metadata": {
        "id": "jCO0O4uUtjZt"
      },
      "id": "jCO0O4uUtjZt",
      "execution_count": null,
      "outputs": []
    },
    {
      "cell_type": "code",
      "source": [
        "import matplotlib.pyplot as plt \n",
        "plt.plot(r_fpr,r_tpr, linestyle=\"--\", label=\"Prediccion\" % r_auc)\n",
        "plt.plot(rf_fpr,rf_tpr, linestyle=\"--\", label=\"Random forest\" % rf_auc)\n",
        "plt.plot(dt_fpr,dt_tpr, linestyle=\"--\", label=\"Arboles de decision\" % dt_auc)\n",
        "plt.plot(sv_fpr,sv_tpr, linestyle=\"--\", label=\"svm\" % sv_auc)\n",
        "\n",
        "plt.title('Curva ROC')\n",
        "plt.legend()"
      ],
      "metadata": {
        "colab": {
          "base_uri": "https://localhost:8080/"
        },
        "id": "ZRzpun3qtz8u",
        "outputId": "3c55a6df-b39b-4052-e72d-74347508d149"
      },
      "id": "ZRzpun3qtz8u",
      "execution_count": null,
      "outputs": [
        {
          "output_type": "execute_result",
          "data": {
            "text/plain": [
              "<matplotlib.legend.Legend at 0x7f0a0d349210>"
            ]
          },
          "metadata": {},
          "execution_count": 86
        },
        {
          "output_type": "display_data",
          "data": {
            "text/plain": [
              "<Figure size 432x288 with 1 Axes>"
            ],
            "image/png": "[encoded data removed]"
          },
          "metadata": {}
        }
      ]
    }
  ],
  "metadata": {
    "kernelspec": {
      "display_name": "Python 3 (ipykernel)",
      "language": "python",
      "name": "python3"
    },
    "language_info": {
      "codemirror_mode": {
        "name": "ipython",
        "version": 3
      },
      "file_extension": ".py",
      "mimetype": "text/x-python",
      "name": "python",
      "nbconvert_exporter": "python",
      "pygments_lexer": "ipython3",
      "version": "3.8.10"
    },
    "colab": {
      "name": "lab2.ipynb",
      "provenance": [],
      "collapsed_sections": [
        "2a1b8c88-89dc-45a3-84af-db9a74001edc",
        "5b149d8b-cecd-4150-8ae7-cdf458e97ba3",
        "57513548-c4aa-45a3-91a6-05550738b8a3",
        "6fbc827c-af04-479b-8beb-5f6bd11d9ced",
        "e398cfdd-3ce3-4d76-9d99-2e7288d23171",
        "2e0b6149-a242-4cb7-badb-1f316264757d",
        "989550a6-3bc8-4a89-bda1-c68f5991e0e0",
        "063d2268-02bc-4162-841a-65dad814fe1c",
        "0c35c25d-8bf4-4122-887f-dd1fc27fc3d0",
        "9eb01e42-fbf1-4876-aad0-8cc70bfd5cf6",
        "4435a1b4-4bf0-4809-ba6d-e304b867bc38",
        "24fbf472-a91f-4490-87f7-c7343c68210c",
        "6e4ac604-448e-41c1-a16b-e27806dabb34",
        "be84b1c7-6842-477a-bc9c-303322628913",
        "cc8dec83-c051-4dba-aafe-6b422ec74691",
        "794d67e2-2017-42ef-a4e5-3c68ca00f2d7",
        "430fe986-f9a0-4b1b-a14d-49e456fff757",
        "daf37c25-db51-438d-9541-7a74eb29276d",
        "1478866a-f6db-457a-a5d7-421f19066743",
        "171f3f4f-7324-45c8-8a42-6536d81f7117",
        "aea87e31-8c23-42c3-808a-fa695c667f1e",
        "51d0a896-379d-4a4a-804c-9e13deda6398",
        "760a6f42-59bb-4f56-b58f-59501933e53a",
        "06dd1d69-71c5-43dd-ad81-93bb9fa388c8",
        "1d705ecf-79ab-4ae3-9c75-3e3bdb879725",
        "74c29eb4-da2d-4383-9015-161deea4aac9",
        "e7a90372-3180-4eef-b299-bb5acc158c59",
        "7e53c7cf-34dd-4ce7-bd22-4065414071a2",
        "2904b301-53e1-4030-8a7b-3a5ab6c67f41",
        "e9125ec7-6f7c-4ba6-a179-e0705ca643a9",
        "4330f3f1-fda7-4ef8-b8ac-60cc3a62daf4"
      ]
    }
  },
  "nbformat": 4,
  "nbformat_minor": 5
}